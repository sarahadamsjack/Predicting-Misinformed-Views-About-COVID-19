{
 "cells": [
  {
   "cell_type": "code",
   "execution_count": 1,
   "metadata": {},
   "outputs": [],
   "source": [
    "import pandas as pd\n",
    "import numpy as np\n",
    "from sklearn.preprocessing import StandardScaler, OneHotEncoder\n",
    "from sklearn.impute import SimpleImputer\n",
    "from sklearn.model_selection import train_test_split\n",
    "from sklearn.linear_model import LinearRegression\n",
    "from sklearn.compose import ColumnTransformer\n",
    "from sklearn.pipeline import Pipeline\n",
    "from sklearn.decomposition import PCA\n",
    "from matplotlib import pyplot as plt\n",
    "import seaborn as sns\n",
    "import statsmodels as sm\n",
    "from statsmodels.regression.linear_model import OLS\n",
    "from sklearn.metrics import mean_squared_error as mse\n",
    "\n",
    "%matplotlib inline"
   ]
  },
  {
   "cell_type": "code",
   "execution_count": 2,
   "metadata": {},
   "outputs": [],
   "source": [
    "anes = pd.read_csv('data/anes_pilot_2020ets_csv.csv')"
   ]
  },
  {
   "cell_type": "code",
   "execution_count": 3,
   "metadata": {},
   "outputs": [],
   "source": [
    "data = anes.copy(deep = True)"
   ]
  },
  {
   "cell_type": "code",
   "execution_count": 4,
   "metadata": {},
   "outputs": [],
   "source": [
    "data.drop(inplace=True, columns=[ 'V1', 'StartDate', 'EndDate', '_v1', 'RecordedDate', 'ResponseId','qmetadata_Browser', 'qmetadata_Version', '_v2', 'qmetadata_Resolution', 'check','relig1_11_TEXT', 'mauga', 'pk_cjus', 'pk_germ', 'ethnic1', 'ethnic2', 'ethnic3'])"
   ]
  },
  {
   "cell_type": "code",
   "execution_count": 5,
   "metadata": {},
   "outputs": [],
   "source": [
    "data.dropna(inplace=True)"
   ]
  },
  {
   "cell_type": "code",
   "execution_count": 6,
   "metadata": {},
   "outputs": [
    {
     "data": {
      "text/html": [
       "<div>\n",
       "<style scoped>\n",
       "    .dataframe tbody tr th:only-of-type {\n",
       "        vertical-align: middle;\n",
       "    }\n",
       "\n",
       "    .dataframe tbody tr th {\n",
       "        vertical-align: top;\n",
       "    }\n",
       "\n",
       "    .dataframe thead th {\n",
       "        text-align: right;\n",
       "    }\n",
       "</style>\n",
       "<table border=\"1\" class=\"dataframe\">\n",
       "  <thead>\n",
       "    <tr style=\"text-align: right;\">\n",
       "      <th></th>\n",
       "      <th>follow</th>\n",
       "      <th>reg1</th>\n",
       "      <th>votemail1a</th>\n",
       "      <th>votemail1b</th>\n",
       "      <th>votecount</th>\n",
       "      <th>votemail2</th>\n",
       "      <th>voterid1</th>\n",
       "      <th>voterid2</th>\n",
       "      <th>turnout16a</th>\n",
       "      <th>turnout16a1</th>\n",
       "      <th>...</th>\n",
       "      <th>rr_scale</th>\n",
       "      <th>white</th>\n",
       "      <th>black</th>\n",
       "      <th>namer</th>\n",
       "      <th>asian</th>\n",
       "      <th>hpi</th>\n",
       "      <th>mixed</th>\n",
       "      <th>race7</th>\n",
       "      <th>vidx</th>\n",
       "      <th>vidknow</th>\n",
       "    </tr>\n",
       "  </thead>\n",
       "  <tbody>\n",
       "    <tr>\n",
       "      <th>0</th>\n",
       "      <td>1</td>\n",
       "      <td>1</td>\n",
       "      <td>4</td>\n",
       "      <td>77</td>\n",
       "      <td>4</td>\n",
       "      <td>4</td>\n",
       "      <td>1</td>\n",
       "      <td>2</td>\n",
       "      <td>1</td>\n",
       "      <td>6</td>\n",
       "      <td>...</td>\n",
       "      <td>9</td>\n",
       "      <td>1</td>\n",
       "      <td>0</td>\n",
       "      <td>0</td>\n",
       "      <td>0</td>\n",
       "      <td>0</td>\n",
       "      <td>0</td>\n",
       "      <td>1</td>\n",
       "      <td>2.0</td>\n",
       "      <td>1</td>\n",
       "    </tr>\n",
       "    <tr>\n",
       "      <th>1</th>\n",
       "      <td>2</td>\n",
       "      <td>1</td>\n",
       "      <td>5</td>\n",
       "      <td>77</td>\n",
       "      <td>3</td>\n",
       "      <td>4</td>\n",
       "      <td>1</td>\n",
       "      <td>1</td>\n",
       "      <td>1</td>\n",
       "      <td>6</td>\n",
       "      <td>...</td>\n",
       "      <td>16</td>\n",
       "      <td>1</td>\n",
       "      <td>0</td>\n",
       "      <td>0</td>\n",
       "      <td>0</td>\n",
       "      <td>0</td>\n",
       "      <td>0</td>\n",
       "      <td>1</td>\n",
       "      <td>3.0</td>\n",
       "      <td>0</td>\n",
       "    </tr>\n",
       "    <tr>\n",
       "      <th>2</th>\n",
       "      <td>2</td>\n",
       "      <td>4</td>\n",
       "      <td>4</td>\n",
       "      <td>77</td>\n",
       "      <td>3</td>\n",
       "      <td>3</td>\n",
       "      <td>1</td>\n",
       "      <td>1</td>\n",
       "      <td>2</td>\n",
       "      <td>6</td>\n",
       "      <td>...</td>\n",
       "      <td>6</td>\n",
       "      <td>0</td>\n",
       "      <td>0</td>\n",
       "      <td>0</td>\n",
       "      <td>0</td>\n",
       "      <td>0</td>\n",
       "      <td>0</td>\n",
       "      <td>5</td>\n",
       "      <td>3.0</td>\n",
       "      <td>0</td>\n",
       "    </tr>\n",
       "    <tr>\n",
       "      <th>3</th>\n",
       "      <td>2</td>\n",
       "      <td>1</td>\n",
       "      <td>6</td>\n",
       "      <td>77</td>\n",
       "      <td>3</td>\n",
       "      <td>4</td>\n",
       "      <td>1</td>\n",
       "      <td>1</td>\n",
       "      <td>1</td>\n",
       "      <td>6</td>\n",
       "      <td>...</td>\n",
       "      <td>13</td>\n",
       "      <td>1</td>\n",
       "      <td>0</td>\n",
       "      <td>0</td>\n",
       "      <td>0</td>\n",
       "      <td>0</td>\n",
       "      <td>0</td>\n",
       "      <td>1</td>\n",
       "      <td>3.0</td>\n",
       "      <td>1</td>\n",
       "    </tr>\n",
       "    <tr>\n",
       "      <th>4</th>\n",
       "      <td>4</td>\n",
       "      <td>1</td>\n",
       "      <td>1</td>\n",
       "      <td>77</td>\n",
       "      <td>3</td>\n",
       "      <td>2</td>\n",
       "      <td>1</td>\n",
       "      <td>2</td>\n",
       "      <td>1</td>\n",
       "      <td>6</td>\n",
       "      <td>...</td>\n",
       "      <td>4</td>\n",
       "      <td>0</td>\n",
       "      <td>1</td>\n",
       "      <td>0</td>\n",
       "      <td>0</td>\n",
       "      <td>0</td>\n",
       "      <td>0</td>\n",
       "      <td>2</td>\n",
       "      <td>2.0</td>\n",
       "      <td>0</td>\n",
       "    </tr>\n",
       "  </tbody>\n",
       "</table>\n",
       "<p>5 rows × 452 columns</p>\n",
       "</div>"
      ],
      "text/plain": [
       "   follow  reg1  votemail1a  votemail1b  votecount  votemail2  voterid1  \\\n",
       "0       1     1           4          77          4          4         1   \n",
       "1       2     1           5          77          3          4         1   \n",
       "2       2     4           4          77          3          3         1   \n",
       "3       2     1           6          77          3          4         1   \n",
       "4       4     1           1          77          3          2         1   \n",
       "\n",
       "   voterid2  turnout16a  turnout16a1  ...  rr_scale  white  black  namer  \\\n",
       "0         2           1            6  ...         9      1      0      0   \n",
       "1         1           1            6  ...        16      1      0      0   \n",
       "2         1           2            6  ...         6      0      0      0   \n",
       "3         1           1            6  ...        13      1      0      0   \n",
       "4         2           1            6  ...         4      0      1      0   \n",
       "\n",
       "   asian  hpi  mixed  race7  vidx  vidknow  \n",
       "0      0    0      0      1   2.0        1  \n",
       "1      0    0      0      1   3.0        0  \n",
       "2      0    0      0      5   3.0        0  \n",
       "3      0    0      0      1   3.0        1  \n",
       "4      0    0      0      2   2.0        0  \n",
       "\n",
       "[5 rows x 452 columns]"
      ]
     },
     "execution_count": 6,
     "metadata": {},
     "output_type": "execute_result"
    }
   ],
   "source": [
    "data.head()"
   ]
  },
  {
   "cell_type": "code",
   "execution_count": 7,
   "metadata": {},
   "outputs": [
    {
     "data": {
      "text/plain": [
       "77    1497\n",
       "1      472\n",
       "2      284\n",
       "4      265\n",
       "7      231\n",
       "3      177\n",
       "5       84\n",
       "6       68\n",
       "Name: votemail1b, dtype: int64"
      ]
     },
     "execution_count": 7,
     "metadata": {},
     "output_type": "execute_result"
    }
   ],
   "source": [
    "data['votemail1b'].value_counts()"
   ]
  },
  {
   "cell_type": "code",
   "execution_count": 8,
   "metadata": {},
   "outputs": [
    {
     "data": {
      "text/plain": [
       "2    0.556205\n",
       "1    0.442495\n",
       "9    0.001300\n",
       "Name: mis_covid1, dtype: float64"
      ]
     },
     "execution_count": 8,
     "metadata": {},
     "output_type": "execute_result"
    }
   ],
   "source": [
    "data['mis_covid1'].value_counts(normalize=True)"
   ]
  },
  {
   "cell_type": "code",
   "execution_count": 9,
   "metadata": {},
   "outputs": [],
   "source": [
    "data.drop(data[data['mis_covid1'] == 9].index, inplace=True)"
   ]
  },
  {
   "cell_type": "code",
   "execution_count": 10,
   "metadata": {},
   "outputs": [],
   "source": [
    "data.drop(data[data['mis_covid2'] == 9].index, inplace=True)"
   ]
  },
  {
   "cell_type": "code",
   "execution_count": 11,
   "metadata": {},
   "outputs": [
    {
     "data": {
      "text/plain": [
       "2    0.795573\n",
       "1    0.204427\n",
       "Name: mis_covid2, dtype: float64"
      ]
     },
     "execution_count": 11,
     "metadata": {},
     "output_type": "execute_result"
    }
   ],
   "source": [
    "data['mis_covid2'].value_counts(normalize=True)"
   ]
  },
  {
   "cell_type": "code",
   "execution_count": 12,
   "metadata": {},
   "outputs": [
    {
     "data": {
      "text/plain": [
       "1     1001\n",
       "66     621\n",
       "2      551\n",
       "3      401\n",
       "4      229\n",
       "5      107\n",
       "7       85\n",
       "6       77\n",
       "Name: facebook1, dtype: int64"
      ]
     },
     "execution_count": 12,
     "metadata": {},
     "output_type": "execute_result"
    }
   ],
   "source": [
    "data['facebook1'].value_counts()"
   ]
  },
  {
   "cell_type": "markdown",
   "metadata": {},
   "source": [
    "# target variable time"
   ]
  },
  {
   "cell_type": "code",
   "execution_count": 13,
   "metadata": {},
   "outputs": [],
   "source": [
    "#renaming column to be more reflective \n",
    "data.rename(columns={\"mis_covid1\": 'covid_lab'}, inplace = True)"
   ]
  },
  {
   "cell_type": "code",
   "execution_count": 14,
   "metadata": {},
   "outputs": [],
   "source": [
    "#renaming column to be more reflective \n",
    "data.rename(columns={\"mis_covid2\": 'covid_vax'}, inplace = True)"
   ]
  },
  {
   "cell_type": "code",
   "execution_count": 15,
   "metadata": {},
   "outputs": [],
   "source": [
    "#changing the values so that a misinformed response is a 1 and an informed response is a 0 \n",
    "data.covid_lab.replace((2,1), (0,1), inplace=True)"
   ]
  },
  {
   "cell_type": "code",
   "execution_count": 16,
   "metadata": {},
   "outputs": [],
   "source": [
    "#changing the values so that a misinformed response is a 1 and an informed response is a 0 \n",
    "data.covid_vax.replace((2,1), (0,1), inplace=True)"
   ]
  },
  {
   "cell_type": "code",
   "execution_count": 17,
   "metadata": {},
   "outputs": [],
   "source": [
    "#creating a new column - my target variable : a covid misinformation score that combines the two scores from above \n",
    "data['covid_mis_score'] = data['covid_lab'] + data['covid_vax']"
   ]
  },
  {
   "cell_type": "code",
   "execution_count": 18,
   "metadata": {},
   "outputs": [
    {
     "data": {
      "text/plain": [
       "0    1577\n",
       "1    1002\n",
       "2     493\n",
       "Name: covid_mis_score, dtype: int64"
      ]
     },
     "execution_count": 18,
     "metadata": {},
     "output_type": "execute_result"
    }
   ],
   "source": [
    "# looking at the distribution of scores \n",
    "data['covid_mis_score'].value_counts()"
   ]
  },
  {
   "cell_type": "markdown",
   "metadata": {},
   "source": [
    "# PCA TIME"
   ]
  },
  {
   "cell_type": "code",
   "execution_count": 19,
   "metadata": {},
   "outputs": [],
   "source": [
    "X = data.drop(columns=['covid_mis_score'], axis=1).values\n",
    "y = data['covid_mis_score'].values\n"
   ]
  },
  {
   "cell_type": "code",
   "execution_count": 20,
   "metadata": {},
   "outputs": [],
   "source": [
    "from sklearn.preprocessing import StandardScaler\n",
    "\n",
    "# Standardize the features\n",
    "X = StandardScaler().fit_transform(X)\n",
    "\n"
   ]
  },
  {
   "cell_type": "code",
   "execution_count": 23,
   "metadata": {},
   "outputs": [],
   "source": [
    "from sklearn.decomposition import PCA\n",
    "\n",
    "# Instantiate PCA\n",
    "pca = PCA(n_components=.9)\n",
    "\n",
    "# Fit PCA\n",
    "principalComponents = pca.fit_transform(X)"
   ]
  },
  {
   "cell_type": "code",
   "execution_count": 26,
   "metadata": {},
   "outputs": [
    {
     "data": {
      "text/html": [
       "<div>\n",
       "<style scoped>\n",
       "    .dataframe tbody tr th:only-of-type {\n",
       "        vertical-align: middle;\n",
       "    }\n",
       "\n",
       "    .dataframe tbody tr th {\n",
       "        vertical-align: top;\n",
       "    }\n",
       "\n",
       "    .dataframe thead th {\n",
       "        text-align: right;\n",
       "    }\n",
       "</style>\n",
       "<table border=\"1\" class=\"dataframe\">\n",
       "  <thead>\n",
       "    <tr style=\"text-align: right;\">\n",
       "      <th></th>\n",
       "      <th>0</th>\n",
       "      <th>1</th>\n",
       "      <th>2</th>\n",
       "      <th>3</th>\n",
       "      <th>4</th>\n",
       "      <th>5</th>\n",
       "      <th>6</th>\n",
       "      <th>7</th>\n",
       "      <th>8</th>\n",
       "      <th>9</th>\n",
       "      <th>...</th>\n",
       "      <th>124</th>\n",
       "      <th>125</th>\n",
       "      <th>126</th>\n",
       "      <th>127</th>\n",
       "      <th>128</th>\n",
       "      <th>129</th>\n",
       "      <th>130</th>\n",
       "      <th>131</th>\n",
       "      <th>132</th>\n",
       "      <th>covid_mis_score</th>\n",
       "    </tr>\n",
       "  </thead>\n",
       "  <tbody>\n",
       "    <tr>\n",
       "      <th>0</th>\n",
       "      <td>-12.877622</td>\n",
       "      <td>1.392030</td>\n",
       "      <td>1.161187</td>\n",
       "      <td>12.227746</td>\n",
       "      <td>9.563137</td>\n",
       "      <td>-8.008106</td>\n",
       "      <td>-5.214783</td>\n",
       "      <td>0.471178</td>\n",
       "      <td>-0.164906</td>\n",
       "      <td>-4.775640</td>\n",
       "      <td>...</td>\n",
       "      <td>1.536519</td>\n",
       "      <td>0.363350</td>\n",
       "      <td>-1.418881</td>\n",
       "      <td>-1.265129</td>\n",
       "      <td>2.670137</td>\n",
       "      <td>-1.091212</td>\n",
       "      <td>0.067607</td>\n",
       "      <td>-2.813018</td>\n",
       "      <td>2.127873</td>\n",
       "      <td>0.0</td>\n",
       "    </tr>\n",
       "    <tr>\n",
       "      <th>1</th>\n",
       "      <td>-12.985477</td>\n",
       "      <td>3.871361</td>\n",
       "      <td>4.147229</td>\n",
       "      <td>-0.014748</td>\n",
       "      <td>-0.402384</td>\n",
       "      <td>0.238286</td>\n",
       "      <td>1.071918</td>\n",
       "      <td>0.543284</td>\n",
       "      <td>-1.582759</td>\n",
       "      <td>-3.274836</td>\n",
       "      <td>...</td>\n",
       "      <td>0.312065</td>\n",
       "      <td>0.112042</td>\n",
       "      <td>0.732399</td>\n",
       "      <td>0.038272</td>\n",
       "      <td>0.239438</td>\n",
       "      <td>0.578691</td>\n",
       "      <td>0.230516</td>\n",
       "      <td>-0.142289</td>\n",
       "      <td>0.721962</td>\n",
       "      <td>0.0</td>\n",
       "    </tr>\n",
       "    <tr>\n",
       "      <th>2</th>\n",
       "      <td>-14.044918</td>\n",
       "      <td>-5.540263</td>\n",
       "      <td>-4.148771</td>\n",
       "      <td>6.382533</td>\n",
       "      <td>-0.723177</td>\n",
       "      <td>1.239731</td>\n",
       "      <td>-2.389513</td>\n",
       "      <td>-3.894610</td>\n",
       "      <td>-3.598717</td>\n",
       "      <td>-1.137212</td>\n",
       "      <td>...</td>\n",
       "      <td>2.122709</td>\n",
       "      <td>2.211847</td>\n",
       "      <td>-1.972640</td>\n",
       "      <td>-1.466307</td>\n",
       "      <td>0.613691</td>\n",
       "      <td>-1.970127</td>\n",
       "      <td>-0.238571</td>\n",
       "      <td>-1.480236</td>\n",
       "      <td>-1.514887</td>\n",
       "      <td>0.0</td>\n",
       "    </tr>\n",
       "    <tr>\n",
       "      <th>3</th>\n",
       "      <td>-13.148392</td>\n",
       "      <td>5.266683</td>\n",
       "      <td>-0.403316</td>\n",
       "      <td>1.497424</td>\n",
       "      <td>3.455635</td>\n",
       "      <td>-2.218039</td>\n",
       "      <td>0.577216</td>\n",
       "      <td>-0.666941</td>\n",
       "      <td>-1.967656</td>\n",
       "      <td>-7.039026</td>\n",
       "      <td>...</td>\n",
       "      <td>1.156364</td>\n",
       "      <td>-0.002293</td>\n",
       "      <td>-0.049160</td>\n",
       "      <td>-0.656953</td>\n",
       "      <td>0.398277</td>\n",
       "      <td>-0.192152</td>\n",
       "      <td>0.048720</td>\n",
       "      <td>-0.807418</td>\n",
       "      <td>0.956621</td>\n",
       "      <td>0.0</td>\n",
       "    </tr>\n",
       "    <tr>\n",
       "      <th>4</th>\n",
       "      <td>-12.761139</td>\n",
       "      <td>1.040967</td>\n",
       "      <td>-4.152609</td>\n",
       "      <td>-1.005863</td>\n",
       "      <td>-2.996620</td>\n",
       "      <td>-4.390942</td>\n",
       "      <td>3.869029</td>\n",
       "      <td>0.949048</td>\n",
       "      <td>2.416722</td>\n",
       "      <td>-0.094967</td>\n",
       "      <td>...</td>\n",
       "      <td>0.584633</td>\n",
       "      <td>-0.472453</td>\n",
       "      <td>0.661439</td>\n",
       "      <td>0.553679</td>\n",
       "      <td>-0.040789</td>\n",
       "      <td>1.261413</td>\n",
       "      <td>0.867093</td>\n",
       "      <td>-0.307365</td>\n",
       "      <td>0.700723</td>\n",
       "      <td>0.0</td>\n",
       "    </tr>\n",
       "  </tbody>\n",
       "</table>\n",
       "<p>5 rows × 134 columns</p>\n",
       "</div>"
      ],
      "text/plain": [
       "           0         1         2          3         4         5         6  \\\n",
       "0 -12.877622  1.392030  1.161187  12.227746  9.563137 -8.008106 -5.214783   \n",
       "1 -12.985477  3.871361  4.147229  -0.014748 -0.402384  0.238286  1.071918   \n",
       "2 -14.044918 -5.540263 -4.148771   6.382533 -0.723177  1.239731 -2.389513   \n",
       "3 -13.148392  5.266683 -0.403316   1.497424  3.455635 -2.218039  0.577216   \n",
       "4 -12.761139  1.040967 -4.152609  -1.005863 -2.996620 -4.390942  3.869029   \n",
       "\n",
       "          7         8         9  ...       124       125       126       127  \\\n",
       "0  0.471178 -0.164906 -4.775640  ...  1.536519  0.363350 -1.418881 -1.265129   \n",
       "1  0.543284 -1.582759 -3.274836  ...  0.312065  0.112042  0.732399  0.038272   \n",
       "2 -3.894610 -3.598717 -1.137212  ...  2.122709  2.211847 -1.972640 -1.466307   \n",
       "3 -0.666941 -1.967656 -7.039026  ...  1.156364 -0.002293 -0.049160 -0.656953   \n",
       "4  0.949048  2.416722 -0.094967  ...  0.584633 -0.472453  0.661439  0.553679   \n",
       "\n",
       "        128       129       130       131       132  covid_mis_score  \n",
       "0  2.670137 -1.091212  0.067607 -2.813018  2.127873              0.0  \n",
       "1  0.239438  0.578691  0.230516 -0.142289  0.721962              0.0  \n",
       "2  0.613691 -1.970127 -0.238571 -1.480236 -1.514887              0.0  \n",
       "3  0.398277 -0.192152  0.048720 -0.807418  0.956621              0.0  \n",
       "4 -0.040789  1.261413  0.867093 -0.307365  0.700723              0.0  \n",
       "\n",
       "[5 rows x 134 columns]"
      ]
     },
     "execution_count": 26,
     "metadata": {},
     "output_type": "execute_result"
    }
   ],
   "source": [
    "df = pd.DataFrame(data = principalComponents)\n",
    "\n",
    "target = pd.Series(data['covid_mis_score'], name='covid_mis_score')\n",
    "\n",
    "result_df = pd.concat([df, target], axis=1)\n",
    "result_df.head(5)"
   ]
  },
  {
   "cell_type": "code",
   "execution_count": null,
   "metadata": {},
   "outputs": [],
   "source": [
    "#julian note: make a predictive model, this is something to use for a random forest - the problem is in thee translation"
   ]
  },
  {
   "cell_type": "code",
   "execution_count": 24,
   "metadata": {},
   "outputs": [],
   "source": [
    "plt.style.use('seaborn-dark')\n",
    "fig = plt.figure(figsize = (10,8))\n",
    "ax = fig.add_subplot(1,1,1) \n",
    "ax.set_xlabel('First Principal Component ', fontsize = 15)\n",
    "ax.set_ylabel('Second Principal Component ', fontsize = 15)\n",
    "ax.set_title('Principal Component Analysis (2PCs) for Iris Dataset', fontsize = 20)\n",
    "\n",
    "targets = [0, 1, 2]\n",
    "colors = ['r', 'g', 'b']\n",
    "for target, color in zip(targets, colors):\n",
    "    indicesToKeep = data['covid_mis_score'] == target\n",
    "    ax.scatter(result_df.loc[indicesToKeep, 'PC1'], \n",
    "               result_df.loc[indicesToKeep, 'PC2'], \n",
    "               c = color, \n",
    "               s = 50)\n",
    "ax.legend(targets)\n",
    "ax.grid()"
   ]
  },
  {
   "cell_type": "code",
   "execution_count": null,
   "metadata": {},
   "outputs": [],
   "source": []
  },
  {
   "cell_type": "code",
   "execution_count": null,
   "metadata": {},
   "outputs": [],
   "source": [
    "\n"
   ]
  },
  {
   "cell_type": "markdown",
   "metadata": {},
   "source": [
    "# notes 11/2\n",
    "- do a corr thing ?\n",
    "- feature collection "
   ]
  }
 ],
 "metadata": {
  "kernelspec": {
   "display_name": "Python (learn-env)",
   "language": "python",
   "name": "learn-env"
  },
  "language_info": {
   "codemirror_mode": {
    "name": "ipython",
    "version": 3
   },
   "file_extension": ".py",
   "mimetype": "text/x-python",
   "name": "python",
   "nbconvert_exporter": "python",
   "pygments_lexer": "ipython3",
   "version": "3.8.5"
  }
 },
 "nbformat": 4,
 "nbformat_minor": 4
}
