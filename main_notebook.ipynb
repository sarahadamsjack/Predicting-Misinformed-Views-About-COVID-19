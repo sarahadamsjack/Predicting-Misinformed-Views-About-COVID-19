{
 "cells": [
  {
   "attachments": {
    "cdc_logo.png": {
     "image/png": "[encoded data removed]"
    }
   },
   "cell_type": "markdown",
   "metadata": {},
   "source": [
    "![cdc_logo.png](attachment:cdc_logo.png)\n",
    "image credit: https://medworksmedia.com/cdc-logo/"
   ]
  },
  {
   "cell_type": "markdown",
   "metadata": {},
   "source": [
    "# Misinformation & COVID-19:\n",
    "## Prediction and Classification Project by Sarah Jack\n",
    "\n",
    "\n",
    "Curtailing the spread of misinformation about COVID-19 is crucial to preventing the spread of unneccessary illness and death. To this end, it is paramount that the CDC understands what populations are most at risk for holding misinformed views. This project can be used by organizations like the CDC to target at-risk groups in case of another outbreak of viral illness like COVID-19. \n",
    "\n",
    "This project uses survey data from the American National Election Studies Exploratory Testing Survey from April 2020. The survey garnered  over 3k responses to questions spanning topics from electoral politics, to social issues, to matters of public health. \n",
    "\n",
    "This notebook aims to classify if respondents are misinformed about COVID-19 based on their answers to other survey questions, as well as demographic variables. \n",
    "\n",
    "The target variable for the models is a COVID-19 misinformation score. The score was calculated by aaggregating responses to two questions in the survey that ask respondents if they believe COVID-19 was manufacted in a lab and if there was a publicly availble vaccine at the time. \n",
    "\n",
    "I find that .... <insert main findings> \n",
    "\n",
    "\n",
    "\n"
   ]
  },
  {
   "cell_type": "markdown",
   "metadata": {},
   "source": [
    "# Set up: Import Libraries & Load in Data"
   ]
  },
  {
   "cell_type": "code",
   "execution_count": 17,
   "metadata": {},
   "outputs": [],
   "source": [
    "import pandas as pd\n",
    "import numpy as np\n",
    "from sklearn.impute import SimpleImputer\n",
    "from sklearn.dummy import DummyClassifier\n",
    "from sklearn.linear_model import LinearRegression, LogisticRegression\n",
    "from sklearn.model_selection import train_test_split, cross_val_score, GridSearchCV, RandomizedSearchCV\n",
    "from sklearn.compose import ColumnTransformer\n",
    "from sklearn.decomposition import PCA\n",
    "from matplotlib import pyplot as plt\n",
    "import seaborn as sns\n",
    "import statsmodels as sm\n",
    "from statsmodels.regression.linear_model import OLS\n",
    "from sklearn.metrics import mean_squared_error as mse\n",
    "import math\n",
    "import matplotlib.pyplot as plt\n",
    "from sklearn.preprocessing import OneHotEncoder, StandardScaler, LabelEncoder\n",
    "from sklearn.feature_selection import SelectFromModel\n",
    "from sklearn.metrics import accuracy_score, precision_score, recall_score, plot_roc_curve, plot_confusion_matrix\n",
    "from sklearn.metrics import log_loss, classification_report\n",
    "from sklearn.tree import DecisionTreeClassifier, plot_tree\n",
    "from sklearn.ensemble import BaggingClassifier, RandomForestClassifier, AdaBoostClassifier\n",
    "from sklearn.pipeline import Pipeline\n",
    "from sklearn.neighbors import KNeighborsClassifier\n",
    "from collections import Counter\n",
    "from xgboost import XGBClassifier\n",
    "from scipy.stats import uniform\n",
    "import warnings\n",
    "warnings.filterwarnings('ignore')\n",
    "\n",
    "%matplotlib inline"
   ]
  },
  {
   "cell_type": "code",
   "execution_count": 18,
   "metadata": {},
   "outputs": [],
   "source": [
    "anes = pd.read_csv('data/anes_pilot_2020ets_csv.csv')\n",
    "data = anes.copy(deep = True)"
   ]
  },
  {
   "cell_type": "markdown",
   "metadata": {},
   "source": [
    "# EDA"
   ]
  },
  {
   "cell_type": "code",
   "execution_count": 19,
   "metadata": {},
   "outputs": [
    {
     "data": {
      "text/plain": [
       "(3080, 470)"
      ]
     },
     "execution_count": 19,
     "metadata": {},
     "output_type": "execute_result"
    }
   ],
   "source": [
    "#about 3k responses across 470 questions\n",
    "data.shape"
   ]
  },
  {
   "cell_type": "code",
   "execution_count": 20,
   "metadata": {},
   "outputs": [
    {
     "name": "stdout",
     "output_type": "stream",
     "text": [
      "<class 'pandas.core.frame.DataFrame'>\n",
      "RangeIndex: 3080 entries, 0 to 3079\n",
      "Columns: 470 entries, V1 to vidknow\n",
      "dtypes: float64(3), int64(453), object(14)\n",
      "memory usage: 11.0+ MB\n"
     ]
    }
   ],
   "source": [
    "data.info()"
   ]
  },
  {
   "cell_type": "code",
   "execution_count": 21,
   "metadata": {},
   "outputs": [
    {
     "data": {
      "text/html": [
       "<div>\n",
       "<style scoped>\n",
       "    .dataframe tbody tr th:only-of-type {\n",
       "        vertical-align: middle;\n",
       "    }\n",
       "\n",
       "    .dataframe tbody tr th {\n",
       "        vertical-align: top;\n",
       "    }\n",
       "\n",
       "    .dataframe thead th {\n",
       "        text-align: right;\n",
       "    }\n",
       "</style>\n",
       "<table border=\"1\" class=\"dataframe\">\n",
       "  <thead>\n",
       "    <tr style=\"text-align: right;\">\n",
       "      <th></th>\n",
       "      <th>V1</th>\n",
       "      <th>_v1</th>\n",
       "      <th>follow</th>\n",
       "      <th>reg1</th>\n",
       "      <th>votemail1a</th>\n",
       "      <th>votemail1b</th>\n",
       "      <th>votecount</th>\n",
       "      <th>votemail2</th>\n",
       "      <th>voterid1</th>\n",
       "      <th>voterid2</th>\n",
       "      <th>...</th>\n",
       "      <th>rr_scale</th>\n",
       "      <th>white</th>\n",
       "      <th>black</th>\n",
       "      <th>namer</th>\n",
       "      <th>asian</th>\n",
       "      <th>hpi</th>\n",
       "      <th>mixed</th>\n",
       "      <th>race7</th>\n",
       "      <th>vidx</th>\n",
       "      <th>vidknow</th>\n",
       "    </tr>\n",
       "  </thead>\n",
       "  <tbody>\n",
       "    <tr>\n",
       "      <th>count</th>\n",
       "      <td>3080.00000</td>\n",
       "      <td>3080.000000</td>\n",
       "      <td>3080.000000</td>\n",
       "      <td>3080.000000</td>\n",
       "      <td>3080.000000</td>\n",
       "      <td>3080.000000</td>\n",
       "      <td>3080.000000</td>\n",
       "      <td>3080.000000</td>\n",
       "      <td>3080.000000</td>\n",
       "      <td>3080.000000</td>\n",
       "      <td>...</td>\n",
       "      <td>3080.000000</td>\n",
       "      <td>3080.000000</td>\n",
       "      <td>3080.000000</td>\n",
       "      <td>3080.000000</td>\n",
       "      <td>3080.000000</td>\n",
       "      <td>3080.000000</td>\n",
       "      <td>3080.000000</td>\n",
       "      <td>3080.000000</td>\n",
       "      <td>3078.000000</td>\n",
       "      <td>3080.000000</td>\n",
       "    </tr>\n",
       "    <tr>\n",
       "      <th>mean</th>\n",
       "      <td>1540.50000</td>\n",
       "      <td>3798.924026</td>\n",
       "      <td>1.644156</td>\n",
       "      <td>1.290584</td>\n",
       "      <td>46.673377</td>\n",
       "      <td>39.099351</td>\n",
       "      <td>3.329221</td>\n",
       "      <td>2.751948</td>\n",
       "      <td>1.547727</td>\n",
       "      <td>3.457468</td>\n",
       "      <td>...</td>\n",
       "      <td>8.692857</td>\n",
       "      <td>0.701623</td>\n",
       "      <td>0.106169</td>\n",
       "      <td>0.005195</td>\n",
       "      <td>0.036364</td>\n",
       "      <td>0.001948</td>\n",
       "      <td>0.034091</td>\n",
       "      <td>1.785714</td>\n",
       "      <td>1.816439</td>\n",
       "      <td>0.407792</td>\n",
       "    </tr>\n",
       "    <tr>\n",
       "      <th>std</th>\n",
       "      <td>889.26374</td>\n",
       "      <td>10553.322567</td>\n",
       "      <td>0.876972</td>\n",
       "      <td>0.724222</td>\n",
       "      <td>42.500686</td>\n",
       "      <td>36.917557</td>\n",
       "      <td>1.093571</td>\n",
       "      <td>1.310572</td>\n",
       "      <td>0.776603</td>\n",
       "      <td>2.807707</td>\n",
       "      <td>...</td>\n",
       "      <td>5.998361</td>\n",
       "      <td>0.457620</td>\n",
       "      <td>0.308104</td>\n",
       "      <td>0.071899</td>\n",
       "      <td>0.187224</td>\n",
       "      <td>0.044101</td>\n",
       "      <td>0.282326</td>\n",
       "      <td>1.430945</td>\n",
       "      <td>1.272351</td>\n",
       "      <td>0.491504</td>\n",
       "    </tr>\n",
       "    <tr>\n",
       "      <th>min</th>\n",
       "      <td>1.00000</td>\n",
       "      <td>464.000000</td>\n",
       "      <td>1.000000</td>\n",
       "      <td>1.000000</td>\n",
       "      <td>1.000000</td>\n",
       "      <td>1.000000</td>\n",
       "      <td>1.000000</td>\n",
       "      <td>1.000000</td>\n",
       "      <td>1.000000</td>\n",
       "      <td>1.000000</td>\n",
       "      <td>...</td>\n",
       "      <td>0.000000</td>\n",
       "      <td>0.000000</td>\n",
       "      <td>0.000000</td>\n",
       "      <td>0.000000</td>\n",
       "      <td>0.000000</td>\n",
       "      <td>0.000000</td>\n",
       "      <td>0.000000</td>\n",
       "      <td>1.000000</td>\n",
       "      <td>0.000000</td>\n",
       "      <td>0.000000</td>\n",
       "    </tr>\n",
       "    <tr>\n",
       "      <th>25%</th>\n",
       "      <td>770.75000</td>\n",
       "      <td>1643.750000</td>\n",
       "      <td>1.000000</td>\n",
       "      <td>1.000000</td>\n",
       "      <td>2.000000</td>\n",
       "      <td>3.000000</td>\n",
       "      <td>3.000000</td>\n",
       "      <td>2.000000</td>\n",
       "      <td>1.000000</td>\n",
       "      <td>1.000000</td>\n",
       "      <td>...</td>\n",
       "      <td>6.000000</td>\n",
       "      <td>0.000000</td>\n",
       "      <td>0.000000</td>\n",
       "      <td>0.000000</td>\n",
       "      <td>0.000000</td>\n",
       "      <td>0.000000</td>\n",
       "      <td>0.000000</td>\n",
       "      <td>1.000000</td>\n",
       "      <td>1.000000</td>\n",
       "      <td>0.000000</td>\n",
       "    </tr>\n",
       "    <tr>\n",
       "      <th>50%</th>\n",
       "      <td>1540.50000</td>\n",
       "      <td>2233.500000</td>\n",
       "      <td>1.000000</td>\n",
       "      <td>1.000000</td>\n",
       "      <td>88.000000</td>\n",
       "      <td>7.000000</td>\n",
       "      <td>3.000000</td>\n",
       "      <td>3.000000</td>\n",
       "      <td>1.000000</td>\n",
       "      <td>2.000000</td>\n",
       "      <td>...</td>\n",
       "      <td>8.000000</td>\n",
       "      <td>1.000000</td>\n",
       "      <td>0.000000</td>\n",
       "      <td>0.000000</td>\n",
       "      <td>0.000000</td>\n",
       "      <td>0.000000</td>\n",
       "      <td>0.000000</td>\n",
       "      <td>1.000000</td>\n",
       "      <td>2.000000</td>\n",
       "      <td>0.000000</td>\n",
       "    </tr>\n",
       "    <tr>\n",
       "      <th>75%</th>\n",
       "      <td>2310.25000</td>\n",
       "      <td>3211.250000</td>\n",
       "      <td>2.000000</td>\n",
       "      <td>1.000000</td>\n",
       "      <td>88.000000</td>\n",
       "      <td>77.000000</td>\n",
       "      <td>4.000000</td>\n",
       "      <td>4.000000</td>\n",
       "      <td>2.000000</td>\n",
       "      <td>7.000000</td>\n",
       "      <td>...</td>\n",
       "      <td>11.000000</td>\n",
       "      <td>1.000000</td>\n",
       "      <td>0.000000</td>\n",
       "      <td>0.000000</td>\n",
       "      <td>0.000000</td>\n",
       "      <td>0.000000</td>\n",
       "      <td>0.000000</td>\n",
       "      <td>2.000000</td>\n",
       "      <td>3.000000</td>\n",
       "      <td>1.000000</td>\n",
       "    </tr>\n",
       "    <tr>\n",
       "      <th>max</th>\n",
       "      <td>3080.00000</td>\n",
       "      <td>255418.000000</td>\n",
       "      <td>9.000000</td>\n",
       "      <td>4.000000</td>\n",
       "      <td>88.000000</td>\n",
       "      <td>77.000000</td>\n",
       "      <td>9.000000</td>\n",
       "      <td>9.000000</td>\n",
       "      <td>9.000000</td>\n",
       "      <td>9.000000</td>\n",
       "      <td>...</td>\n",
       "      <td>99.000000</td>\n",
       "      <td>1.000000</td>\n",
       "      <td>1.000000</td>\n",
       "      <td>1.000000</td>\n",
       "      <td>1.000000</td>\n",
       "      <td>1.000000</td>\n",
       "      <td>9.000000</td>\n",
       "      <td>9.000000</td>\n",
       "      <td>3.000000</td>\n",
       "      <td>1.000000</td>\n",
       "    </tr>\n",
       "  </tbody>\n",
       "</table>\n",
       "<p>8 rows × 456 columns</p>\n",
       "</div>"
      ],
      "text/plain": [
       "               V1            _v1       follow         reg1   votemail1a  \\\n",
       "count  3080.00000    3080.000000  3080.000000  3080.000000  3080.000000   \n",
       "mean   1540.50000    3798.924026     1.644156     1.290584    46.673377   \n",
       "std     889.26374   10553.322567     0.876972     0.724222    42.500686   \n",
       "min       1.00000     464.000000     1.000000     1.000000     1.000000   \n",
       "25%     770.75000    1643.750000     1.000000     1.000000     2.000000   \n",
       "50%    1540.50000    2233.500000     1.000000     1.000000    88.000000   \n",
       "75%    2310.25000    3211.250000     2.000000     1.000000    88.000000   \n",
       "max    3080.00000  255418.000000     9.000000     4.000000    88.000000   \n",
       "\n",
       "        votemail1b    votecount    votemail2     voterid1     voterid2  ...  \\\n",
       "count  3080.000000  3080.000000  3080.000000  3080.000000  3080.000000  ...   \n",
       "mean     39.099351     3.329221     2.751948     1.547727     3.457468  ...   \n",
       "std      36.917557     1.093571     1.310572     0.776603     2.807707  ...   \n",
       "min       1.000000     1.000000     1.000000     1.000000     1.000000  ...   \n",
       "25%       3.000000     3.000000     2.000000     1.000000     1.000000  ...   \n",
       "50%       7.000000     3.000000     3.000000     1.000000     2.000000  ...   \n",
       "75%      77.000000     4.000000     4.000000     2.000000     7.000000  ...   \n",
       "max      77.000000     9.000000     9.000000     9.000000     9.000000  ...   \n",
       "\n",
       "          rr_scale        white        black        namer        asian  \\\n",
       "count  3080.000000  3080.000000  3080.000000  3080.000000  3080.000000   \n",
       "mean      8.692857     0.701623     0.106169     0.005195     0.036364   \n",
       "std       5.998361     0.457620     0.308104     0.071899     0.187224   \n",
       "min       0.000000     0.000000     0.000000     0.000000     0.000000   \n",
       "25%       6.000000     0.000000     0.000000     0.000000     0.000000   \n",
       "50%       8.000000     1.000000     0.000000     0.000000     0.000000   \n",
       "75%      11.000000     1.000000     0.000000     0.000000     0.000000   \n",
       "max      99.000000     1.000000     1.000000     1.000000     1.000000   \n",
       "\n",
       "               hpi        mixed        race7         vidx      vidknow  \n",
       "count  3080.000000  3080.000000  3080.000000  3078.000000  3080.000000  \n",
       "mean      0.001948     0.034091     1.785714     1.816439     0.407792  \n",
       "std       0.044101     0.282326     1.430945     1.272351     0.491504  \n",
       "min       0.000000     0.000000     1.000000     0.000000     0.000000  \n",
       "25%       0.000000     0.000000     1.000000     1.000000     0.000000  \n",
       "50%       0.000000     0.000000     1.000000     2.000000     0.000000  \n",
       "75%       0.000000     0.000000     2.000000     3.000000     1.000000  \n",
       "max       1.000000     9.000000     9.000000     3.000000     1.000000  \n",
       "\n",
       "[8 rows x 456 columns]"
      ]
     },
     "execution_count": 21,
     "metadata": {},
     "output_type": "execute_result"
    }
   ],
   "source": [
    "data.describe()"
   ]
  },
  {
   "cell_type": "markdown",
   "metadata": {},
   "source": [
    "# Data Cleaning"
   ]
  },
  {
   "cell_type": "markdown",
   "metadata": {},
   "source": [
    "## Dropping Irrelevant Columns \n",
    "There are 460 columns, not all of which are necessary. The first 9 columns contain metadata about the survey and survey collection method. This includes information like what browser the respondent used to take the survey, the version of that browser, which day in the week the respondent completed the survey on, etc. This information is not pertinant for my analysis. \n",
    "\n",
    "I elected to drop a number of columns that contain answers for questions that survyors asked based on the self-reported ethnoracial identity of the respondent. Because the answers for these questions are specific to each respondent, they can not be generalized across the dataframe. \n",
    "\n",
    "I also removed a number of demographic variables. This survey contains mulitple variables for political party identification and ethnoracial self-identification. This level of repition was unnecessary for the scope of this project. \n",
    "\n",
    "I dropped questions the surveyors used as check-points to make sure respondents were filling out the survey correctly. An example of this is \"check\" which asked respondents to click a certain box so that the surveyors could be sure the respondent's screen was working. Another meta-data question asked respondents if they have ever been attacked by a shark. Questions like these allow surveyors to weed out joke responses. "
   ]
  },
  {
   "cell_type": "code",
   "execution_count": 23,
   "metadata": {},
   "outputs": [],
   "source": [
    "#look at all the column names\n",
    "#for col in data.columns:\n",
    "   # print(col)"
   ]
  },
  {
   "cell_type": "code",
   "execution_count": 24,
   "metadata": {},
   "outputs": [],
   "source": [
    "# dropping irrelevant columns \n",
    "data.drop(inplace=True, columns=[ 'votemail1b', 'V1', 'StartDate', 'EndDate', '_v1', 'RecordedDate', \n",
    "                                 'ResponseId','qmetadata_Browser', 'qmetadata_Version', '_v2', \n",
    "                                 'qmetadata_Resolution', 'check','relig1_11_TEXT', 'mauga', 'pk_cjus', \n",
    "                                 'pk_germ', 'ethnic1', 'ethnic2', 'ethnic3', 'mixed', 'hpi', 'asian', 'namer',\n",
    "                                'black', 'white', 'race1_hpi', 'race1_asian', 'race1_namer', 'race1_black', 'race1_white',\n",
    "                                'hispanicr', 'nonhispanic_white', 'hispanic_white', 'hispanic', 'pid2r', 'pk_index',\n",
    "                                'survexp1', 'survexp2', 'dejavu', 'surv_comp', 'RAND_INC', 'XCONTACT', 'XFORGIVE', 'FEEDBACK_GROUP',\n",
    "                                'INSTRUCTION_GROUP', 'form', 'serious', 'admit', 'geer1896', 'pk_sen', 'pk_spend', 'expshark',\n",
    "                                'inc_cps', 'inc_cpsmod', 'marital2', 'whites_1', 'whites_2', 'whites_3',\n",
    "                                'whites_4', 'whites_5', 'whites_6', 'whites_7', 'blacks_1', 'blacks_2', 'blacks_3',\n",
    "                                'blacks_4', 'blacks_5', 'blacks_6', 'blacks_7', 'hisp_1', 'hisp_2', 'hisp_3',\n",
    "                                'hisp_4', 'hisp_5', 'hisp_6', 'hisp_7', 'asians_1', 'asians_2', 'asians_3', 'asians_4',\n",
    "                                'asians_5', 'asians_6','asians_7', 'survexp1', 'survexp2', 'dejavu', 'citizen1', 'citizen2',\n",
    "                                'particip_count', 'pk_mauga_correct', 'pk_germ_correct', 'pk_cjus_correct', 'pk_sen_correct',\n",
    "                                'pk_spend_correct', 'pk_cjus_correctb', 'pk_index', 'pidstr1_dr', 'pidstr1_ind', 'pidstr2_dr',\n",
    "                                 'pidstr2_ind','pidstr3_dr', 'pidstr3_ind', 'pid7str', 'hispanic', 'hispanic_white', 'nonhispanic_white',\n",
    "                                'hispanicr', 'race1_white', 'race1_black', 'race1_namer', 'race1_hpi', 'white', 'black',\n",
    "                                'namer', 'asian', 'hpi', 'mixed'])"
   ]
  },
  {
   "cell_type": "code",
   "execution_count": 25,
   "metadata": {},
   "outputs": [
    {
     "data": {
      "text/plain": [
       "(3080, 371)"
      ]
     },
     "execution_count": 25,
     "metadata": {},
     "output_type": "execute_result"
    }
   ],
   "source": [
    "#check shape of data after dropping\n",
    "data.shape"
   ]
  },
  {
   "cell_type": "markdown",
   "metadata": {},
   "source": [
    "## Addressing Null Values\n",
    "Because not every respondent answers every question, there are a fair amount of missing or null values. In order to keep the intgrity of my data intact I use a mix of approaches to address null and missing values. I have enough responses to simply drop columns with null values. However, there are multiple placee holder values for missing responses. Below I go through each placeholder value, replace it with a universal numpy NaN and then impute those NaN values with the median value of its respective column using SimpleImputer."
   ]
  },
  {
   "cell_type": "code",
   "execution_count": 26,
   "metadata": {},
   "outputs": [
    {
     "data": {
      "text/plain": [
       "follow        0\n",
       "reg1          0\n",
       "votemail1a    0\n",
       "votecount     0\n",
       "votemail2     0\n",
       "             ..\n",
       "pid7          0\n",
       "rr_scale      0\n",
       "race7         0\n",
       "vidx          2\n",
       "vidknow       0\n",
       "Length: 371, dtype: int64"
      ]
     },
     "execution_count": 26,
     "metadata": {},
     "output_type": "execute_result"
    }
   ],
   "source": [
    "data.isna().sum()"
   ]
  },
  {
   "cell_type": "code",
   "execution_count": 27,
   "metadata": {},
   "outputs": [],
   "source": [
    "data.dropna(inplace=True)"
   ]
  },
  {
   "cell_type": "code",
   "execution_count": 28,
   "metadata": {},
   "outputs": [
    {
     "data": {
      "text/plain": [
       "(3078, 371)"
      ]
     },
     "execution_count": 28,
     "metadata": {},
     "output_type": "execute_result"
    }
   ],
   "source": [
    "data.shape"
   ]
  },
  {
   "cell_type": "code",
   "execution_count": 29,
   "metadata": {},
   "outputs": [],
   "source": [
    "#dropping the 2 non responses for the covid questions \n",
    "data.drop(data[data['mis_covid1'] == 9].index, inplace=True)"
   ]
  },
  {
   "cell_type": "code",
   "execution_count": 30,
   "metadata": {},
   "outputs": [],
   "source": [
    "data.drop(data[data['mis_covid2'] == 9].index, inplace=True)"
   ]
  },
  {
   "cell_type": "code",
   "execution_count": 31,
   "metadata": {},
   "outputs": [],
   "source": [
    "#dropping the placeholder values and replacing with NaN\n",
    "data_6 = ['pidstr',  'pidlean', 'pidstr1', 'pidstr2', 'pidstr3', 'relig2a',\n",
    "     'att2', 'att3', 'fundmt1', 'fundmt2', 'whitejob', 'femid2_fem', 'femid2_anti',\n",
    "     'femid2_nei', 'callout3a','callout3b','viol3_dems', 'viol3_reps', 'viol3_both']\n",
    "for column in data_6:\n",
    "    data[column].replace(6, np.nan, inplace=True)"
   ]
  },
  {
   "cell_type": "code",
   "execution_count": 32,
   "metadata": {},
   "outputs": [],
   "source": [
    "#dropping the placeholder values and replacing with NaN\n",
    "data_9 = ['follow', 'votemail2', 'voterid1', 'voterid2', 'vote16', 'hopeful', 'worried', 'irritated', 'talk3', \n",
    "      'primaryvote', 'vote20jb', 'vote20bs', 'richpoor2', 'lcd', 'lcr', 'freemkt1a',\n",
    "     'freemkt1b', 'govsize1a', 'govsize1b', 'ineqinc1a', 'antirelig1',\n",
    "     'antirelig2', 'racist1','racist2', 'immignum', 'wall7', 'pathway', \n",
    "     'return', 'open', 'affact', 'hlthcare1', 'hlthcare2', 'covid1', 'covid2',\n",
    "     'covid_elect', 'abort1', 'abort_imp', 'abort2', 'gayadopt', 'transmilit1a',\n",
    "     'harass', 'diversity7', 'experts', 'science', 'exphelp', 'excessive',\n",
    "     'compro1', 'compro2', 'pcorrect', 'selfcensor', 'childrear1', 'childrear2',\n",
    "     'childrear3', 'rural2', 'rural3', 'rural4', 'conf_covid1', 'conf_covid2', 'impeach1', 'impeach2', 'pid1r', \n",
    "     'pidstr', 'pidlean', 'pidstr1', 'pidstr2', 'pidstr3', 'rr1', 'rr2',\n",
    "     'rr3', 'rr4', 'relig2b', 'att1', 'att2', 'att3', 'fundmt1', 'fundmt2',\n",
    "     'impact1', 'impact2', 'impact3', 'impact4', 'impact5', 'impact7', 'impact8',\n",
    "     'impact9', 'whitejob', 'femid1a', 'femid1b', 'femid2_fem', 'knowtran1',\n",
    "     'knowtran2_1', 'knowtran2_2', 'knowtran2_3', 'knowtran2_4', 'knowtran2_5',\n",
    "     'knowtran2_6', 'knowgay1', 'knowgay2_1', 'knowgay2_2', 'knowgay2_3', 'knowgay2_4',\n",
    "     'knowgay2_5', 'knowgay2_6', 'stress1', 'stress2', 'stress3', 'stress4',\n",
    "     'depress1', 'depress2', 'depress3', 'depress4', 'depress5', 'callout1',\n",
    "     'speech1', 'callout2', 'speech2', 'divmoral', 'forgive3', 'moralsup1',\n",
    "     'duepro3', 'moralcert3', 'forgive5', 'intelsup1', 'moralcert1', 'duepro4',\n",
    "     'moralcert6', 'forgive4', 'moralcert2', 'duepro1', 'callout3a','callout3b',\n",
    "     'moralsup2', 'duepro2', 'intelsup2', 'duepro5', 'moralcert4', 'forgive6', \n",
    "     'moralcert5', 'link_bla','link_his', 'link_asi','link_whi', 'link_hpi', 'link_nat',\n",
    "     'selfmon1', 'selfmon2', 'selfmon3', 'selfmon4', 'selfmon5', 'selfmon6', 'home_cps',\n",
    "     'viol3_dems', 'viol3_reps', 'viol1', 'viol2a', 'viol2b', 'exptravel_ever', \n",
    "     'exphomesch', 'expconvert', 'expholiday', 'exparrest', 'exppubasst', 'expfight',\n",
    "     'expavoid', 'callout_social', 'callout_person', 'expknowimmig', 'expbuyus',\n",
    "     'expretire', 'expknowpris', 'marital1', 'home_ownership', 'vote20turnoutjb', 'pid7',\n",
    "     'race7', 'taxecon']\n",
    "for column in data_9: \n",
    "    data[column].replace(9, np.nan, inplace=True)\n"
   ]
  },
  {
   "cell_type": "code",
   "execution_count": 33,
   "metadata": {},
   "outputs": [],
   "source": [
    "#dropping the placeholder values and replacing with NaN\n",
    "data_77 = ['healthcarepres7', 'dtleader2', 'jbleader2', \n",
    "     'bsleader2', 'billtax2', 'guarinc2', 'freemkt2', 'freemkt3',\n",
    "     'govsize2', 'govsize3', 'regulate2', 'strpres1b', 'transmilit1b',\n",
    "     'freecol2', 'loans2']\n",
    "for column in data_77: \n",
    "    data[column].replace(77, np.nan, inplace=True)"
   ]
  },
  {
   "cell_type": "code",
   "execution_count": 34,
   "metadata": {},
   "outputs": [],
   "source": [
    "#dropping the placeholder values and replacing with NaN\n",
    "data_8 = ['turnout16a', 'turnout16a1', 'freemkt1a', 'freemkt1b',\n",
    "     'govsize1a', 'govsize1b', 'antirelig1', 'antirelig2', 'racist1',\n",
    "     'racist2', 'transmilit1a', 'pcorrect', 'selfcensor', 'relig2a',\n",
    "     'femid1a', 'callout1', 'speech1', 'callout2', 'speech2', 'divmoral',\n",
    "     'forgive3', 'moralsup1', 'duepro3', 'moralcert3', 'forgive5','intelsup1', \n",
    "     'moralcert1', 'duepro4', 'moralcert6', 'forgive4', 'moralcert2', 'duepro1',\n",
    "     'callout3a','callout3b', 'moralsup2', 'duepro2', 'intelsup2', 'duepro5',\n",
    "     'moralcert4', 'forgive6', 'moralcert5', 'home_anes', 'viol2a']\n",
    "for column in data_8:\n",
    "    data[column].replace(8, np.nan, inplace=True)"
   ]
  },
  {
   "cell_type": "code",
   "execution_count": 35,
   "metadata": {},
   "outputs": [],
   "source": [
    "#dropping the placeholder values and replacing with NaN\n",
    "data_7 = ['turnout16b', 'relig2b', 'femid1b', 'stress1', 'stress2', 'stress3',\n",
    "     'stress4', 'depress1', 'depress2', 'depress3', 'depress4', 'depress5', \n",
    "     'link_bla','link_his','link_asi','link_whi', 'link_hpi', 'link_nat',\n",
    "     'selfmon1', 'selfmon2', 'selfmon3', 'selfmon4', 'selfmon5', 'selfmon6',\n",
    "     'home_cps', 'viol2b']\n",
    "for column in data_7:\n",
    "    data[column].replace(7, np.nan, inplace=True)"
   ]
  },
  {
   "cell_type": "code",
   "execution_count": 36,
   "metadata": {},
   "outputs": [],
   "source": [
    "#dropping the placeholder values and replacing with NaN\n",
    "data_99 = ['apppres7', 'frnpres7', 'immpres7', 'econpres7', 'healthcarepres7', \n",
    "     'dtcares', 'dtdignif', 'dtauth', 'dtdiv', 'dtknow', 'jbleader1',\n",
    "     'jbleader2', 'jbcares', 'jbdignif', 'jbhonest', 'jbauth', 'jbdiv',\n",
    "     'jbknow', 'bsleader1', 'bsleader2', 'bscares', 'bsdignif', 'bshonest',\n",
    "     'bsauth', 'bsdiv', 'bsknow', 'freemkt2', 'freemkt3', 'govsize2', 'govsize3',\n",
    "           'forgive1a', 'forgive1b','forgive2b','finworry', 'confecon', 'taxecon', \n",
    "     'regulate2', 'strpres1b', 'tol_rally', 'tol_pres', 'tol_teach',\n",
    "     'transmilit1b', 'freecol2', 'forgive2a']\n",
    "for column in data_99:\n",
    "    data[column].replace(99, np.nan, inplace=True)"
   ]
  },
  {
   "cell_type": "code",
   "execution_count": 37,
   "metadata": {},
   "outputs": [],
   "source": [
    "#dropping the placeholder values and replacing with NaN\n",
    "data_66 = ['freemkt2', 'freemkt3', 'govsize2', 'govsize3', \n",
    "     'facebook1', 'twitter1', 'forgive1a', 'forgive1b', 'forgive2a',\n",
    "     'forgive2b', 'inc_anes']\n",
    "for column in data_66: \n",
    "    data[column].replace(66, np.nan, inplace=True)"
   ]
  },
  {
   "cell_type": "code",
   "execution_count": 38,
   "metadata": {},
   "outputs": [],
   "source": [
    "#imputing the median \n",
    "imp=SimpleImputer(missing_values= np.nan)\n",
    "data_clean = pd.DataFrame(imp.fit_transform(data))\n",
    "data_clean.columns = data.columns\n",
    "data_clean.index = data.index "
   ]
  },
  {
   "cell_type": "code",
   "execution_count": 48,
   "metadata": {},
   "outputs": [
    {
     "name": "stdout",
     "output_type": "stream",
     "text": [
      "shape of cleaned data: (3072, 371)\n",
      "shape of uncleaned data: (3072, 371)\n"
     ]
    }
   ],
   "source": [
    "#sanity check\n",
    "print(f'shape of cleaned data: {data_clean.shape}')\n",
    "print(f'shape of uncleaned data: {data.shape}')"
   ]
  },
  {
   "cell_type": "markdown",
   "metadata": {},
   "source": [
    "# Target Variable \n",
    "Below I construct my target variable - a covid misinformation score - called \"covid_mis_score\". When this variable is a 0, it means the respondent is correctly informed. A 1 designates the respondent is somewhat misinformed about COVID-19. Whereas a 2 indicates the respondent is completely misinformed about COVID-19. \n",
    "\n",
    "This variable combines the responses from two questions that ask about COVID-19. \n",
    "\n",
    "\n",
    "Further information about \"mis_covid1\" and \"mis_covid2\" can be found on page 47 in \"anes_codebook.pdf\" and page 25 in \"anes_questions.pdf\". \n",
    "\n",
    "\n",
    "\"mis_covid1\" asks: \n",
    "    \n",
    "      \"Which of these two statements do you think is most likely to be \n",
    "      true?\n",
    "      \n",
    "        _The coronavirus (COVID-19) was developed intentionally in a\n",
    "        lab \n",
    "        \n",
    "        _The coronavirus (COVID-19) was not developed intentionally in \n",
    "        a lab\" \n",
    "\n",
    "Respondents that answered that COVID-19 was intentionally made in a lab are classified as misinformed.\n",
    "\n",
    "\n",
    "\n",
    "\"mis_covid2\" asks:\n",
    "    \n",
    "        \"Which of these two statements do you think is most likely to be \n",
    "      true?\n",
    "      \n",
    "        _Currently, there is a vaccine for the coronavirus (COVID-19)  \n",
    "        \n",
    "        _Currently, there is not a vaccine for the coronavirus(COVID-19)\"\n",
    "        \n",
    "Respondents that answered there was intentionally was a vaccine are classified as misinformed. (citation).\n",
    "   "
   ]
  },
  {
   "cell_type": "code",
   "execution_count": 14,
   "metadata": {},
   "outputs": [],
   "source": [
    "data_clean.rename(columns={\"mis_covid1\": 'covid_lab'}, inplace = True)\n",
    "data_clean.rename(columns={\"mis_covid2\": 'covid_vax'}, inplace = True)\n",
    "data_clean.covid_lab.replace((2,1), (0,1), inplace=True)\n",
    "data_clean.covid_vax.replace((2,1), (0,1), inplace=True)\n",
    "data_clean['covid_mis_score'] = data_clean['covid_lab'] + data_clean['covid_vax']\n",
    "data_clean.drop(inplace=True, columns=['covid_lab', 'covid_vax'])"
   ]
  },
  {
   "cell_type": "code",
   "execution_count": 15,
   "metadata": {},
   "outputs": [],
   "source": [
    "# going to try and smote with my best model "
   ]
  },
  {
   "cell_type": "code",
   "execution_count": 16,
   "metadata": {},
   "outputs": [],
   "source": [
    "model_df = data_clean[['covid_mis_score','whitejob',\n",
    " 'taxecon',\n",
    " 'talk2',\n",
    " 'immpres7',\n",
    " 'fundmt1',\n",
    " 'experts',\n",
    " 'econnow',\n",
    " 'conf_covid2',\n",
    " 'abort1',\n",
    " 'votemail2',\n",
    " 'viol2a',\n",
    " 'strpres1b',\n",
    " 'pidstr3',\n",
    " 'pidstr1',\n",
    " 'lcd',\n",
    " 'knowtran2_1',\n",
    " 'jbhonest',\n",
    " 'impact9',\n",
    " 'immignum',\n",
    " 'hopeful',\n",
    " 'hlthcare1',\n",
    " 'excessive',\n",
    " 'econpres7',\n",
    " 'dtleader2',\n",
    " 'covid_elect',\n",
    " 'birthyr',\n",
    " 'wall7',\n",
    " 'votecount',\n",
    " 'viol2b',\n",
    " 'viol1',\n",
    " 'talk3',\n",
    " 'stress4',\n",
    " 'speech1',\n",
    " 'selfmon4',\n",
    " 'science',\n",
    " 'rural4',\n",
    " 'rural2',\n",
    " 'rr4',\n",
    " 'rr1',\n",
    " 'return',\n",
    " 'protest',\n",
    " 'moralcert6',\n",
    " 'lcself',\n",
    " 'lcr',\n",
    " 'knowtran2_2',\n",
    " 'intelsup1',\n",
    " 'inc_anes',\n",
    " 'impeach2',\n",
    " 'impeach1',\n",
    " 'impact8',\n",
    " 'impact6',\n",
    " 'impact5',\n",
    " 'impact4',\n",
    " 'impact1',\n",
    " 'fundmt2',\n",
    " 'ftwarren1',\n",
    " 'fttransppl',\n",
    " 'ftrubio1',\n",
    " 'ftpence1',\n",
    " 'ftharris1',\n",
    " 'ftdemocraticparty',\n",
    " 'ftcapitalists',\n",
    " 'ftbuttigieg1',\n",
    " 'ftblack',\n",
    " 'frnpres7',\n",
    " 'finworry',\n",
    " 'femid2_fem',\n",
    " 'exphelp',\n",
    " 'dtknow',\n",
    " 'dthonest',\n",
    " 'dtdignif',\n",
    " 'dtcares',\n",
    " 'dtauth',\n",
    " 'depress4',\n",
    " 'depress1',\n",
    " 'conf_covid1',\n",
    " 'callout_social',\n",
    " 'att1',\n",
    " 'apppres7',\n",
    " 'age',\n",
    " 'affact',\n",
    " 'abort2',\n",
    " 'worried',\n",
    " 'voterid2',\n",
    " 'voterid1',\n",
    " 'viol3_both',\n",
    " 'socmed_9',\n",
    " 'socmed_7',\n",
    " 'socmed_6',\n",
    " 'socmed_3',\n",
    " 'selfmon6',\n",
    " 'selfmon3',\n",
    " 'selfmon2',\n",
    " 'selfcensor',\n",
    " 'rural3',\n",
    " 'rr_scale',\n",
    " 'richpoor2',\n",
    " 'relig2a',\n",
    " 'regulate2',\n",
    " 'race7']]\n",
    " "
   ]
  },
  {
   "cell_type": "code",
   "execution_count": 30,
   "metadata": {},
   "outputs": [],
   "source": [
    "X = model_df.drop(['covid_mis_score'], axis=1)\n",
    "y = model_df['covid_mis_score']\n",
    "\n",
    "X_train, X_test, y_train, y_test = train_test_split(X, y, test_size = 0.20, random_state = 42)"
   ]
  },
  {
   "cell_type": "code",
   "execution_count": 36,
   "metadata": {},
   "outputs": [],
   "source": [
    "from imblearn.over_sampling import SMOTE\n",
    "smote = SMOTE(sampling_strategy='minority', random_state=42)\n",
    "X_sm, y_sm = smote.fit_sample(X_train, y_train)\n"
   ]
  },
  {
   "cell_type": "code",
   "execution_count": 37,
   "metadata": {},
   "outputs": [
    {
     "data": {
      "text/plain": [
       "LogisticRegression(random_state=42)"
      ]
     },
     "execution_count": 37,
     "metadata": {},
     "output_type": "execute_result"
    }
   ],
   "source": [
    "smote_best = LogisticRegression(random_state=42)\n",
    "smote_best.fit(X_sm, y_sm)"
   ]
  },
  {
   "cell_type": "code",
   "execution_count": 42,
   "metadata": {},
   "outputs": [
    {
     "name": "stdout",
     "output_type": "stream",
     "text": [
      "Train Recall Score: 0.5075233834892232\n",
      "Test Recall Score: 0.5414634146341464\n"
     ]
    }
   ],
   "source": [
    "y_pred_train = smote_best.predict(X_train)\n",
    "y_pred_test = smote_best.predict(X_test)\n",
    "\n",
    "print(f\"Train Recall Score: {recall_score(y_train, y_pred_train, average='weighted')}\")\n",
    "print(f\"Test Recall Score: {recall_score(y_test, y_pred_test, average='weighted')}\")\n"
   ]
  },
  {
   "cell_type": "code",
   "execution_count": null,
   "metadata": {},
   "outputs": [],
   "source": []
  }
 ],
 "metadata": {
  "kernelspec": {
   "display_name": "Python (learn-env)",
   "language": "python",
   "name": "learn-env"
  },
  "language_info": {
   "codemirror_mode": {
    "name": "ipython",
    "version": 3
   },
   "file_extension": ".py",
   "mimetype": "text/x-python",
   "name": "python",
   "nbconvert_exporter": "python",
   "pygments_lexer": "ipython3",
   "version": "3.8.5"
  }
 },
 "nbformat": 4,
 "nbformat_minor": 4
}
