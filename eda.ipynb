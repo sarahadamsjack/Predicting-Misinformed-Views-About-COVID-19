{
 "cells": [
  {
   "cell_type": "code",
   "execution_count": 1,
   "metadata": {},
   "outputs": [],
   "source": [
    "\n",
    "import pandas as pd\n",
    "import numpy as np\n",
    "from sklearn.preprocessing import StandardScaler, OneHotEncoder\n",
    "from sklearn.impute import SimpleImputer\n",
    "from sklearn.model_selection import train_test_split\n",
    "from sklearn.linear_model import LinearRegression\n",
    "from sklearn.compose import ColumnTransformer\n",
    "from sklearn.pipeline import Pipeline\n",
    "from sklearn.decomposition import PCA\n",
    "from matplotlib import pyplot as plt\n",
    "import seaborn as sns\n",
    "import statsmodels as sm\n",
    "from statsmodels.regression.linear_model import OLS\n",
    "from sklearn.metrics import mean_squared_error as mse\n",
    "\n",
    "%matplotlib inline"
   ]
  },
  {
   "cell_type": "code",
   "execution_count": 2,
   "metadata": {},
   "outputs": [],
   "source": [
    "anes = pd.read_csv('data/anes_pilot_2020ets_csv.csv')"
   ]
  },
  {
   "cell_type": "code",
   "execution_count": 3,
   "metadata": {},
   "outputs": [
    {
     "data": {
      "text/html": [
       "<div>\n",
       "<style scoped>\n",
       "    .dataframe tbody tr th:only-of-type {\n",
       "        vertical-align: middle;\n",
       "    }\n",
       "\n",
       "    .dataframe tbody tr th {\n",
       "        vertical-align: top;\n",
       "    }\n",
       "\n",
       "    .dataframe thead th {\n",
       "        text-align: right;\n",
       "    }\n",
       "</style>\n",
       "<table border=\"1\" class=\"dataframe\">\n",
       "  <thead>\n",
       "    <tr style=\"text-align: right;\">\n",
       "      <th></th>\n",
       "      <th>V1</th>\n",
       "      <th>StartDate</th>\n",
       "      <th>EndDate</th>\n",
       "      <th>_v1</th>\n",
       "      <th>RecordedDate</th>\n",
       "      <th>ResponseId</th>\n",
       "      <th>qmetadata_Browser</th>\n",
       "      <th>qmetadata_Version</th>\n",
       "      <th>_v2</th>\n",
       "      <th>qmetadata_Resolution</th>\n",
       "      <th>...</th>\n",
       "      <th>rr_scale</th>\n",
       "      <th>white</th>\n",
       "      <th>black</th>\n",
       "      <th>namer</th>\n",
       "      <th>asian</th>\n",
       "      <th>hpi</th>\n",
       "      <th>mixed</th>\n",
       "      <th>race7</th>\n",
       "      <th>vidx</th>\n",
       "      <th>vidknow</th>\n",
       "    </tr>\n",
       "  </thead>\n",
       "  <tbody>\n",
       "    <tr>\n",
       "      <th>0</th>\n",
       "      <td>1451</td>\n",
       "      <td>4/12/2020 17:04</td>\n",
       "      <td>4/12/2020 17:23</td>\n",
       "      <td>1131</td>\n",
       "      <td>4/12/2020 17:23</td>\n",
       "      <td>R_3oBJppI62KNh4MC</td>\n",
       "      <td>Chrome</td>\n",
       "      <td>81.0.4044.96</td>\n",
       "      <td>Android 9</td>\n",
       "      <td>360x760</td>\n",
       "      <td>...</td>\n",
       "      <td>9</td>\n",
       "      <td>1</td>\n",
       "      <td>0</td>\n",
       "      <td>0</td>\n",
       "      <td>0</td>\n",
       "      <td>0</td>\n",
       "      <td>0</td>\n",
       "      <td>1</td>\n",
       "      <td>2.0</td>\n",
       "      <td>1</td>\n",
       "    </tr>\n",
       "    <tr>\n",
       "      <th>1</th>\n",
       "      <td>2875</td>\n",
       "      <td>4/16/2020 10:14</td>\n",
       "      <td>4/16/2020 11:06</td>\n",
       "      <td>3170</td>\n",
       "      <td>4/16/2020 11:06</td>\n",
       "      <td>R_1jdLlxoKBpgExZS</td>\n",
       "      <td>Firefox</td>\n",
       "      <td>52</td>\n",
       "      <td>Windows NT 5.1</td>\n",
       "      <td>1024x768</td>\n",
       "      <td>...</td>\n",
       "      <td>16</td>\n",
       "      <td>1</td>\n",
       "      <td>0</td>\n",
       "      <td>0</td>\n",
       "      <td>0</td>\n",
       "      <td>0</td>\n",
       "      <td>0</td>\n",
       "      <td>1</td>\n",
       "      <td>3.0</td>\n",
       "      <td>0</td>\n",
       "    </tr>\n",
       "    <tr>\n",
       "      <th>2</th>\n",
       "      <td>859</td>\n",
       "      <td>4/17/2020 21:34</td>\n",
       "      <td>4/17/2020 22:32</td>\n",
       "      <td>3490</td>\n",
       "      <td>4/17/2020 22:32</td>\n",
       "      <td>R_ClTXw6WOcfMOLWp</td>\n",
       "      <td>Chrome</td>\n",
       "      <td>81.0.4044.111</td>\n",
       "      <td>Android 9</td>\n",
       "      <td>360x760</td>\n",
       "      <td>...</td>\n",
       "      <td>6</td>\n",
       "      <td>0</td>\n",
       "      <td>0</td>\n",
       "      <td>0</td>\n",
       "      <td>0</td>\n",
       "      <td>0</td>\n",
       "      <td>0</td>\n",
       "      <td>5</td>\n",
       "      <td>3.0</td>\n",
       "      <td>0</td>\n",
       "    </tr>\n",
       "    <tr>\n",
       "      <th>3</th>\n",
       "      <td>2031</td>\n",
       "      <td>4/16/2020 17:29</td>\n",
       "      <td>4/16/2020 18:34</td>\n",
       "      <td>3885</td>\n",
       "      <td>4/16/2020 18:34</td>\n",
       "      <td>R_3sjr4zeG5BbBJa0</td>\n",
       "      <td>Chrome</td>\n",
       "      <td>78.0.3904.96</td>\n",
       "      <td>Android 7.1.1</td>\n",
       "      <td>320x570</td>\n",
       "      <td>...</td>\n",
       "      <td>13</td>\n",
       "      <td>1</td>\n",
       "      <td>0</td>\n",
       "      <td>0</td>\n",
       "      <td>0</td>\n",
       "      <td>0</td>\n",
       "      <td>0</td>\n",
       "      <td>1</td>\n",
       "      <td>3.0</td>\n",
       "      <td>1</td>\n",
       "    </tr>\n",
       "    <tr>\n",
       "      <th>4</th>\n",
       "      <td>587</td>\n",
       "      <td>4/16/2020 15:20</td>\n",
       "      <td>4/16/2020 15:59</td>\n",
       "      <td>2330</td>\n",
       "      <td>4/16/2020 15:59</td>\n",
       "      <td>R_21H8jh0vE4GUqI5</td>\n",
       "      <td>Chrome</td>\n",
       "      <td>80.0.3987.132</td>\n",
       "      <td>Windows NT 10.0</td>\n",
       "      <td>1920x1080</td>\n",
       "      <td>...</td>\n",
       "      <td>4</td>\n",
       "      <td>0</td>\n",
       "      <td>1</td>\n",
       "      <td>0</td>\n",
       "      <td>0</td>\n",
       "      <td>0</td>\n",
       "      <td>0</td>\n",
       "      <td>2</td>\n",
       "      <td>2.0</td>\n",
       "      <td>0</td>\n",
       "    </tr>\n",
       "  </tbody>\n",
       "</table>\n",
       "<p>5 rows × 470 columns</p>\n",
       "</div>"
      ],
      "text/plain": [
       "     V1        StartDate          EndDate   _v1     RecordedDate  \\\n",
       "0  1451  4/12/2020 17:04  4/12/2020 17:23  1131  4/12/2020 17:23   \n",
       "1  2875  4/16/2020 10:14  4/16/2020 11:06  3170  4/16/2020 11:06   \n",
       "2   859  4/17/2020 21:34  4/17/2020 22:32  3490  4/17/2020 22:32   \n",
       "3  2031  4/16/2020 17:29  4/16/2020 18:34  3885  4/16/2020 18:34   \n",
       "4   587  4/16/2020 15:20  4/16/2020 15:59  2330  4/16/2020 15:59   \n",
       "\n",
       "          ResponseId qmetadata_Browser qmetadata_Version              _v2  \\\n",
       "0  R_3oBJppI62KNh4MC            Chrome      81.0.4044.96        Android 9   \n",
       "1  R_1jdLlxoKBpgExZS           Firefox                52   Windows NT 5.1   \n",
       "2  R_ClTXw6WOcfMOLWp            Chrome     81.0.4044.111        Android 9   \n",
       "3  R_3sjr4zeG5BbBJa0            Chrome      78.0.3904.96    Android 7.1.1   \n",
       "4  R_21H8jh0vE4GUqI5            Chrome     80.0.3987.132  Windows NT 10.0   \n",
       "\n",
       "  qmetadata_Resolution  ...  rr_scale  white  black  namer  asian  hpi  mixed  \\\n",
       "0              360x760  ...         9      1      0      0      0    0      0   \n",
       "1             1024x768  ...        16      1      0      0      0    0      0   \n",
       "2              360x760  ...         6      0      0      0      0    0      0   \n",
       "3              320x570  ...        13      1      0      0      0    0      0   \n",
       "4            1920x1080  ...         4      0      1      0      0    0      0   \n",
       "\n",
       "   race7  vidx  vidknow  \n",
       "0      1   2.0        1  \n",
       "1      1   3.0        0  \n",
       "2      5   3.0        0  \n",
       "3      1   3.0        1  \n",
       "4      2   2.0        0  \n",
       "\n",
       "[5 rows x 470 columns]"
      ]
     },
     "execution_count": 3,
     "metadata": {},
     "output_type": "execute_result"
    }
   ],
   "source": [
    "anes.head()"
   ]
  },
  {
   "cell_type": "code",
   "execution_count": 4,
   "metadata": {},
   "outputs": [
    {
     "data": {
      "text/plain": [
       "(3080, 470)"
      ]
     },
     "execution_count": 4,
     "metadata": {},
     "output_type": "execute_result"
    }
   ],
   "source": [
    "anes.shape"
   ]
  },
  {
   "cell_type": "code",
   "execution_count": 5,
   "metadata": {},
   "outputs": [
    {
     "name": "stdout",
     "output_type": "stream",
     "text": [
      "<class 'pandas.core.frame.DataFrame'>\n",
      "RangeIndex: 3080 entries, 0 to 3079\n",
      "Columns: 470 entries, V1 to vidknow\n",
      "dtypes: float64(3), int64(453), object(14)\n",
      "memory usage: 11.0+ MB\n"
     ]
    }
   ],
   "source": [
    "anes.info()"
   ]
  },
  {
   "cell_type": "code",
   "execution_count": 6,
   "metadata": {},
   "outputs": [
    {
     "data": {
      "text/html": [
       "<div>\n",
       "<style scoped>\n",
       "    .dataframe tbody tr th:only-of-type {\n",
       "        vertical-align: middle;\n",
       "    }\n",
       "\n",
       "    .dataframe tbody tr th {\n",
       "        vertical-align: top;\n",
       "    }\n",
       "\n",
       "    .dataframe thead th {\n",
       "        text-align: right;\n",
       "    }\n",
       "</style>\n",
       "<table border=\"1\" class=\"dataframe\">\n",
       "  <thead>\n",
       "    <tr style=\"text-align: right;\">\n",
       "      <th></th>\n",
       "      <th>V1</th>\n",
       "      <th>_v1</th>\n",
       "      <th>follow</th>\n",
       "      <th>reg1</th>\n",
       "      <th>votemail1a</th>\n",
       "      <th>votemail1b</th>\n",
       "      <th>votecount</th>\n",
       "      <th>votemail2</th>\n",
       "      <th>voterid1</th>\n",
       "      <th>voterid2</th>\n",
       "      <th>...</th>\n",
       "      <th>rr_scale</th>\n",
       "      <th>white</th>\n",
       "      <th>black</th>\n",
       "      <th>namer</th>\n",
       "      <th>asian</th>\n",
       "      <th>hpi</th>\n",
       "      <th>mixed</th>\n",
       "      <th>race7</th>\n",
       "      <th>vidx</th>\n",
       "      <th>vidknow</th>\n",
       "    </tr>\n",
       "  </thead>\n",
       "  <tbody>\n",
       "    <tr>\n",
       "      <th>count</th>\n",
       "      <td>3080.00000</td>\n",
       "      <td>3080.000000</td>\n",
       "      <td>3080.000000</td>\n",
       "      <td>3080.000000</td>\n",
       "      <td>3080.000000</td>\n",
       "      <td>3080.000000</td>\n",
       "      <td>3080.000000</td>\n",
       "      <td>3080.000000</td>\n",
       "      <td>3080.000000</td>\n",
       "      <td>3080.000000</td>\n",
       "      <td>...</td>\n",
       "      <td>3080.000000</td>\n",
       "      <td>3080.000000</td>\n",
       "      <td>3080.000000</td>\n",
       "      <td>3080.000000</td>\n",
       "      <td>3080.000000</td>\n",
       "      <td>3080.000000</td>\n",
       "      <td>3080.000000</td>\n",
       "      <td>3080.000000</td>\n",
       "      <td>3078.000000</td>\n",
       "      <td>3080.000000</td>\n",
       "    </tr>\n",
       "    <tr>\n",
       "      <th>mean</th>\n",
       "      <td>1540.50000</td>\n",
       "      <td>3798.924026</td>\n",
       "      <td>1.644156</td>\n",
       "      <td>1.290584</td>\n",
       "      <td>46.673377</td>\n",
       "      <td>39.099351</td>\n",
       "      <td>3.329221</td>\n",
       "      <td>2.751948</td>\n",
       "      <td>1.547727</td>\n",
       "      <td>3.457468</td>\n",
       "      <td>...</td>\n",
       "      <td>8.692857</td>\n",
       "      <td>0.701623</td>\n",
       "      <td>0.106169</td>\n",
       "      <td>0.005195</td>\n",
       "      <td>0.036364</td>\n",
       "      <td>0.001948</td>\n",
       "      <td>0.034091</td>\n",
       "      <td>1.785714</td>\n",
       "      <td>1.816439</td>\n",
       "      <td>0.407792</td>\n",
       "    </tr>\n",
       "    <tr>\n",
       "      <th>std</th>\n",
       "      <td>889.26374</td>\n",
       "      <td>10553.322567</td>\n",
       "      <td>0.876972</td>\n",
       "      <td>0.724222</td>\n",
       "      <td>42.500686</td>\n",
       "      <td>36.917557</td>\n",
       "      <td>1.093571</td>\n",
       "      <td>1.310572</td>\n",
       "      <td>0.776603</td>\n",
       "      <td>2.807707</td>\n",
       "      <td>...</td>\n",
       "      <td>5.998361</td>\n",
       "      <td>0.457620</td>\n",
       "      <td>0.308104</td>\n",
       "      <td>0.071899</td>\n",
       "      <td>0.187224</td>\n",
       "      <td>0.044101</td>\n",
       "      <td>0.282326</td>\n",
       "      <td>1.430945</td>\n",
       "      <td>1.272351</td>\n",
       "      <td>0.491504</td>\n",
       "    </tr>\n",
       "    <tr>\n",
       "      <th>min</th>\n",
       "      <td>1.00000</td>\n",
       "      <td>464.000000</td>\n",
       "      <td>1.000000</td>\n",
       "      <td>1.000000</td>\n",
       "      <td>1.000000</td>\n",
       "      <td>1.000000</td>\n",
       "      <td>1.000000</td>\n",
       "      <td>1.000000</td>\n",
       "      <td>1.000000</td>\n",
       "      <td>1.000000</td>\n",
       "      <td>...</td>\n",
       "      <td>0.000000</td>\n",
       "      <td>0.000000</td>\n",
       "      <td>0.000000</td>\n",
       "      <td>0.000000</td>\n",
       "      <td>0.000000</td>\n",
       "      <td>0.000000</td>\n",
       "      <td>0.000000</td>\n",
       "      <td>1.000000</td>\n",
       "      <td>0.000000</td>\n",
       "      <td>0.000000</td>\n",
       "    </tr>\n",
       "    <tr>\n",
       "      <th>25%</th>\n",
       "      <td>770.75000</td>\n",
       "      <td>1643.750000</td>\n",
       "      <td>1.000000</td>\n",
       "      <td>1.000000</td>\n",
       "      <td>2.000000</td>\n",
       "      <td>3.000000</td>\n",
       "      <td>3.000000</td>\n",
       "      <td>2.000000</td>\n",
       "      <td>1.000000</td>\n",
       "      <td>1.000000</td>\n",
       "      <td>...</td>\n",
       "      <td>6.000000</td>\n",
       "      <td>0.000000</td>\n",
       "      <td>0.000000</td>\n",
       "      <td>0.000000</td>\n",
       "      <td>0.000000</td>\n",
       "      <td>0.000000</td>\n",
       "      <td>0.000000</td>\n",
       "      <td>1.000000</td>\n",
       "      <td>1.000000</td>\n",
       "      <td>0.000000</td>\n",
       "    </tr>\n",
       "    <tr>\n",
       "      <th>50%</th>\n",
       "      <td>1540.50000</td>\n",
       "      <td>2233.500000</td>\n",
       "      <td>1.000000</td>\n",
       "      <td>1.000000</td>\n",
       "      <td>88.000000</td>\n",
       "      <td>7.000000</td>\n",
       "      <td>3.000000</td>\n",
       "      <td>3.000000</td>\n",
       "      <td>1.000000</td>\n",
       "      <td>2.000000</td>\n",
       "      <td>...</td>\n",
       "      <td>8.000000</td>\n",
       "      <td>1.000000</td>\n",
       "      <td>0.000000</td>\n",
       "      <td>0.000000</td>\n",
       "      <td>0.000000</td>\n",
       "      <td>0.000000</td>\n",
       "      <td>0.000000</td>\n",
       "      <td>1.000000</td>\n",
       "      <td>2.000000</td>\n",
       "      <td>0.000000</td>\n",
       "    </tr>\n",
       "    <tr>\n",
       "      <th>75%</th>\n",
       "      <td>2310.25000</td>\n",
       "      <td>3211.250000</td>\n",
       "      <td>2.000000</td>\n",
       "      <td>1.000000</td>\n",
       "      <td>88.000000</td>\n",
       "      <td>77.000000</td>\n",
       "      <td>4.000000</td>\n",
       "      <td>4.000000</td>\n",
       "      <td>2.000000</td>\n",
       "      <td>7.000000</td>\n",
       "      <td>...</td>\n",
       "      <td>11.000000</td>\n",
       "      <td>1.000000</td>\n",
       "      <td>0.000000</td>\n",
       "      <td>0.000000</td>\n",
       "      <td>0.000000</td>\n",
       "      <td>0.000000</td>\n",
       "      <td>0.000000</td>\n",
       "      <td>2.000000</td>\n",
       "      <td>3.000000</td>\n",
       "      <td>1.000000</td>\n",
       "    </tr>\n",
       "    <tr>\n",
       "      <th>max</th>\n",
       "      <td>3080.00000</td>\n",
       "      <td>255418.000000</td>\n",
       "      <td>9.000000</td>\n",
       "      <td>4.000000</td>\n",
       "      <td>88.000000</td>\n",
       "      <td>77.000000</td>\n",
       "      <td>9.000000</td>\n",
       "      <td>9.000000</td>\n",
       "      <td>9.000000</td>\n",
       "      <td>9.000000</td>\n",
       "      <td>...</td>\n",
       "      <td>99.000000</td>\n",
       "      <td>1.000000</td>\n",
       "      <td>1.000000</td>\n",
       "      <td>1.000000</td>\n",
       "      <td>1.000000</td>\n",
       "      <td>1.000000</td>\n",
       "      <td>9.000000</td>\n",
       "      <td>9.000000</td>\n",
       "      <td>3.000000</td>\n",
       "      <td>1.000000</td>\n",
       "    </tr>\n",
       "  </tbody>\n",
       "</table>\n",
       "<p>8 rows × 456 columns</p>\n",
       "</div>"
      ],
      "text/plain": [
       "               V1            _v1       follow         reg1   votemail1a  \\\n",
       "count  3080.00000    3080.000000  3080.000000  3080.000000  3080.000000   \n",
       "mean   1540.50000    3798.924026     1.644156     1.290584    46.673377   \n",
       "std     889.26374   10553.322567     0.876972     0.724222    42.500686   \n",
       "min       1.00000     464.000000     1.000000     1.000000     1.000000   \n",
       "25%     770.75000    1643.750000     1.000000     1.000000     2.000000   \n",
       "50%    1540.50000    2233.500000     1.000000     1.000000    88.000000   \n",
       "75%    2310.25000    3211.250000     2.000000     1.000000    88.000000   \n",
       "max    3080.00000  255418.000000     9.000000     4.000000    88.000000   \n",
       "\n",
       "        votemail1b    votecount    votemail2     voterid1     voterid2  ...  \\\n",
       "count  3080.000000  3080.000000  3080.000000  3080.000000  3080.000000  ...   \n",
       "mean     39.099351     3.329221     2.751948     1.547727     3.457468  ...   \n",
       "std      36.917557     1.093571     1.310572     0.776603     2.807707  ...   \n",
       "min       1.000000     1.000000     1.000000     1.000000     1.000000  ...   \n",
       "25%       3.000000     3.000000     2.000000     1.000000     1.000000  ...   \n",
       "50%       7.000000     3.000000     3.000000     1.000000     2.000000  ...   \n",
       "75%      77.000000     4.000000     4.000000     2.000000     7.000000  ...   \n",
       "max      77.000000     9.000000     9.000000     9.000000     9.000000  ...   \n",
       "\n",
       "          rr_scale        white        black        namer        asian  \\\n",
       "count  3080.000000  3080.000000  3080.000000  3080.000000  3080.000000   \n",
       "mean      8.692857     0.701623     0.106169     0.005195     0.036364   \n",
       "std       5.998361     0.457620     0.308104     0.071899     0.187224   \n",
       "min       0.000000     0.000000     0.000000     0.000000     0.000000   \n",
       "25%       6.000000     0.000000     0.000000     0.000000     0.000000   \n",
       "50%       8.000000     1.000000     0.000000     0.000000     0.000000   \n",
       "75%      11.000000     1.000000     0.000000     0.000000     0.000000   \n",
       "max      99.000000     1.000000     1.000000     1.000000     1.000000   \n",
       "\n",
       "               hpi        mixed        race7         vidx      vidknow  \n",
       "count  3080.000000  3080.000000  3080.000000  3078.000000  3080.000000  \n",
       "mean      0.001948     0.034091     1.785714     1.816439     0.407792  \n",
       "std       0.044101     0.282326     1.430945     1.272351     0.491504  \n",
       "min       0.000000     0.000000     1.000000     0.000000     0.000000  \n",
       "25%       0.000000     0.000000     1.000000     1.000000     0.000000  \n",
       "50%       0.000000     0.000000     1.000000     2.000000     0.000000  \n",
       "75%       0.000000     0.000000     2.000000     3.000000     1.000000  \n",
       "max       1.000000     9.000000     9.000000     3.000000     1.000000  \n",
       "\n",
       "[8 rows x 456 columns]"
      ]
     },
     "execution_count": 6,
     "metadata": {},
     "output_type": "execute_result"
    }
   ],
   "source": [
    "anes.describe()"
   ]
  },
  {
   "cell_type": "markdown",
   "metadata": {},
   "source": [
    "# Dropping Columns "
   ]
  },
  {
   "cell_type": "code",
   "execution_count": 7,
   "metadata": {},
   "outputs": [],
   "source": [
    "#make a copy of the dataframe \n",
    "data = anes.copy(deep = True)"
   ]
  },
  {
   "cell_type": "code",
   "execution_count": 8,
   "metadata": {
    "scrolled": false
   },
   "outputs": [
    {
     "name": "stdout",
     "output_type": "stream",
     "text": [
      "V1\n",
      "StartDate\n",
      "EndDate\n",
      "_v1\n",
      "RecordedDate\n",
      "ResponseId\n",
      "qmetadata_Browser\n",
      "qmetadata_Version\n",
      "_v2\n",
      "qmetadata_Resolution\n",
      "follow\n",
      "reg1\n",
      "votemail1a\n",
      "votemail1b\n",
      "votecount\n",
      "votemail2\n",
      "voterid1\n",
      "voterid2\n",
      "turnout16a\n",
      "turnout16a1\n",
      "turnout16b\n",
      "vote16\n",
      "hopeful\n",
      "afraid\n",
      "outraged\n",
      "angry\n",
      "happy\n",
      "worried\n",
      "proud\n",
      "irritated\n",
      "nervous\n",
      "meeting\n",
      "moneyorg\n",
      "protest\n",
      "online\n",
      "persuade\n",
      "button\n",
      "moneycand\n",
      "argument\n",
      "particip_none\n",
      "talk1\n",
      "talk2\n",
      "talk3\n",
      "fttrump1\n",
      "ftobama1\n",
      "ftbiden1\n",
      "ftwarren1\n",
      "ftsanders1\n",
      "ftbuttigieg1\n",
      "ftharris1\n",
      "ftklobuchar1\n",
      "ftpence1\n",
      "ftyang1\n",
      "ftpelosi1\n",
      "ftrubio1\n",
      "ftocasioc1\n",
      "fthaley1\n",
      "ftthomas1\n",
      "ftfauci1\n",
      "ftblack\n",
      "ftwhite\n",
      "fthisp\n",
      "ftasian\n",
      "ftillegal\n",
      "ftfeminists\n",
      "ftmetoo\n",
      "fttransppl\n",
      "ftsocialists\n",
      "ftcapitalists\n",
      "ftbigbusiness\n",
      "ftlaborunions\n",
      "ftrepublicanparty\n",
      "ftdemocraticparty\n",
      "primaryvote\n",
      "vote20jb\n",
      "vote20bs\n",
      "cvote2020\n",
      "apppres7\n",
      "frnpres7\n",
      "immpres7\n",
      "econpres7\n",
      "covidpres7\n",
      "healthcarepres7\n",
      "check\n",
      "dtleader1\n",
      "dtleader2\n",
      "dtcares\n",
      "dtdignif\n",
      "dthonest\n",
      "dtauth\n",
      "dtdiv\n",
      "dtknow\n",
      "jbleader1\n",
      "jbleader2\n",
      "jbcares\n",
      "jbdignif\n",
      "jbhonest\n",
      "jbauth\n",
      "jbdiv\n",
      "jbknow\n",
      "bsleader1\n",
      "bsleader2\n",
      "bscares\n",
      "bsdignif\n",
      "bshonest\n",
      "bsauth\n",
      "bsdiv\n",
      "bsknow\n",
      "econnow\n",
      "finworry\n",
      "confecon\n",
      "taxecon\n",
      "billtax1\n",
      "billtax2\n",
      "richpoor2\n",
      "guarinc1\n",
      "guarinc2\n",
      "lcself\n",
      "lcd\n",
      "lcr\n",
      "freemkt1a\n",
      "freemkt1b\n",
      "freemkt2\n",
      "freemkt3\n",
      "govsize1a\n",
      "govsize1b\n",
      "govsize2\n",
      "govsize3\n",
      "regulate1\n",
      "regulate2\n",
      "ineqinc1a\n",
      "strpres1a\n",
      "strpres1b\n",
      "mutual\n",
      "leastgrp\n",
      "tol_rally\n",
      "tol_pres\n",
      "tol_teach\n",
      "antirelig1\n",
      "antirelig2\n",
      "racist1\n",
      "racist2\n",
      "immignum\n",
      "wall7\n",
      "pathway\n",
      "return\n",
      "open\n",
      "affact\n",
      "hlthcare1\n",
      "hlthcare2\n",
      "covid1\n",
      "covid2\n",
      "covid_elect\n",
      "abort1\n",
      "abort_imp\n",
      "abort2\n",
      "gayadopt\n",
      "transmilit1a\n",
      "transmilit1b\n",
      "harass\n",
      "freecol1\n",
      "freecol2\n",
      "loans1\n",
      "loans2\n",
      "diversity7\n",
      "experts\n",
      "science\n",
      "exphelp\n",
      "excessive\n",
      "compro1\n",
      "compro2\n",
      "pcorrect\n",
      "selfcensor\n",
      "childrear1\n",
      "childrear2\n",
      "childrear3\n",
      "childrear4\n",
      "rural2\n",
      "rural3\n",
      "rural4\n",
      "mis_covid1\n",
      "conf_covid1\n",
      "mis_covid2\n",
      "conf_covid2\n",
      "impeach1\n",
      "impeach2\n",
      "pid1r\n",
      "pid2r\n",
      "pidstr\n",
      "pidlean\n",
      "pidstr1\n",
      "pidstr2\n",
      "pidstr3\n",
      "rr1\n",
      "rr2\n",
      "rr3\n",
      "rr4\n",
      "health1\n",
      "relig1\n",
      "relig1_11_TEXT\n",
      "relig2a\n",
      "relig2b\n",
      "att1\n",
      "att2\n",
      "att3\n",
      "fundmt1\n",
      "fundmt2\n",
      "socmed_1\n",
      "socmed_2\n",
      "socmed_3\n",
      "socmed_4\n",
      "socmed_5\n",
      "socmed_6\n",
      "socmed_7\n",
      "socmed_8\n",
      "socmed_9\n",
      "facebook1\n",
      "twitter1\n",
      "impact1\n",
      "impact2\n",
      "impact3\n",
      "impact4\n",
      "impact5\n",
      "impact6\n",
      "impact7\n",
      "impact8\n",
      "impact9\n",
      "ethnic1\n",
      "ethnic2\n",
      "ethnic3\n",
      "latin1\n",
      "race1a_1\n",
      "race1a_2\n",
      "race1a_3\n",
      "race1a_4\n",
      "race1a_5\n",
      "race1b_1\n",
      "race1b_2\n",
      "race1b_3\n",
      "race1b_4\n",
      "race1b_5\n",
      "groupid1a_lat\n",
      "groupid2a_lat\n",
      "groupid3a_lat\n",
      "groupid1a_whi\n",
      "groupid1a_bla\n",
      "groupid1a_nat\n",
      "groupid1a_asi\n",
      "groupid1a_hpi\n",
      "groupid2a_whi\n",
      "groupid2a_bla\n",
      "groupid2a_nat\n",
      "groupid2a_asi\n",
      "groupid2a_hpi\n",
      "groupid3a_whi\n",
      "groupid3a_bla\n",
      "groupid3a_nat\n",
      "groupid3a_asi\n",
      "groupid3a_hpi\n",
      "groupid1b_lat\n",
      "groupid2b_lat\n",
      "groupid3b_lat\n",
      "groupid1b_whi\n",
      "groupid1b_bla\n",
      "groupid1b_nat\n",
      "groupid1b_asi\n",
      "groupid1b_hpi\n",
      "groupid2b_whi\n",
      "groupid2b_bla\n",
      "groupid2b_nat\n",
      "groupid2b_asi\n",
      "groupid2b_hpi\n",
      "groupid3b_whi\n",
      "groupid3b_bla\n",
      "groupid3b_nat\n",
      "groupid3b_asi\n",
      "groupid3b_hpi\n",
      "whitejob\n",
      "femid1a\n",
      "femid1b\n",
      "femid2_fem\n",
      "femid2_anti\n",
      "femid2_nei\n",
      "knowtran1\n",
      "knowtran2_1\n",
      "knowtran2_2\n",
      "knowtran2_3\n",
      "knowtran2_4\n",
      "knowtran2_5\n",
      "knowtran2_6\n",
      "knowgay1\n",
      "knowgay2_1\n",
      "knowgay2_2\n",
      "knowgay2_3\n",
      "knowgay2_4\n",
      "knowgay2_5\n",
      "knowgay2_6\n",
      "stress1\n",
      "stress2\n",
      "stress3\n",
      "stress4\n",
      "depress1\n",
      "depress2\n",
      "depress3\n",
      "depress4\n",
      "depress5\n",
      "callout1\n",
      "speech1\n",
      "forgive1a\n",
      "forgive1b\n",
      "callout2\n",
      "speech2\n",
      "forgive2a\n",
      "forgive2b\n",
      "divmoral\n",
      "forgive3\n",
      "moralsup1\n",
      "duepro3\n",
      "moralcert3\n",
      "forgive5\n",
      "intelsup1\n",
      "moralcert1\n",
      "duepro4\n",
      "moralcert6\n",
      "forgive4\n",
      "moralcert2\n",
      "duepro1\n",
      "callout3a\n",
      "callout3b\n",
      "moralsup2\n",
      "duepro2\n",
      "intelsup2\n",
      "duepro5\n",
      "moralcert4\n",
      "forgive6\n",
      "moralcert5\n",
      "link_bla\n",
      "link_his\n",
      "link_asi\n",
      "link_whi\n",
      "link_hpi\n",
      "link_nat\n",
      "selfmon1\n",
      "selfmon2\n",
      "selfmon3\n",
      "selfmon4\n",
      "selfmon5\n",
      "selfmon6\n",
      "inc_anes\n",
      "inc_cps\n",
      "inc_cpsmod\n",
      "home_anes\n",
      "home_cps\n",
      "viol3_dems\n",
      "viol3_reps\n",
      "viol3_both\n",
      "viol1\n",
      "viol2a\n",
      "viol2b\n",
      "exptravel_ever\n",
      "exphomesch\n",
      "expconvert\n",
      "expholiday\n",
      "expshark\n",
      "exparrest\n",
      "exppubasst\n",
      "expfight\n",
      "expavoid\n",
      "callout_social\n",
      "callout_person\n",
      "expknowimmig\n",
      "expbuyus\n",
      "expretire\n",
      "expknowpris\n",
      "birthyr\n",
      "sex\n",
      "educ\n",
      "state\n",
      "children\n",
      "marital1\n",
      "marital2\n",
      "citizen1\n",
      "citizen2\n",
      "geer1896\n",
      "admit\n",
      "mauga\n",
      "pk_cjus\n",
      "pk_germ\n",
      "pk_sen\n",
      "pk_spend\n",
      "whites_1\n",
      "whites_2\n",
      "whites_3\n",
      "whites_4\n",
      "whites_5\n",
      "whites_6\n",
      "whites_7\n",
      "blacks_1\n",
      "blacks_2\n",
      "blacks_3\n",
      "blacks_4\n",
      "blacks_5\n",
      "blacks_6\n",
      "blacks_7\n",
      "hisp_1\n",
      "hisp_2\n",
      "hisp_3\n",
      "hisp_4\n",
      "hisp_5\n",
      "hisp_6\n",
      "hisp_7\n",
      "asians_1\n",
      "asians_2\n",
      "asians_3\n",
      "asians_4\n",
      "asians_5\n",
      "asians_6\n",
      "asians_7\n",
      "survexp1\n",
      "survexp2\n",
      "dejavu\n",
      "serious\n",
      "form\n",
      "INSTRUCTION_GROUP\n",
      "FEEDBACK_GROUP\n",
      "XGOVT\n",
      "XFORGIVE\n",
      "XCONTACT\n",
      "RAND_INC\n",
      "surv_comp\n",
      "USIPAddress\n",
      "age\n",
      "home_ownership\n",
      "income\n",
      "vote20turnoutjb\n",
      "particip_count\n",
      "pk_mauga_correct\n",
      "pk_germ_correct\n",
      "pk_cjus_correct\n",
      "pk_sen_correct\n",
      "pk_spend_correct\n",
      "pk_cjus_correctb\n",
      "pk_index\n",
      "pidstr1_dr\n",
      "pidstr1_ind\n",
      "pidstr2_dr\n",
      "pidstr2_ind\n",
      "pidstr3_dr\n",
      "pidstr3_ind\n",
      "pid7\n",
      "pid7str\n",
      "hispanic\n",
      "hispanic_white\n",
      "nonhispanic_white\n",
      "hispanicr\n",
      "race1_white\n",
      "race1_black\n",
      "race1_namer\n",
      "race1_asian\n",
      "race1_hpi\n",
      "rr_scale\n",
      "white\n",
      "black\n",
      "namer\n",
      "asian\n",
      "hpi\n",
      "mixed\n",
      "race7\n",
      "vidx\n",
      "vidknow\n"
     ]
    }
   ],
   "source": [
    "#look at all the column names\n",
    "for col in data.columns:\n",
    "    print(col)"
   ]
  },
  {
   "cell_type": "markdown",
   "metadata": {},
   "source": [
    "# Addressing Null Values"
   ]
  },
  {
   "cell_type": "code",
   "execution_count": 9,
   "metadata": {},
   "outputs": [
    {
     "name": "stdout",
     "output_type": "stream",
     "text": [
      "         V1  StartDate  EndDate    _v1  RecordedDate  ResponseId  \\\n",
      "0     False      False    False  False         False       False   \n",
      "1     False      False    False  False         False       False   \n",
      "2     False      False    False  False         False       False   \n",
      "3     False      False    False  False         False       False   \n",
      "4     False      False    False  False         False       False   \n",
      "...     ...        ...      ...    ...           ...         ...   \n",
      "3075  False      False    False  False         False       False   \n",
      "3076  False      False    False  False         False       False   \n",
      "3077  False      False    False  False         False       False   \n",
      "3078  False      False    False  False         False       False   \n",
      "3079  False      False    False  False         False       False   \n",
      "\n",
      "      qmetadata_Browser  qmetadata_Version    _v2  qmetadata_Resolution  ...  \\\n",
      "0                 False              False  False                 False  ...   \n",
      "1                 False              False  False                 False  ...   \n",
      "2                 False              False  False                 False  ...   \n",
      "3                 False              False  False                 False  ...   \n",
      "4                 False              False  False                 False  ...   \n",
      "...                 ...                ...    ...                   ...  ...   \n",
      "3075              False              False  False                 False  ...   \n",
      "3076              False              False  False                 False  ...   \n",
      "3077              False              False  False                 False  ...   \n",
      "3078              False              False  False                 False  ...   \n",
      "3079              False              False  False                 False  ...   \n",
      "\n",
      "      rr_scale  white  black  namer  asian    hpi  mixed  race7   vidx  \\\n",
      "0        False  False  False  False  False  False  False  False  False   \n",
      "1        False  False  False  False  False  False  False  False  False   \n",
      "2        False  False  False  False  False  False  False  False  False   \n",
      "3        False  False  False  False  False  False  False  False  False   \n",
      "4        False  False  False  False  False  False  False  False  False   \n",
      "...        ...    ...    ...    ...    ...    ...    ...    ...    ...   \n",
      "3075     False  False  False  False  False  False  False  False  False   \n",
      "3076     False  False  False  False  False  False  False  False  False   \n",
      "3077     False  False  False  False  False  False  False  False  False   \n",
      "3078     False  False  False  False  False  False  False  False  False   \n",
      "3079     False  False  False  False  False  False  False  False  False   \n",
      "\n",
      "      vidknow  \n",
      "0       False  \n",
      "1       False  \n",
      "2       False  \n",
      "3       False  \n",
      "4       False  \n",
      "...       ...  \n",
      "3075    False  \n",
      "3076    False  \n",
      "3077    False  \n",
      "3078    False  \n",
      "3079    False  \n",
      "\n",
      "[3080 rows x 470 columns]\n"
     ]
    }
   ],
   "source": [
    "check_for_nan = data.isnull()\n",
    "print (check_for_nan)"
   ]
  },
  {
   "cell_type": "code",
   "execution_count": 10,
   "metadata": {},
   "outputs": [
    {
     "data": {
      "text/plain": [
       "True"
      ]
     },
     "execution_count": 10,
     "metadata": {},
     "output_type": "execute_result"
    }
   ],
   "source": [
    "data.isnull().values.any()"
   ]
  },
  {
   "cell_type": "code",
   "execution_count": 11,
   "metadata": {},
   "outputs": [
    {
     "data": {
      "text/plain": [
       "3216"
      ]
     },
     "execution_count": 11,
     "metadata": {},
     "output_type": "execute_result"
    }
   ],
   "source": [
    "#these are the amount of nulls\n",
    "data.isna().sum().sum()"
   ]
  },
  {
   "cell_type": "code",
   "execution_count": 12,
   "metadata": {},
   "outputs": [
    {
     "data": {
      "text/plain": [
       "Index(['relig1_11_TEXT', 'mauga', 'pk_cjus', 'pk_germ'], dtype='object')"
      ]
     },
     "execution_count": 12,
     "metadata": {},
     "output_type": "execute_result"
    }
   ],
   "source": [
    "#this is where i have null values greater than 100\n",
    "data.columns[data.isnull().sum()>100]\n",
    "\n",
    "#mauga, pk_cjus, pk_germ are questions that ask respondents to identify who is in foreign political offices, and relig_11-TEXT is a text box where respondentss can put in their religiouss ID iif it was not listed\n",
    "#these columns are not pertinent to my analysis bc i already have a religion ID column and we are focusesd on domestic not international knowledeg\n",
    "# i am going to drop these columns "
   ]
  },
  {
   "cell_type": "code",
   "execution_count": 13,
   "metadata": {},
   "outputs": [
    {
     "data": {
      "text/plain": [
       "2    2827\n",
       "1     243\n",
       "9      10\n",
       "Name: expshark, dtype: int64"
      ]
     },
     "execution_count": 13,
     "metadata": {},
     "output_type": "execute_result"
    }
   ],
   "source": [
    "data['expshark'].value_counts()"
   ]
  },
  {
   "cell_type": "code",
   "execution_count": 14,
   "metadata": {},
   "outputs": [],
   "source": [
    "data.drop(inplace=True, columns=[ 'V1', 'StartDate', 'EndDate', '_v1', 'RecordedDate', \n",
    "                                 'ResponseId','qmetadata_Browser', 'qmetadata_Version', '_v2', \n",
    "                                 'qmetadata_Resolution', 'check','relig1_11_TEXT', 'mauga', 'pk_cjus', \n",
    "                                 'pk_germ', 'ethnic1', 'ethnic2', 'ethnic3', 'mixed', 'hpi', 'asian', 'namer',\n",
    "                                'black', 'white', 'race1_hpi', 'race1_asian', 'race1_namer', 'race1_black', 'race1_white',\n",
    "                                'hispanicr', 'nonhispanic_white', 'hispanic_white', 'hispanic', 'pid2r', 'pk_index',\n",
    "                                'survexp1', 'survexp2', 'dejavu', 'surv_comp', 'RAND_INC', 'XCONTACT', 'XFORGIVE', 'FEEDBACK_GROUP',\n",
    "                                'INSTRUCTION_GROUP', 'form', 'serious', 'admit', 'geer1896', 'pk_sen', 'pk_spend', 'expshark', 'inc_anes'])\n",
    "\n",
    "\n",
    "# make sure to drop race variiables --> pg 59 to  72\n",
    "# drop inc_anes, inc_cps, inc_cpsmoddd, exp_shark\n",
    "\n",
    "# make sure to convert birthry \n",
    "# drop marital2\n",
    "\n",
    "# drop the citizen stuff \n",
    "# drop geer\n",
    "# drop admit \n",
    "# drop PK pg 100 --> 101\n",
    "# drop whites_1 --> whites_7 and samee for blacks, hisp, asians, survexp1 & 2, dejavu\n",
    "# basicallly 98 on \n",
    "# drop age if you have birthyr \n",
    "# drop pg 114 until 117 \n",
    "\n",
    "\n",
    "#USE PID 7 AS DEMO FOR PID\n",
    "#race7 as demo \n",
    "\n"
   ]
  },
  {
   "cell_type": "markdown",
   "metadata": {},
   "source": [
    "What columns I am dropping and why:\n",
    "1. qmetadata_Broweser, qmetadata_Verrsion, _v2, qmetadata_Resolution, \n",
    "    these columns contains information about what browers repondents utlizied when taking the survey. For the purposes of my analysis, this information is not relevant. \n",
    "  \n",
    "2. StartDate, EndDate and RecordedDate \n",
    "    these columns contain information about when the survey was conducted. Not needed \n",
    " \n",
    "3. \n",
    "    V1, _v1\n",
    "        no information about these \n",
    "\n",
    "4. ResponseID\n",
    "    unique ID for each respondent \n",
    " \n",
    " 5. 'check' column was a question that asked repondents to select a certaina nswer so the surveyors could ensure the respondent's device was working\n",
    "\n",
    "\n"
   ]
  },
  {
   "cell_type": "code",
   "execution_count": 15,
   "metadata": {},
   "outputs": [
    {
     "data": {
      "text/plain": [
       "True"
      ]
     },
     "execution_count": 15,
     "metadata": {},
     "output_type": "execute_result"
    }
   ],
   "source": [
    "#looks like we still have some null values\n",
    "data.isnull().values.any()"
   ]
  },
  {
   "cell_type": "code",
   "execution_count": 16,
   "metadata": {},
   "outputs": [
    {
     "data": {
      "text/plain": [
       "2"
      ]
     },
     "execution_count": 16,
     "metadata": {},
     "output_type": "execute_result"
    }
   ],
   "source": [
    "#looks like there are only 8 rows with null values, let's go ahead and drop them since missing 8 rows from 3k rows is not a huge differrence \n",
    "data.isna().sum().sum()"
   ]
  },
  {
   "cell_type": "code",
   "execution_count": 17,
   "metadata": {},
   "outputs": [],
   "source": [
    "data.dropna(inplace=True)\n"
   ]
  },
  {
   "cell_type": "code",
   "execution_count": 18,
   "metadata": {},
   "outputs": [
    {
     "data": {
      "text/plain": [
       "(3078, 418)"
      ]
     },
     "execution_count": 18,
     "metadata": {},
     "output_type": "execute_result"
    }
   ],
   "source": [
    "data.shape"
   ]
  },
  {
   "cell_type": "code",
   "execution_count": 19,
   "metadata": {},
   "outputs": [
    {
     "data": {
      "text/plain": [
       "False"
      ]
     },
     "execution_count": 19,
     "metadata": {},
     "output_type": "execute_result"
    }
   ],
   "source": [
    "#no more null values! \n",
    "data.isnull().values.any()"
   ]
  },
  {
   "cell_type": "markdown",
   "metadata": {},
   "source": [
    "# Imputing \n",
    "- bc of the nature of surrveys, some respondents dont get asked certain questions --> NA \n",
    "- and a lot of missing over all \n",
    "\n",
    "cant just drop things, will have to imput the median "
   ]
  },
  {
   "cell_type": "code",
   "execution_count": null,
   "metadata": {},
   "outputs": [],
   "source": []
  },
  {
   "cell_type": "markdown",
   "metadata": {},
   "source": [
    "# make 9 for missing NA"
   ]
  },
  {
   "cell_type": "code",
   "execution_count": 20,
   "metadata": {},
   "outputs": [],
   "source": [
    "data['vote20jb'].replace(9, np.nan, inplace=True)"
   ]
  },
  {
   "cell_type": "markdown",
   "metadata": {},
   "source": [
    "# make  88 for NA --> NA"
   ]
  },
  {
   "cell_type": "code",
   "execution_count": null,
   "metadata": {},
   "outputs": [],
   "source": []
  },
  {
   "cell_type": "markdown",
   "metadata": {},
   "source": [
    "# make 77 for NA --> NA"
   ]
  },
  {
   "cell_type": "code",
   "execution_count": null,
   "metadata": {},
   "outputs": [],
   "source": []
  },
  {
   "cell_type": "markdown",
   "metadata": {},
   "source": [
    "# make 8 for missing NA"
   ]
  },
  {
   "cell_type": "code",
   "execution_count": null,
   "metadata": {},
   "outputs": [],
   "source": []
  },
  {
   "cell_type": "markdown",
   "metadata": {},
   "source": [
    "# make 7 for NA --> NA"
   ]
  },
  {
   "cell_type": "code",
   "execution_count": null,
   "metadata": {},
   "outputs": [],
   "source": []
  },
  {
   "cell_type": "markdown",
   "metadata": {},
   "source": [
    "# make 99 for missing NA"
   ]
  },
  {
   "cell_type": "code",
   "execution_count": null,
   "metadata": {},
   "outputs": [],
   "source": []
  },
  {
   "cell_type": "code",
   "execution_count": null,
   "metadata": {},
   "outputs": [],
   "source": []
  },
  {
   "cell_type": "code",
   "execution_count": null,
   "metadata": {},
   "outputs": [],
   "source": []
  },
  {
   "cell_type": "code",
   "execution_count": null,
   "metadata": {},
   "outputs": [],
   "source": []
  },
  {
   "cell_type": "code",
   "execution_count": null,
   "metadata": {},
   "outputs": [],
   "source": []
  },
  {
   "cell_type": "code",
   "execution_count": null,
   "metadata": {},
   "outputs": [],
   "source": []
  },
  {
   "cell_type": "code",
   "execution_count": null,
   "metadata": {},
   "outputs": [],
   "source": []
  },
  {
   "cell_type": "code",
   "execution_count": null,
   "metadata": {},
   "outputs": [],
   "source": []
  },
  {
   "cell_type": "code",
   "execution_count": null,
   "metadata": {},
   "outputs": [],
   "source": [
    "# creating a dataframe of just demographic variables \n",
    "\n",
    "demographic = data[['age', 'home_ownership', 'income', 'lcself', 'race7', 'citizen1', 'citizen2', 'marital1', 'marital2', 'state', 'children', 'educ', 'sex', 'birthyr']]"
   ]
  },
  {
   "cell_type": "markdown",
   "metadata": {},
   "source": [
    "# Exploring Distributions"
   ]
  },
  {
   "cell_type": "code",
   "execution_count": null,
   "metadata": {},
   "outputs": [],
   "source": [
    "data['mis_covid1'].value_counts(normalize=True)\n"
   ]
  },
  {
   "cell_type": "code",
   "execution_count": null,
   "metadata": {},
   "outputs": [],
   "source": [
    "#dropping the 2 non-responses\n",
    "data.drop(data[data['mis_covid1'] == 9].index, inplace=True)"
   ]
  },
  {
   "cell_type": "code",
   "execution_count": null,
   "metadata": {},
   "outputs": [],
   "source": [
    "data['mis_covid1'].value_counts(normalize=True)"
   ]
  },
  {
   "cell_type": "code",
   "execution_count": null,
   "metadata": {},
   "outputs": [],
   "source": [
    "data['conf_covid1'].value_counts(normalize=True)"
   ]
  },
  {
   "cell_type": "code",
   "execution_count": null,
   "metadata": {},
   "outputs": [],
   "source": [
    "data['mis_covid2'].value_counts(normalize=True)"
   ]
  },
  {
   "cell_type": "code",
   "execution_count": null,
   "metadata": {},
   "outputs": [],
   "source": [
    "\n",
    "data.drop(data[data['mis_covid2'] == 9].index, inplace=True)"
   ]
  },
  {
   "cell_type": "code",
   "execution_count": null,
   "metadata": {},
   "outputs": [],
   "source": [
    "data['mis_covid2'].value_counts(normalize=True)"
   ]
  },
  {
   "cell_type": "code",
   "execution_count": null,
   "metadata": {},
   "outputs": [],
   "source": [
    "data['conf_covid2'].value_counts(normalize=True)"
   ]
  },
  {
   "cell_type": "code",
   "execution_count": null,
   "metadata": {},
   "outputs": [],
   "source": [
    "data['viol3_dems'].value_counts(normalize=True)"
   ]
  },
  {
   "cell_type": "code",
   "execution_count": null,
   "metadata": {},
   "outputs": [],
   "source": [
    "data.drop(data[data['viol3_dems'] == 6].index, inplace=True)"
   ]
  },
  {
   "cell_type": "code",
   "execution_count": null,
   "metadata": {},
   "outputs": [],
   "source": [
    "data['viol3_dems'].value_counts()"
   ]
  },
  {
   "cell_type": "code",
   "execution_count": null,
   "metadata": {},
   "outputs": [],
   "source": [
    "data['viol3_reps'].value_counts(normalize=True)"
   ]
  },
  {
   "cell_type": "code",
   "execution_count": null,
   "metadata": {},
   "outputs": [],
   "source": [
    "anes['viol3_reps'].value_counts(normalize=True)"
   ]
  },
  {
   "cell_type": "code",
   "execution_count": null,
   "metadata": {},
   "outputs": [],
   "source": [
    "data.drop(data[data['viol3_reps'] == 6].index, inplace=True)"
   ]
  },
  {
   "cell_type": "code",
   "execution_count": null,
   "metadata": {},
   "outputs": [],
   "source": [
    "data['viol3_reps'].value_counts(normalize=True)"
   ]
  },
  {
   "cell_type": "code",
   "execution_count": null,
   "metadata": {},
   "outputs": [],
   "source": [
    "data['viol3_both'].value_counts(normalize=True)"
   ]
  },
  {
   "cell_type": "code",
   "execution_count": null,
   "metadata": {},
   "outputs": [],
   "source": [
    "data['facebook1'].value_counts()"
   ]
  },
  {
   "cell_type": "code",
   "execution_count": null,
   "metadata": {},
   "outputs": [],
   "source": [
    "data.drop(data[data['facebook1'] == 66].index, inplace=True)"
   ]
  },
  {
   "cell_type": "code",
   "execution_count": null,
   "metadata": {},
   "outputs": [],
   "source": [
    "data['facebook1'].value_counts(normalize=True)"
   ]
  },
  {
   "cell_type": "code",
   "execution_count": null,
   "metadata": {},
   "outputs": [],
   "source": [
    "#need to drop 66\n",
    "data['twitter1'].value_counts(normalize=True)"
   ]
  },
  {
   "cell_type": "code",
   "execution_count": null,
   "metadata": {},
   "outputs": [],
   "source": [
    "data.drop(data[data['twitter1'] == 66].index, inplace=True)"
   ]
  },
  {
   "cell_type": "code",
   "execution_count": null,
   "metadata": {},
   "outputs": [],
   "source": [
    "data.shape"
   ]
  },
  {
   "cell_type": "markdown",
   "metadata": {},
   "source": [
    "# Creating a Target Variable \n",
    "four questions: mis_covid1, conf_covid1, mis_covid2 and conf_covid2 all capture if a respondent is misinformed about covid_19 and how confident they are about that. I create a single variable misinformation score variable that captures that. "
   ]
  },
  {
   "cell_type": "code",
   "execution_count": null,
   "metadata": {},
   "outputs": [],
   "source": [
    "'''\n",
    "what i want to do is create a variable called  covid_mis_score where... \n",
    "\n",
    "covid_mis_score --> higher score meanss they are more misinformed, lower score means they are less misinformed \n",
    "\n",
    "right now, with no recoding, a low score on covid_lab means misinformed \n",
    "\n",
    "\n",
    "right now, with no recoding, a low score on covid_vax means INFORMED \n",
    "\n",
    "\n",
    "SO i need to flip covid_lab so that a 1 means INFORMED and a 2 means INFORMED \n",
    "\n",
    "\n",
    "\n",
    "\n",
    "'''\n",
    "\n",
    "\n",
    "\n",
    "\n",
    "\n"
   ]
  },
  {
   "cell_type": "code",
   "execution_count": null,
   "metadata": {},
   "outputs": [],
   "source": [
    "#renaming column to be more reflective \n",
    "data.rename(columns={\"mis_covid1\": 'covid_lab'}, inplace = True)\n",
    "\n"
   ]
  },
  {
   "cell_type": "code",
   "execution_count": null,
   "metadata": {},
   "outputs": [],
   "source": [
    "#checking to see renaming worked \n",
    "data['covid_lab'].value_counts()"
   ]
  },
  {
   "cell_type": "code",
   "execution_count": null,
   "metadata": {},
   "outputs": [],
   "source": [
    "#renaming column to be more reflective \n",
    "data.rename(columns={\"mis_covid2\": 'covid_vax'}, inplace = True)"
   ]
  },
  {
   "cell_type": "code",
   "execution_count": null,
   "metadata": {},
   "outputs": [],
   "source": [
    "#checking to see renaming worked \n",
    "data['covid_vax'].value_counts()"
   ]
  },
  {
   "cell_type": "code",
   "execution_count": null,
   "metadata": {},
   "outputs": [],
   "source": [
    "#checking data has changed\n",
    "data.head()"
   ]
  },
  {
   "cell_type": "code",
   "execution_count": null,
   "metadata": {},
   "outputs": [],
   "source": [
    "#changing the values so that a misinformed response is a 1 and an informed response is a 0 \n",
    "data.covid_lab.replace((2,1), (0,1), inplace=True)\n"
   ]
  },
  {
   "cell_type": "code",
   "execution_count": null,
   "metadata": {},
   "outputs": [],
   "source": [
    "data['covid_lab'].value_counts()"
   ]
  },
  {
   "cell_type": "code",
   "execution_count": null,
   "metadata": {},
   "outputs": [],
   "source": [
    "#changing the values so that a misinformed response is a 1 and an informed response is a 0 \n",
    "data.covid_vax.replace((2,1), (0,1), inplace=True)\n",
    "    \n",
    "    "
   ]
  },
  {
   "cell_type": "code",
   "execution_count": null,
   "metadata": {},
   "outputs": [],
   "source": [
    "data['covid_vax'].value_counts()"
   ]
  },
  {
   "cell_type": "code",
   "execution_count": null,
   "metadata": {},
   "outputs": [],
   "source": [
    "#creating a new column - my target variable : a covid misinformation score that combines the two scores from above \n",
    "data['covid_mis_score'] = data['covid_lab'] + data['covid_vax']"
   ]
  },
  {
   "cell_type": "code",
   "execution_count": null,
   "metadata": {},
   "outputs": [],
   "source": [
    "# looking at the distribution of scores \n",
    "data['covid_mis_score'].value_counts()"
   ]
  },
  {
   "cell_type": "markdown",
   "metadata": {},
   "source": [
    "# EDA VIZ"
   ]
  },
  {
   "cell_type": "code",
   "execution_count": null,
   "metadata": {},
   "outputs": [],
   "source": [
    "# looking at correlations \n",
    "#plt.figure(figsize=(20,25))\n",
    "#sns.heatmap(data.corr().abs(), annot=True)\n",
    "#plt.show()"
   ]
  },
  {
   "cell_type": "code",
   "execution_count": null,
   "metadata": {},
   "outputs": [],
   "source": [
    "# plotting the relationship between violencee towards demcrats and covid miss score \n",
    "plt.figure(figsize=(10,7))\n",
    "sns.countplot(data=data, x=data['viol3_dems'], hue='covid_mis_score')\n",
    "\n",
    "\n",
    "\n"
   ]
  },
  {
   "cell_type": "code",
   "execution_count": null,
   "metadata": {},
   "outputs": [],
   "source": [
    "# plotting the relationship between violencee towards reps and covid miss score \n",
    "plt.figure(figsize=(10,7))\n",
    "sns.countplot(data=data, x=data['facebook1'], hue='covid_mis_score')"
   ]
  },
  {
   "cell_type": "code",
   "execution_count": null,
   "metadata": {},
   "outputs": [],
   "source": [
    "#plotting relationships between fauci FT and covidmis\n",
    "plt.figure(figsize=(20,20))\n",
    "sns.lineplot(data=data, y=data['ftfauci1'], x=data['covid_mis_score'])\n",
    "\n",
    "\n"
   ]
  },
  {
   "cell_type": "code",
   "execution_count": null,
   "metadata": {},
   "outputs": [],
   "source": [
    "#plotting relationships between blackFT and covidmis\n",
    "plt.figure(figsize=(20,20))\n",
    "sns.lineplot(data=data, y=data['ftblack'], x=data['covid_mis_score'])"
   ]
  },
  {
   "cell_type": "code",
   "execution_count": null,
   "metadata": {},
   "outputs": [],
   "source": [
    "#plotting relationships between blackFT and covidmis\n",
    "plt.figure(figsize=(20,20))\n",
    "sns.countplot(data=data, x=data['ftblack'], hue=data['covid_mis_score'])"
   ]
  },
  {
   "cell_type": "code",
   "execution_count": null,
   "metadata": {},
   "outputs": [],
   "source": [
    "#plotting relationships between asianFT and covidmis\n",
    "plt.figure(figsize=(20,20))\n",
    "sns.lineplot(data=data, y=data['ftasian'], x=data['covid_mis_score'])"
   ]
  },
  {
   "cell_type": "code",
   "execution_count": null,
   "metadata": {},
   "outputs": [],
   "source": [
    "#plotting relationships between democratFT and covidmis\n",
    "plt.figure(figsize=(20,20))\n",
    "sns.lineplot(data=data, y=data['ftdemocraticparty'], x=data['covid_mis_score'])"
   ]
  },
  {
   "cell_type": "code",
   "execution_count": null,
   "metadata": {},
   "outputs": [],
   "source": [
    "#plotting relationships between repFT and covidmis\n",
    "plt.figure(figsize=(20,20))\n",
    "sns.lineplot(data=data, y=data['ftrepublicanparty'], x=data['covid_mis_score'])"
   ]
  },
  {
   "cell_type": "code",
   "execution_count": null,
   "metadata": {},
   "outputs": [],
   "source": [
    "#covid lab and dems\n",
    "plt.figure(figsize=(20,20))\n",
    "sns.lineplot(data=data, y=data['ftdemocraticparty'], x=data['covid_lab'])"
   ]
  },
  {
   "cell_type": "code",
   "execution_count": null,
   "metadata": {},
   "outputs": [],
   "source": [
    "#covid vax and dems\n",
    "plt.figure(figsize=(20,20))\n",
    "sns.lineplot(data=data, y=data['ftdemocraticparty'], x=data['covid_vax'])"
   ]
  },
  {
   "cell_type": "markdown",
   "metadata": {},
   "source": [
    "# PCA"
   ]
  },
  {
   "cell_type": "code",
   "execution_count": null,
   "metadata": {},
   "outputs": [],
   "source": [
    "data.drop(inplace=True, columns=['ethnic1', 'ethnic2', 'ethnic3'])\n"
   ]
  },
  {
   "cell_type": "code",
   "execution_count": null,
   "metadata": {},
   "outputs": [],
   "source": [
    "# select \n",
    "\n",
    "X = data.values\n",
    "y = data['covid_mis_score'].values\n",
    "\n"
   ]
  },
  {
   "cell_type": "code",
   "execution_count": null,
   "metadata": {},
   "outputs": [],
   "source": [
    "# Import StandardScaler\n",
    "from sklearn.preprocessing import StandardScaler\n",
    "\n",
    "# Standardize the features\n",
    "X = StandardScaler().fit_transform(X)\n",
    "\n",
    "# Preview X\n",
    "pd.DataFrame(data=X, columns=features).head()"
   ]
  },
  {
   "cell_type": "markdown",
   "metadata": {},
   "source": [
    "# EDA"
   ]
  },
  {
   "cell_type": "code",
   "execution_count": null,
   "metadata": {},
   "outputs": [],
   "source": [
    "\n",
    "\n",
    "\n",
    "features16 = data[['whitejob', 'votemail2', 'viol1', 'taxecon', 'talk2', 'return', 'lcself', 'impact8', 'immpres7', 'fundmt1', 'ftpence1', 'experts', 'econnow', 'conf_covid2', 'abort_imp', 'abort1', 'covid_mis_score']]"
   ]
  },
  {
   "cell_type": "code",
   "execution_count": null,
   "metadata": {},
   "outputs": [],
   "source": []
  }
 ],
 "metadata": {
  "kernelspec": {
   "display_name": "Python (learn-env)",
   "language": "python",
   "name": "learn-env"
  },
  "language_info": {
   "codemirror_mode": {
    "name": "ipython",
    "version": 3
   },
   "file_extension": ".py",
   "mimetype": "text/x-python",
   "name": "python",
   "nbconvert_exporter": "python",
   "pygments_lexer": "ipython3",
   "version": "3.8.5"
  }
 },
 "nbformat": 4,
 "nbformat_minor": 4
}
