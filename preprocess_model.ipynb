{
 "cells": [
  {
   "cell_type": "markdown",
   "metadata": {},
   "source": [
    "# set up: load data & imports "
   ]
  },
  {
   "cell_type": "code",
   "execution_count": 112,
   "metadata": {},
   "outputs": [],
   "source": [
    "import pandas as pd\n",
    "import numpy as np\n",
    "from sklearn.impute import SimpleImputer\n",
    "from sklearn.dummy import DummyClassifier\n",
    "from sklearn.linear_model import LinearRegression, LogisticRegression\n",
    "from sklearn.model_selection import train_test_split, cross_val_score, GridSearchCV, RandomizedSearchCV\n",
    "from sklearn.compose import ColumnTransformer\n",
    "from sklearn.decomposition import PCA\n",
    "from matplotlib import pyplot as plt\n",
    "import seaborn as sns\n",
    "import statsmodels as sm\n",
    "from statsmodels.regression.linear_model import OLS\n",
    "from sklearn.metrics import mean_squared_error as mse\n",
    "import math\n",
    "import matplotlib.pyplot as plt\n",
    "from sklearn.preprocessing import OneHotEncoder, StandardScaler, LabelEncoder\n",
    "from sklearn.feature_selection import SelectFromModel\n",
    "from sklearn.metrics import accuracy_score, precision_score, recall_score, plot_roc_curve, plot_confusion_matrix\n",
    "from sklearn.metrics import log_loss, classification_report\n",
    "from sklearn.tree import DecisionTreeClassifier, plot_tree\n",
    "from sklearn.ensemble import BaggingClassifier, RandomForestClassifier, AdaBoostClassifier\n",
    "from sklearn.pipeline import Pipeline\n",
    "from sklearn.neighbors import KNeighborsClassifier\n",
    "from collections import Counter\n",
    "from xgboost import XGBClassifier\n",
    "from scipy.stats import uniform\n",
    "import warnings\n",
    "warnings.filterwarnings('ignore')\n",
    "\n",
    "%matplotlib inline\n",
    "\n"
   ]
  },
  {
   "cell_type": "code",
   "execution_count": 113,
   "metadata": {},
   "outputs": [],
   "source": [
    "#read in data and make a copy\n",
    "anes = pd.read_csv('data/anes_pilot_2020ets_csv.csv')\n",
    "data = anes.copy(deep = True)"
   ]
  },
  {
   "cell_type": "code",
   "execution_count": 114,
   "metadata": {},
   "outputs": [
    {
     "data": {
      "text/plain": [
       "(3080, 470)"
      ]
     },
     "execution_count": 114,
     "metadata": {},
     "output_type": "execute_result"
    }
   ],
   "source": [
    "data.shape"
   ]
  },
  {
   "cell_type": "code",
   "execution_count": 115,
   "metadata": {},
   "outputs": [
    {
     "name": "stdout",
     "output_type": "stream",
     "text": [
      "<class 'pandas.core.frame.DataFrame'>\n",
      "RangeIndex: 3080 entries, 0 to 3079\n",
      "Columns: 470 entries, V1 to vidknow\n",
      "dtypes: float64(3), int64(453), object(14)\n",
      "memory usage: 11.0+ MB\n"
     ]
    }
   ],
   "source": [
    "data.info()"
   ]
  },
  {
   "cell_type": "code",
   "execution_count": 116,
   "metadata": {},
   "outputs": [
    {
     "data": {
      "text/html": [
       "<div>\n",
       "<style scoped>\n",
       "    .dataframe tbody tr th:only-of-type {\n",
       "        vertical-align: middle;\n",
       "    }\n",
       "\n",
       "    .dataframe tbody tr th {\n",
       "        vertical-align: top;\n",
       "    }\n",
       "\n",
       "    .dataframe thead th {\n",
       "        text-align: right;\n",
       "    }\n",
       "</style>\n",
       "<table border=\"1\" class=\"dataframe\">\n",
       "  <thead>\n",
       "    <tr style=\"text-align: right;\">\n",
       "      <th></th>\n",
       "      <th>V1</th>\n",
       "      <th>_v1</th>\n",
       "      <th>follow</th>\n",
       "      <th>reg1</th>\n",
       "      <th>votemail1a</th>\n",
       "      <th>votemail1b</th>\n",
       "      <th>votecount</th>\n",
       "      <th>votemail2</th>\n",
       "      <th>voterid1</th>\n",
       "      <th>voterid2</th>\n",
       "      <th>...</th>\n",
       "      <th>rr_scale</th>\n",
       "      <th>white</th>\n",
       "      <th>black</th>\n",
       "      <th>namer</th>\n",
       "      <th>asian</th>\n",
       "      <th>hpi</th>\n",
       "      <th>mixed</th>\n",
       "      <th>race7</th>\n",
       "      <th>vidx</th>\n",
       "      <th>vidknow</th>\n",
       "    </tr>\n",
       "  </thead>\n",
       "  <tbody>\n",
       "    <tr>\n",
       "      <th>count</th>\n",
       "      <td>3080.00000</td>\n",
       "      <td>3080.000000</td>\n",
       "      <td>3080.000000</td>\n",
       "      <td>3080.000000</td>\n",
       "      <td>3080.000000</td>\n",
       "      <td>3080.000000</td>\n",
       "      <td>3080.000000</td>\n",
       "      <td>3080.000000</td>\n",
       "      <td>3080.000000</td>\n",
       "      <td>3080.000000</td>\n",
       "      <td>...</td>\n",
       "      <td>3080.000000</td>\n",
       "      <td>3080.000000</td>\n",
       "      <td>3080.000000</td>\n",
       "      <td>3080.000000</td>\n",
       "      <td>3080.000000</td>\n",
       "      <td>3080.000000</td>\n",
       "      <td>3080.000000</td>\n",
       "      <td>3080.000000</td>\n",
       "      <td>3078.000000</td>\n",
       "      <td>3080.000000</td>\n",
       "    </tr>\n",
       "    <tr>\n",
       "      <th>mean</th>\n",
       "      <td>1540.50000</td>\n",
       "      <td>3798.924026</td>\n",
       "      <td>1.644156</td>\n",
       "      <td>1.290584</td>\n",
       "      <td>46.673377</td>\n",
       "      <td>39.099351</td>\n",
       "      <td>3.329221</td>\n",
       "      <td>2.751948</td>\n",
       "      <td>1.547727</td>\n",
       "      <td>3.457468</td>\n",
       "      <td>...</td>\n",
       "      <td>8.692857</td>\n",
       "      <td>0.701623</td>\n",
       "      <td>0.106169</td>\n",
       "      <td>0.005195</td>\n",
       "      <td>0.036364</td>\n",
       "      <td>0.001948</td>\n",
       "      <td>0.034091</td>\n",
       "      <td>1.785714</td>\n",
       "      <td>1.816439</td>\n",
       "      <td>0.407792</td>\n",
       "    </tr>\n",
       "    <tr>\n",
       "      <th>std</th>\n",
       "      <td>889.26374</td>\n",
       "      <td>10553.322567</td>\n",
       "      <td>0.876972</td>\n",
       "      <td>0.724222</td>\n",
       "      <td>42.500686</td>\n",
       "      <td>36.917557</td>\n",
       "      <td>1.093571</td>\n",
       "      <td>1.310572</td>\n",
       "      <td>0.776603</td>\n",
       "      <td>2.807707</td>\n",
       "      <td>...</td>\n",
       "      <td>5.998361</td>\n",
       "      <td>0.457620</td>\n",
       "      <td>0.308104</td>\n",
       "      <td>0.071899</td>\n",
       "      <td>0.187224</td>\n",
       "      <td>0.044101</td>\n",
       "      <td>0.282326</td>\n",
       "      <td>1.430945</td>\n",
       "      <td>1.272351</td>\n",
       "      <td>0.491504</td>\n",
       "    </tr>\n",
       "    <tr>\n",
       "      <th>min</th>\n",
       "      <td>1.00000</td>\n",
       "      <td>464.000000</td>\n",
       "      <td>1.000000</td>\n",
       "      <td>1.000000</td>\n",
       "      <td>1.000000</td>\n",
       "      <td>1.000000</td>\n",
       "      <td>1.000000</td>\n",
       "      <td>1.000000</td>\n",
       "      <td>1.000000</td>\n",
       "      <td>1.000000</td>\n",
       "      <td>...</td>\n",
       "      <td>0.000000</td>\n",
       "      <td>0.000000</td>\n",
       "      <td>0.000000</td>\n",
       "      <td>0.000000</td>\n",
       "      <td>0.000000</td>\n",
       "      <td>0.000000</td>\n",
       "      <td>0.000000</td>\n",
       "      <td>1.000000</td>\n",
       "      <td>0.000000</td>\n",
       "      <td>0.000000</td>\n",
       "    </tr>\n",
       "    <tr>\n",
       "      <th>25%</th>\n",
       "      <td>770.75000</td>\n",
       "      <td>1643.750000</td>\n",
       "      <td>1.000000</td>\n",
       "      <td>1.000000</td>\n",
       "      <td>2.000000</td>\n",
       "      <td>3.000000</td>\n",
       "      <td>3.000000</td>\n",
       "      <td>2.000000</td>\n",
       "      <td>1.000000</td>\n",
       "      <td>1.000000</td>\n",
       "      <td>...</td>\n",
       "      <td>6.000000</td>\n",
       "      <td>0.000000</td>\n",
       "      <td>0.000000</td>\n",
       "      <td>0.000000</td>\n",
       "      <td>0.000000</td>\n",
       "      <td>0.000000</td>\n",
       "      <td>0.000000</td>\n",
       "      <td>1.000000</td>\n",
       "      <td>1.000000</td>\n",
       "      <td>0.000000</td>\n",
       "    </tr>\n",
       "    <tr>\n",
       "      <th>50%</th>\n",
       "      <td>1540.50000</td>\n",
       "      <td>2233.500000</td>\n",
       "      <td>1.000000</td>\n",
       "      <td>1.000000</td>\n",
       "      <td>88.000000</td>\n",
       "      <td>7.000000</td>\n",
       "      <td>3.000000</td>\n",
       "      <td>3.000000</td>\n",
       "      <td>1.000000</td>\n",
       "      <td>2.000000</td>\n",
       "      <td>...</td>\n",
       "      <td>8.000000</td>\n",
       "      <td>1.000000</td>\n",
       "      <td>0.000000</td>\n",
       "      <td>0.000000</td>\n",
       "      <td>0.000000</td>\n",
       "      <td>0.000000</td>\n",
       "      <td>0.000000</td>\n",
       "      <td>1.000000</td>\n",
       "      <td>2.000000</td>\n",
       "      <td>0.000000</td>\n",
       "    </tr>\n",
       "    <tr>\n",
       "      <th>75%</th>\n",
       "      <td>2310.25000</td>\n",
       "      <td>3211.250000</td>\n",
       "      <td>2.000000</td>\n",
       "      <td>1.000000</td>\n",
       "      <td>88.000000</td>\n",
       "      <td>77.000000</td>\n",
       "      <td>4.000000</td>\n",
       "      <td>4.000000</td>\n",
       "      <td>2.000000</td>\n",
       "      <td>7.000000</td>\n",
       "      <td>...</td>\n",
       "      <td>11.000000</td>\n",
       "      <td>1.000000</td>\n",
       "      <td>0.000000</td>\n",
       "      <td>0.000000</td>\n",
       "      <td>0.000000</td>\n",
       "      <td>0.000000</td>\n",
       "      <td>0.000000</td>\n",
       "      <td>2.000000</td>\n",
       "      <td>3.000000</td>\n",
       "      <td>1.000000</td>\n",
       "    </tr>\n",
       "    <tr>\n",
       "      <th>max</th>\n",
       "      <td>3080.00000</td>\n",
       "      <td>255418.000000</td>\n",
       "      <td>9.000000</td>\n",
       "      <td>4.000000</td>\n",
       "      <td>88.000000</td>\n",
       "      <td>77.000000</td>\n",
       "      <td>9.000000</td>\n",
       "      <td>9.000000</td>\n",
       "      <td>9.000000</td>\n",
       "      <td>9.000000</td>\n",
       "      <td>...</td>\n",
       "      <td>99.000000</td>\n",
       "      <td>1.000000</td>\n",
       "      <td>1.000000</td>\n",
       "      <td>1.000000</td>\n",
       "      <td>1.000000</td>\n",
       "      <td>1.000000</td>\n",
       "      <td>9.000000</td>\n",
       "      <td>9.000000</td>\n",
       "      <td>3.000000</td>\n",
       "      <td>1.000000</td>\n",
       "    </tr>\n",
       "  </tbody>\n",
       "</table>\n",
       "<p>8 rows × 456 columns</p>\n",
       "</div>"
      ],
      "text/plain": [
       "               V1            _v1       follow         reg1   votemail1a  \\\n",
       "count  3080.00000    3080.000000  3080.000000  3080.000000  3080.000000   \n",
       "mean   1540.50000    3798.924026     1.644156     1.290584    46.673377   \n",
       "std     889.26374   10553.322567     0.876972     0.724222    42.500686   \n",
       "min       1.00000     464.000000     1.000000     1.000000     1.000000   \n",
       "25%     770.75000    1643.750000     1.000000     1.000000     2.000000   \n",
       "50%    1540.50000    2233.500000     1.000000     1.000000    88.000000   \n",
       "75%    2310.25000    3211.250000     2.000000     1.000000    88.000000   \n",
       "max    3080.00000  255418.000000     9.000000     4.000000    88.000000   \n",
       "\n",
       "        votemail1b    votecount    votemail2     voterid1     voterid2  ...  \\\n",
       "count  3080.000000  3080.000000  3080.000000  3080.000000  3080.000000  ...   \n",
       "mean     39.099351     3.329221     2.751948     1.547727     3.457468  ...   \n",
       "std      36.917557     1.093571     1.310572     0.776603     2.807707  ...   \n",
       "min       1.000000     1.000000     1.000000     1.000000     1.000000  ...   \n",
       "25%       3.000000     3.000000     2.000000     1.000000     1.000000  ...   \n",
       "50%       7.000000     3.000000     3.000000     1.000000     2.000000  ...   \n",
       "75%      77.000000     4.000000     4.000000     2.000000     7.000000  ...   \n",
       "max      77.000000     9.000000     9.000000     9.000000     9.000000  ...   \n",
       "\n",
       "          rr_scale        white        black        namer        asian  \\\n",
       "count  3080.000000  3080.000000  3080.000000  3080.000000  3080.000000   \n",
       "mean      8.692857     0.701623     0.106169     0.005195     0.036364   \n",
       "std       5.998361     0.457620     0.308104     0.071899     0.187224   \n",
       "min       0.000000     0.000000     0.000000     0.000000     0.000000   \n",
       "25%       6.000000     0.000000     0.000000     0.000000     0.000000   \n",
       "50%       8.000000     1.000000     0.000000     0.000000     0.000000   \n",
       "75%      11.000000     1.000000     0.000000     0.000000     0.000000   \n",
       "max      99.000000     1.000000     1.000000     1.000000     1.000000   \n",
       "\n",
       "               hpi        mixed        race7         vidx      vidknow  \n",
       "count  3080.000000  3080.000000  3080.000000  3078.000000  3080.000000  \n",
       "mean      0.001948     0.034091     1.785714     1.816439     0.407792  \n",
       "std       0.044101     0.282326     1.430945     1.272351     0.491504  \n",
       "min       0.000000     0.000000     1.000000     0.000000     0.000000  \n",
       "25%       0.000000     0.000000     1.000000     1.000000     0.000000  \n",
       "50%       0.000000     0.000000     1.000000     2.000000     0.000000  \n",
       "75%       0.000000     0.000000     2.000000     3.000000     1.000000  \n",
       "max       1.000000     9.000000     9.000000     3.000000     1.000000  \n",
       "\n",
       "[8 rows x 456 columns]"
      ]
     },
     "execution_count": 116,
     "metadata": {},
     "output_type": "execute_result"
    }
   ],
   "source": [
    "data.describe()"
   ]
  },
  {
   "cell_type": "code",
   "execution_count": null,
   "metadata": {},
   "outputs": [],
   "source": []
  },
  {
   "cell_type": "markdown",
   "metadata": {},
   "source": [
    "# dropping irrelevant columns\n",
    "- explain here "
   ]
  },
  {
   "cell_type": "code",
   "execution_count": 117,
   "metadata": {},
   "outputs": [],
   "source": [
    "# dropping irrelevant columns \n",
    "data.drop(inplace=True, columns=[ 'votemail1b', 'V1', 'StartDate', 'EndDate', '_v1', 'RecordedDate', \n",
    "                                 'ResponseId','qmetadata_Browser', 'qmetadata_Version', '_v2', \n",
    "                                 'qmetadata_Resolution', 'check','relig1_11_TEXT', 'mauga', 'pk_cjus', \n",
    "                                 'pk_germ', 'ethnic1', 'ethnic2', 'ethnic3', 'mixed', 'hpi', 'asian', 'namer',\n",
    "                                'black', 'white', 'race1_hpi', 'race1_asian', 'race1_namer', 'race1_black', 'race1_white',\n",
    "                                'hispanicr', 'nonhispanic_white', 'hispanic_white', 'hispanic', 'pid2r', 'pk_index',\n",
    "                                'survexp1', 'survexp2', 'dejavu', 'surv_comp', 'RAND_INC', 'XCONTACT', 'XFORGIVE', 'FEEDBACK_GROUP',\n",
    "                                'INSTRUCTION_GROUP', 'form', 'serious', 'admit', 'geer1896', 'pk_sen', 'pk_spend', 'expshark',\n",
    "                                'inc_cps', 'inc_cpsmod', 'marital2', 'whites_1', 'whites_2', 'whites_3',\n",
    "                                'whites_4', 'whites_5', 'whites_6', 'whites_7', 'blacks_1', 'blacks_2', 'blacks_3',\n",
    "                                'blacks_4', 'blacks_5', 'blacks_6', 'blacks_7', 'hisp_1', 'hisp_2', 'hisp_3',\n",
    "                                'hisp_4', 'hisp_5', 'hisp_6', 'hisp_7', 'asians_1', 'asians_2', 'asians_3', 'asians_4',\n",
    "                                'asians_5', 'asians_6','asians_7', 'survexp1', 'survexp2', 'dejavu', 'citizen1', 'citizen2',\n",
    "                                'particip_count', 'pk_mauga_correct', 'pk_germ_correct', 'pk_cjus_correct', 'pk_sen_correct',\n",
    "                                'pk_spend_correct', 'pk_cjus_correctb', 'pk_index', 'pidstr1_dr', 'pidstr1_ind', 'pidstr2_dr',\n",
    "                                 'pidstr2_ind','pidstr3_dr', 'pidstr3_ind', 'pid7str', 'hispanic', 'hispanic_white', 'nonhispanic_white',\n",
    "                                'hispanicr', 'race1_white', 'race1_black', 'race1_namer', 'race1_hpi', 'white', 'black',\n",
    "                                'namer', 'asian', 'hpi', 'mixed'])"
   ]
  },
  {
   "cell_type": "code",
   "execution_count": 118,
   "metadata": {},
   "outputs": [
    {
     "data": {
      "text/plain": [
       "(3080, 371)"
      ]
     },
     "execution_count": 118,
     "metadata": {},
     "output_type": "execute_result"
    }
   ],
   "source": [
    "data.shape"
   ]
  },
  {
   "cell_type": "code",
   "execution_count": 119,
   "metadata": {},
   "outputs": [
    {
     "data": {
      "text/plain": [
       "follow        0\n",
       "reg1          0\n",
       "votemail1a    0\n",
       "votecount     0\n",
       "votemail2     0\n",
       "             ..\n",
       "pid7          0\n",
       "rr_scale      0\n",
       "race7         0\n",
       "vidx          2\n",
       "vidknow       0\n",
       "Length: 371, dtype: int64"
      ]
     },
     "execution_count": 119,
     "metadata": {},
     "output_type": "execute_result"
    }
   ],
   "source": [
    "data.isna().sum()"
   ]
  },
  {
   "cell_type": "code",
   "execution_count": 120,
   "metadata": {},
   "outputs": [],
   "source": [
    "data.dropna(inplace=True)"
   ]
  },
  {
   "cell_type": "code",
   "execution_count": 121,
   "metadata": {},
   "outputs": [
    {
     "data": {
      "text/plain": [
       "(3078, 371)"
      ]
     },
     "execution_count": 121,
     "metadata": {},
     "output_type": "execute_result"
    }
   ],
   "source": [
    "data.shape"
   ]
  },
  {
   "cell_type": "markdown",
   "metadata": {},
   "source": [
    "# pre processing for target variable, dropping nulls"
   ]
  },
  {
   "cell_type": "code",
   "execution_count": 122,
   "metadata": {},
   "outputs": [],
   "source": [
    "#dropping the 2 non responses for the covid questions \n",
    "data.drop(data[data['mis_covid1'] == 9].index, inplace=True)"
   ]
  },
  {
   "cell_type": "code",
   "execution_count": 123,
   "metadata": {},
   "outputs": [],
   "source": [
    "data.drop(data[data['mis_covid2'] == 9].index, inplace=True)"
   ]
  },
  {
   "cell_type": "markdown",
   "metadata": {},
   "source": [
    "# dropping place holders to get ready for imputing"
   ]
  },
  {
   "cell_type": "code",
   "execution_count": 124,
   "metadata": {},
   "outputs": [],
   "source": [
    "#dropping the placeholder values for missing \n",
    "data_6 = ['pidstr',  'pidlean', 'pidstr1', 'pidstr2', 'pidstr3', 'relig2a',\n",
    "     'att2', 'att3', 'fundmt1', 'fundmt2', 'whitejob', 'femid2_fem', 'femid2_anti',\n",
    "     'femid2_nei', 'callout3a','callout3b','viol3_dems', 'viol3_reps', 'viol3_both']\n",
    "for column in data_6:\n",
    "    data[column].replace(6, np.nan, inplace=True)"
   ]
  },
  {
   "cell_type": "code",
   "execution_count": 125,
   "metadata": {},
   "outputs": [],
   "source": [
    "data_9 = ['follow', 'votemail2', 'voterid1', 'voterid2', 'vote16', 'hopeful', 'worried', 'irritated', 'talk3', \n",
    "      'primaryvote', 'vote20jb', 'vote20bs', 'richpoor2', 'lcd', 'lcr', 'freemkt1a',\n",
    "     'freemkt1b', 'govsize1a', 'govsize1b', 'ineqinc1a', 'antirelig1',\n",
    "     'antirelig2', 'racist1','racist2', 'immignum', 'wall7', 'pathway', \n",
    "     'return', 'open', 'affact', 'hlthcare1', 'hlthcare2', 'covid1', 'covid2',\n",
    "     'covid_elect', 'abort1', 'abort_imp', 'abort2', 'gayadopt', 'transmilit1a',\n",
    "     'harass', 'diversity7', 'experts', 'science', 'exphelp', 'excessive',\n",
    "     'compro1', 'compro2', 'pcorrect', 'selfcensor', 'childrear1', 'childrear2',\n",
    "     'childrear3', 'rural2', 'rural3', 'rural4', 'conf_covid1', 'conf_covid2', 'impeach1', 'impeach2', 'pid1r', \n",
    "     'pidstr', 'pidlean', 'pidstr1', 'pidstr2', 'pidstr3', 'rr1', 'rr2',\n",
    "     'rr3', 'rr4', 'relig2b', 'att1', 'att2', 'att3', 'fundmt1', 'fundmt2',\n",
    "     'impact1', 'impact2', 'impact3', 'impact4', 'impact5', 'impact7', 'impact8',\n",
    "     'impact9', 'whitejob', 'femid1a', 'femid1b', 'femid2_fem', 'knowtran1',\n",
    "     'knowtran2_1', 'knowtran2_2', 'knowtran2_3', 'knowtran2_4', 'knowtran2_5',\n",
    "     'knowtran2_6', 'knowgay1', 'knowgay2_1', 'knowgay2_2', 'knowgay2_3', 'knowgay2_4',\n",
    "     'knowgay2_5', 'knowgay2_6', 'stress1', 'stress2', 'stress3', 'stress4',\n",
    "     'depress1', 'depress2', 'depress3', 'depress4', 'depress5', 'callout1',\n",
    "     'speech1', 'callout2', 'speech2', 'divmoral', 'forgive3', 'moralsup1',\n",
    "     'duepro3', 'moralcert3', 'forgive5', 'intelsup1', 'moralcert1', 'duepro4',\n",
    "     'moralcert6', 'forgive4', 'moralcert2', 'duepro1', 'callout3a','callout3b',\n",
    "     'moralsup2', 'duepro2', 'intelsup2', 'duepro5', 'moralcert4', 'forgive6', \n",
    "     'moralcert5', 'link_bla','link_his', 'link_asi','link_whi', 'link_hpi', 'link_nat',\n",
    "     'selfmon1', 'selfmon2', 'selfmon3', 'selfmon4', 'selfmon5', 'selfmon6', 'home_cps',\n",
    "     'viol3_dems', 'viol3_reps', 'viol1', 'viol2a', 'viol2b', 'exptravel_ever', \n",
    "     'exphomesch', 'expconvert', 'expholiday', 'exparrest', 'exppubasst', 'expfight',\n",
    "     'expavoid', 'callout_social', 'callout_person', 'expknowimmig', 'expbuyus',\n",
    "     'expretire', 'expknowpris', 'marital1', 'home_ownership', 'vote20turnoutjb', 'pid7',\n",
    "     'race7', 'taxecon']\n",
    "for column in data_9: \n",
    "    data[column].replace(9, np.nan, inplace=True)"
   ]
  },
  {
   "cell_type": "code",
   "execution_count": 126,
   "metadata": {},
   "outputs": [],
   "source": [
    "data_77 = ['healthcarepres7', 'dtleader2', 'jbleader2', \n",
    "     'bsleader2', 'billtax2', 'guarinc2', 'freemkt2', 'freemkt3',\n",
    "     'govsize2', 'govsize3', 'regulate2', 'strpres1b', 'transmilit1b',\n",
    "     'freecol2', 'loans2']\n",
    "for column in data_77: \n",
    "    data[column].replace(77, np.nan, inplace=True)"
   ]
  },
  {
   "cell_type": "code",
   "execution_count": 127,
   "metadata": {},
   "outputs": [],
   "source": [
    "data_8 = ['turnout16a', 'turnout16a1', 'freemkt1a', 'freemkt1b',\n",
    "     'govsize1a', 'govsize1b', 'antirelig1', 'antirelig2', 'racist1',\n",
    "     'racist2', 'transmilit1a', 'pcorrect', 'selfcensor', 'relig2a',\n",
    "     'femid1a', 'callout1', 'speech1', 'callout2', 'speech2', 'divmoral',\n",
    "     'forgive3', 'moralsup1', 'duepro3', 'moralcert3', 'forgive5','intelsup1', \n",
    "     'moralcert1', 'duepro4', 'moralcert6', 'forgive4', 'moralcert2', 'duepro1',\n",
    "     'callout3a','callout3b', 'moralsup2', 'duepro2', 'intelsup2', 'duepro5',\n",
    "     'moralcert4', 'forgive6', 'moralcert5', 'home_anes', 'viol2a']\n",
    "for column in data_8:\n",
    "    data[column].replace(8, np.nan, inplace=True)"
   ]
  },
  {
   "cell_type": "code",
   "execution_count": 128,
   "metadata": {},
   "outputs": [],
   "source": [
    "data_7 = ['turnout16b', 'relig2b', 'femid1b', 'stress1', 'stress2', 'stress3',\n",
    "     'stress4', 'depress1', 'depress2', 'depress3', 'depress4', 'depress5', \n",
    "     'link_bla','link_his','link_asi','link_whi', 'link_hpi', 'link_nat',\n",
    "     'selfmon1', 'selfmon2', 'selfmon3', 'selfmon4', 'selfmon5', 'selfmon6',\n",
    "     'home_cps', 'viol2b']\n",
    "for column in data_7:\n",
    "    data[column].replace(7, np.nan, inplace=True)"
   ]
  },
  {
   "cell_type": "code",
   "execution_count": 129,
   "metadata": {},
   "outputs": [],
   "source": [
    "data_99 = ['apppres7', 'frnpres7', 'immpres7', 'econpres7', 'healthcarepres7', \n",
    "     'dtcares', 'dtdignif', 'dtauth', 'dtdiv', 'dtknow', 'jbleader1',\n",
    "     'jbleader2', 'jbcares', 'jbdignif', 'jbhonest', 'jbauth', 'jbdiv',\n",
    "     'jbknow', 'bsleader1', 'bsleader2', 'bscares', 'bsdignif', 'bshonest',\n",
    "     'bsauth', 'bsdiv', 'bsknow', 'freemkt2', 'freemkt3', 'govsize2', 'govsize3',\n",
    "           'forgive1a', 'forgive1b','forgive2b','finworry', 'confecon', 'taxecon', \n",
    "     'regulate2', 'strpres1b', 'tol_rally', 'tol_pres', 'tol_teach',\n",
    "     'transmilit1b', 'freecol2', 'forgive2a']\n",
    "for column in data_99:\n",
    "    data[column].replace(99, np.nan, inplace=True)"
   ]
  },
  {
   "cell_type": "code",
   "execution_count": 130,
   "metadata": {},
   "outputs": [],
   "source": [
    "data_66 = ['freemkt2', 'freemkt3', 'govsize2', 'govsize3', \n",
    "     'facebook1', 'twitter1', 'forgive1a', 'forgive1b', 'forgive2a',\n",
    "     'forgive2b', 'inc_anes']\n",
    "for column in data_66: \n",
    "    data[column].replace(66, np.nan, inplace=True)"
   ]
  },
  {
   "cell_type": "code",
   "execution_count": 131,
   "metadata": {},
   "outputs": [],
   "source": [
    "#simple impute"
   ]
  },
  {
   "cell_type": "code",
   "execution_count": 132,
   "metadata": {},
   "outputs": [],
   "source": [
    "imp=SimpleImputer(missing_values= np.nan)\n",
    "data_clean = pd.DataFrame(imp.fit_transform(data))\n",
    "data_clean.columns = data.columns\n",
    "data_clean.index = data.index "
   ]
  },
  {
   "cell_type": "code",
   "execution_count": 133,
   "metadata": {},
   "outputs": [
    {
     "data": {
      "text/plain": [
       "(3072, 371)"
      ]
     },
     "execution_count": 133,
     "metadata": {},
     "output_type": "execute_result"
    }
   ],
   "source": [
    "data_clean.shape"
   ]
  },
  {
   "cell_type": "markdown",
   "metadata": {},
   "source": [
    "# make the target variable"
   ]
  },
  {
   "cell_type": "code",
   "execution_count": 134,
   "metadata": {},
   "outputs": [],
   "source": [
    "#make target variable"
   ]
  },
  {
   "cell_type": "code",
   "execution_count": 135,
   "metadata": {},
   "outputs": [],
   "source": [
    "data_clean.rename(columns={\"mis_covid1\": 'covid_lab'}, inplace = True)\n",
    "data_clean.rename(columns={\"mis_covid2\": 'covid_vax'}, inplace = True)\n",
    "data_clean.covid_lab.replace((2,1), (0,1), inplace=True)\n",
    "data_clean.covid_vax.replace((2,1), (0,1), inplace=True)\n",
    "data_clean['covid_mis_score'] = data_clean['covid_lab'] + data_clean['covid_vax']\n",
    "data_clean.drop(inplace=True, columns=['covid_lab', 'covid_vax'])"
   ]
  },
  {
   "cell_type": "code",
   "execution_count": 136,
   "metadata": {},
   "outputs": [
    {
     "data": {
      "text/plain": [
       "0.0    1577\n",
       "1.0    1002\n",
       "2.0     493\n",
       "Name: covid_mis_score, dtype: int64"
      ]
     },
     "execution_count": 136,
     "metadata": {},
     "output_type": "execute_result"
    }
   ],
   "source": [
    "data_clean['covid_mis_score'].value_counts()"
   ]
  },
  {
   "cell_type": "markdown",
   "metadata": {},
   "source": [
    "# EDA --> Let's look at some distributions"
   ]
  },
  {
   "cell_type": "code",
   "execution_count": 137,
   "metadata": {},
   "outputs": [
    {
     "data": {
      "text/plain": [
       "<AxesSubplot:xlabel='sex', ylabel='count'>"
      ]
     },
     "execution_count": 137,
     "metadata": {},
     "output_type": "execute_result"
    },
    {
     "data": {
      "image/png": "[encoded data removed]",
      "text/plain": [
       "<Figure size 720x504 with 1 Axes>"
      ]
     },
     "metadata": {
      "needs_background": "light"
     },
     "output_type": "display_data"
    }
   ],
   "source": [
    "#not too large of a difference between men and women\n",
    "plt.figure(figsize=(10,7))\n",
    "sns.countplot(data=data, x=data['sex'], hue=data_clean['covid_mis_score'])\n"
   ]
  },
  {
   "cell_type": "code",
   "execution_count": 233,
   "metadata": {},
   "outputs": [
    {
     "data": {
      "text/plain": [
       "2.0    0.522135\n",
       "1.0    0.477865\n",
       "Name: sex, dtype: float64"
      ]
     },
     "execution_count": 233,
     "metadata": {},
     "output_type": "execute_result"
    }
   ],
   "source": [
    "data_clean['sex'].value_counts(normalize=True)"
   ]
  },
  {
   "cell_type": "code",
   "execution_count": 138,
   "metadata": {},
   "outputs": [
    {
     "data": {
      "text/plain": [
       "<AxesSubplot:xlabel='race7', ylabel='count'>"
      ]
     },
     "execution_count": 138,
     "metadata": {},
     "output_type": "execute_result"
    },
    {
     "data": {
      "image/png": "[encoded data removed]",
      "text/plain": [
       "<Figure size 720x504 with 1 Axes>"
      ]
     },
     "metadata": {
      "needs_background": "light"
     },
     "output_type": "display_data"
    }
   ],
   "source": [
    "plt.figure(figsize=(10,7))\n",
    "sns.countplot(data=data, x=data['race7'], hue=data_clean['covid_mis_score'])"
   ]
  },
  {
   "cell_type": "code",
   "execution_count": 234,
   "metadata": {},
   "outputs": [
    {
     "data": {
      "text/plain": [
       "1.00000    0.701823\n",
       "5.00000    0.119466\n",
       "2.00000    0.106120\n",
       "3.00000    0.036458\n",
       "4.00000    0.028320\n",
       "6.00000    0.005208\n",
       "7.00000    0.001953\n",
       "1.78013    0.000651\n",
       "Name: race7, dtype: float64"
      ]
     },
     "execution_count": 234,
     "metadata": {},
     "output_type": "execute_result"
    }
   ],
   "source": [
    "data_clean['race7'].value_counts(normalize=True)"
   ]
  },
  {
   "cell_type": "code",
   "execution_count": 139,
   "metadata": {},
   "outputs": [
    {
     "data": {
      "text/plain": [
       "<AxesSubplot:xlabel='pid7', ylabel='count'>"
      ]
     },
     "execution_count": 139,
     "metadata": {},
     "output_type": "execute_result"
    },
    {
     "data": {
      "image/png": "[encoded data removed]",
      "text/plain": [
       "<Figure size 720x504 with 1 Axes>"
      ]
     },
     "metadata": {
      "needs_background": "light"
     },
     "output_type": "display_data"
    }
   ],
   "source": [
    "plt.figure(figsize=(10,7))\n",
    "sns.countplot(data=data, x=data['pid7'], hue=data_clean['covid_mis_score'])\n",
    "#1= strong rep, 7 = strong dem "
   ]
  },
  {
   "cell_type": "code",
   "execution_count": 235,
   "metadata": {},
   "outputs": [
    {
     "data": {
      "text/plain": [
       "7.000000    0.252279\n",
       "1.000000    0.210612\n",
       "4.000000    0.136068\n",
       "6.000000    0.126302\n",
       "2.000000    0.106771\n",
       "5.000000    0.097331\n",
       "3.000000    0.069661\n",
       "4.191919    0.000977\n",
       "Name: pid7, dtype: float64"
      ]
     },
     "execution_count": 235,
     "metadata": {},
     "output_type": "execute_result"
    }
   ],
   "source": [
    "data_clean['pid7'].value_counts(normalize=True)"
   ]
  },
  {
   "cell_type": "code",
   "execution_count": 140,
   "metadata": {},
   "outputs": [
    {
     "data": {
      "text/plain": [
       "<AxesSubplot:xlabel='lcself', ylabel='count'>"
      ]
     },
     "execution_count": 140,
     "metadata": {},
     "output_type": "execute_result"
    },
    {
     "data": {
      "image/png": "[encoded data removed]",
      "text/plain": [
       "<Figure size 720x504 with 1 Axes>"
      ]
     },
     "metadata": {
      "needs_background": "light"
     },
     "output_type": "display_data"
    }
   ],
   "source": [
    "plt.figure(figsize=(10,7))\n",
    "sns.countplot(data=data, x=data['lcself'], hue=data_clean['covid_mis_score'])\n",
    "#1 = ver lib, 7 = vert conservative "
   ]
  },
  {
   "cell_type": "code",
   "execution_count": 236,
   "metadata": {},
   "outputs": [
    {
     "data": {
      "text/plain": [
       "4.0    0.257812\n",
       "1.0    0.147461\n",
       "2.0    0.139323\n",
       "7.0    0.136719\n",
       "6.0    0.112305\n",
       "5.0    0.107747\n",
       "3.0    0.098633\n",
       "Name: lcself, dtype: float64"
      ]
     },
     "execution_count": 236,
     "metadata": {},
     "output_type": "execute_result"
    }
   ],
   "source": [
    "data_clean['lcself'].value_counts(normalize=True)"
   ]
  },
  {
   "cell_type": "code",
   "execution_count": 141,
   "metadata": {},
   "outputs": [
    {
     "data": {
      "text/plain": [
       "<AxesSubplot:xlabel='inc_anes', ylabel='count'>"
      ]
     },
     "execution_count": 141,
     "metadata": {},
     "output_type": "execute_result"
    },
    {
     "data": {
      "image/png": "[encoded data removed]",
      "text/plain": [
       "<Figure size 720x504 with 1 Axes>"
      ]
     },
     "metadata": {
      "needs_background": "light"
     },
     "output_type": "display_data"
    }
   ],
   "source": [
    "plt.figure(figsize=(10,7))\n",
    "sns.countplot(data=data, x=data['inc_anes'], hue=data_clean['covid_mis_score'])"
   ]
  },
  {
   "cell_type": "code",
   "execution_count": 237,
   "metadata": {},
   "outputs": [
    {
     "data": {
      "text/plain": [
       "12.440263    0.653971\n",
       "21.000000    0.023112\n",
       "22.000000    0.022135\n",
       "5.000000     0.021159\n",
       "3.000000     0.019857\n",
       "4.000000     0.019531\n",
       "7.000000     0.018229\n",
       "6.000000     0.017904\n",
       "11.000000    0.016602\n",
       "20.000000    0.015625\n",
       "1.000000     0.015299\n",
       "10.000000    0.014323\n",
       "13.000000    0.013021\n",
       "16.000000    0.013021\n",
       "8.000000     0.013021\n",
       "9.000000     0.010742\n",
       "23.000000    0.010742\n",
       "15.000000    0.010417\n",
       "2.000000     0.009440\n",
       "24.000000    0.008789\n",
       "12.000000    0.008464\n",
       "18.000000    0.008138\n",
       "26.000000    0.008138\n",
       "14.000000    0.007812\n",
       "25.000000    0.007161\n",
       "19.000000    0.006836\n",
       "17.000000    0.006510\n",
       "Name: inc_anes, dtype: float64"
      ]
     },
     "execution_count": 237,
     "metadata": {},
     "output_type": "execute_result"
    }
   ],
   "source": [
    "data_clean['inc_anes'].value_counts(normalize=True)"
   ]
  },
  {
   "cell_type": "code",
   "execution_count": 238,
   "metadata": {},
   "outputs": [
    {
     "data": {
      "text/plain": [
       "5.0    0.247070\n",
       "2.0    0.212891\n",
       "3.0    0.202474\n",
       "6.0    0.138021\n",
       "4.0    0.106120\n",
       "7.0    0.032878\n",
       "1.0    0.031901\n",
       "8.0    0.028646\n",
       "Name: educ, dtype: float64"
      ]
     },
     "execution_count": 238,
     "metadata": {},
     "output_type": "execute_result"
    }
   ],
   "source": [
    "data_clean['educ'].value_counts(normalize=True)"
   ]
  },
  {
   "cell_type": "code",
   "execution_count": 142,
   "metadata": {},
   "outputs": [
    {
     "data": {
      "text/plain": [
       "\"\\n\\n[['whitejob', 'taxecon', 'talk2', 'immpres7', 'fundmt1', 'experts', 'econnow', 'conf_covid2',\\n                        'abort1', 'covid_mis_score']]\\n\\n\""
      ]
     },
     "execution_count": 142,
     "metadata": {},
     "output_type": "execute_result"
    }
   ],
   "source": [
    "'''\n",
    "\n",
    "[['whitejob', 'taxecon', 'talk2', 'immpres7', 'fundmt1', 'experts', 'econnow', 'conf_covid2',\n",
    "                        'abort1', 'covid_mis_score']]\n",
    "\n",
    "'''"
   ]
  },
  {
   "cell_type": "code",
   "execution_count": 143,
   "metadata": {},
   "outputs": [
    {
     "data": {
      "text/plain": [
       "<AxesSubplot:xlabel='whitejob', ylabel='count'>"
      ]
     },
     "execution_count": 143,
     "metadata": {},
     "output_type": "execute_result"
    },
    {
     "data": {
      "image/png": "[encoded data removed]",
      "text/plain": [
       "<Figure size 720x504 with 1 Axes>"
      ]
     },
     "metadata": {
      "needs_background": "light"
     },
     "output_type": "display_data"
    }
   ],
   "source": [
    "#white job \n",
    "plt.figure(figsize=(10,7))\n",
    "sns.countplot(data=data, x=data['whitejob'], hue=data_clean['covid_mis_score'])"
   ]
  },
  {
   "cell_type": "code",
   "execution_count": 144,
   "metadata": {},
   "outputs": [
    {
     "data": {
      "text/plain": [
       "<AxesSubplot:xlabel='taxecon', ylabel='count'>"
      ]
     },
     "execution_count": 144,
     "metadata": {},
     "output_type": "execute_result"
    },
    {
     "data": {
      "image/png": "[encoded data removed]",
      "text/plain": [
       "<Figure size 720x504 with 1 Axes>"
      ]
     },
     "metadata": {
      "needs_background": "light"
     },
     "output_type": "display_data"
    }
   ],
   "source": [
    "plt.figure(figsize=(10,7))\n",
    "sns.countplot(data=data, x=data['taxecon'], hue=data_clean['covid_mis_score'])"
   ]
  },
  {
   "cell_type": "code",
   "execution_count": 145,
   "metadata": {},
   "outputs": [
    {
     "data": {
      "text/plain": [
       "<AxesSubplot:xlabel='talk2', ylabel='count'>"
      ]
     },
     "execution_count": 145,
     "metadata": {},
     "output_type": "execute_result"
    },
    {
     "data": {
      "image/png": "[encoded data removed]",
      "text/plain": [
       "<Figure size 720x504 with 1 Axes>"
      ]
     },
     "metadata": {
      "needs_background": "light"
     },
     "output_type": "display_data"
    }
   ],
   "source": [
    "plt.figure(figsize=(10,7))\n",
    "sns.countplot(data=data, x=data['talk2'], hue=data_clean['covid_mis_score'])"
   ]
  },
  {
   "cell_type": "markdown",
   "metadata": {},
   "source": [
    "# dummy classifier "
   ]
  },
  {
   "cell_type": "code",
   "execution_count": 146,
   "metadata": {},
   "outputs": [],
   "source": [
    "X = data_clean.drop(['covid_mis_score'],axis=1)\n",
    "y = data_clean['covid_mis_score']\n",
    "\n",
    "X_train, X_test, y_train, y_test = train_test_split(X, y, test_size = 0.20, random_state = 42)"
   ]
  },
  {
   "cell_type": "code",
   "execution_count": 147,
   "metadata": {},
   "outputs": [
    {
     "data": {
      "text/plain": [
       "0.5217745217745218"
      ]
     },
     "execution_count": 147,
     "metadata": {},
     "output_type": "execute_result"
    }
   ],
   "source": [
    "dummy_model = DummyClassifier(strategy=\"most_frequent\")\n",
    "dummy_model.fit(X_train, y_train)\n",
    "dummy_model.predict(X_train)\n",
    "dummy_model.score(X_train, y_train)"
   ]
  },
  {
   "cell_type": "code",
   "execution_count": 148,
   "metadata": {},
   "outputs": [
    {
     "data": {
      "image/png": "[encoded data removed]",
      "text/plain": [
       "<Figure size 432x288 with 2 Axes>"
      ]
     },
     "metadata": {
      "needs_background": "light"
     },
     "output_type": "display_data"
    }
   ],
   "source": [
    "#confusion matrix for dummy classifer \n",
    "# Confusion matrix for the dummy model\n",
    "fig, ax = plt.subplots()\n",
    "\n",
    "fig.suptitle(\"Dummy Classifier Model\")\n",
    "\n",
    "plot_confusion_matrix(dummy_model, X_train, y_train, ax=ax, values_format='');"
   ]
  },
  {
   "cell_type": "markdown",
   "metadata": {},
   "source": [
    "# simple logistic"
   ]
  },
  {
   "cell_type": "code",
   "execution_count": 149,
   "metadata": {},
   "outputs": [
    {
     "data": {
      "text/plain": [
       "LogisticRegression(random_state=42)"
      ]
     },
     "execution_count": 149,
     "metadata": {},
     "output_type": "execute_result"
    }
   ],
   "source": [
    "#scaling data for a simple logistic regression \n",
    "scale = StandardScaler()\n",
    "X_train_scaled = scale.fit_transform(X_train)\n",
    "X_test_scaled = scale.transform(X_test)\n",
    "\n",
    "simple_log_model = LogisticRegression(random_state=42)\n",
    "simple_log_model.fit(X_train_scaled, y_train)"
   ]
  },
  {
   "cell_type": "code",
   "execution_count": 150,
   "metadata": {},
   "outputs": [
    {
     "name": "stdout",
     "output_type": "stream",
     "text": [
      "Train Recall Score: 0.733007733007733\n",
      "Test Recall Score: 0.5658536585365853\n"
     ]
    }
   ],
   "source": [
    "# looking at predictiings \n",
    "y_pred_train = simple_log_model.predict(X_train_scaled)\n",
    "y_pred_test = simple_log_model.predict(X_test_scaled)\n",
    "\n",
    "print(f\"Train Recall Score: {recall_score(y_train, y_pred_train, average='weighted')}\")\n",
    "print(f\"Test Recall Score: {recall_score(y_test, y_pred_test, average='weighted')}\")"
   ]
  },
  {
   "cell_type": "code",
   "execution_count": 151,
   "metadata": {},
   "outputs": [
    {
     "data": {
      "image/png": "[encoded data removed]",
      "text/plain": [
       "<Figure size 432x288 with 2 Axes>"
      ]
     },
     "metadata": {
      "needs_background": "light"
     },
     "output_type": "display_data"
    }
   ],
   "source": [
    "fig, ax = plt.subplots()\n",
    "\n",
    "fig.suptitle(\"Dummy Model\")\n",
    "\n",
    "plot_confusion_matrix(simple_log_model, X_train_scaled, y_train, ax=ax, values_format='');"
   ]
  },
  {
   "cell_type": "code",
   "execution_count": 152,
   "metadata": {},
   "outputs": [],
   "source": [
    "# looks like the dummy logistic model is way over fitted, let's look into feeture importance to see if that helps"
   ]
  },
  {
   "cell_type": "markdown",
   "metadata": {},
   "source": [
    "# feature importance algos"
   ]
  },
  {
   "cell_type": "code",
   "execution_count": 153,
   "metadata": {},
   "outputs": [],
   "source": [
    "#feature importance"
   ]
  },
  {
   "cell_type": "code",
   "execution_count": 154,
   "metadata": {},
   "outputs": [],
   "source": [
    "features = data_clean.columns\n",
    "traindf = pd.DataFrame(data_clean, columns=features)\n",
    "y = traindf['covid_mis_score']\n",
    "X = traindf.copy()\n",
    "del X['covid_mis_score']"
   ]
  },
  {
   "cell_type": "code",
   "execution_count": 155,
   "metadata": {},
   "outputs": [],
   "source": [
    "feature_name = list(X.columns)\n",
    "# no of maximum features we need to select\n",
    "num_feats=100"
   ]
  },
  {
   "cell_type": "code",
   "execution_count": 156,
   "metadata": {},
   "outputs": [
    {
     "name": "stdout",
     "output_type": "stream",
     "text": [
      "100 selected features\n"
     ]
    }
   ],
   "source": [
    "# pearssom\n",
    "def cor_selector(X, y,num_feats):\n",
    "    cor_list = []\n",
    "    feature_name = X.columns.tolist()\n",
    "    # calculate the correlation with y for each feature\n",
    "    for i in X.columns.tolist():\n",
    "        cor = np.corrcoef(X[i], y)[0, 1]\n",
    "        cor_list.append(cor)\n",
    "    # replace NaN with 0\n",
    "    cor_list = [0 if np.isnan(i) else i for i in cor_list]\n",
    "    # feature name\n",
    "    cor_feature = X.iloc[:,np.argsort(np.abs(cor_list))[-num_feats:]].columns.tolist()\n",
    "    # feature selection? 0 for not select, 1 for select\n",
    "    cor_support = [True if i in cor_feature else False for i in feature_name]\n",
    "    return cor_support, cor_feature\n",
    "cor_support, cor_feature = cor_selector(X, y,num_feats)\n",
    "print(str(len(cor_feature)), 'selected features')"
   ]
  },
  {
   "cell_type": "code",
   "execution_count": 157,
   "metadata": {},
   "outputs": [
    {
     "name": "stdout",
     "output_type": "stream",
     "text": [
      "100 selected features\n"
     ]
    }
   ],
   "source": [
    "#chi squared\n",
    "from sklearn.feature_selection import SelectKBest\n",
    "from sklearn.feature_selection import chi2\n",
    "from sklearn.preprocessing import MinMaxScaler\n",
    "X_norm = MinMaxScaler().fit_transform(X)\n",
    "chi_selector = SelectKBest(chi2, k=num_feats)\n",
    "chi_selector.fit(X_norm, y)\n",
    "chi_support = chi_selector.get_support()\n",
    "chi_feature = X.loc[:,chi_support].columns.tolist()\n",
    "print(str(len(chi_feature)), 'selected features')"
   ]
  },
  {
   "cell_type": "code",
   "execution_count": 158,
   "metadata": {},
   "outputs": [
    {
     "name": "stdout",
     "output_type": "stream",
     "text": [
      "Fitting estimator with 369 features.\n",
      "Fitting estimator with 359 features.\n",
      "Fitting estimator with 349 features.\n",
      "Fitting estimator with 339 features.\n",
      "Fitting estimator with 329 features.\n",
      "Fitting estimator with 319 features.\n",
      "Fitting estimator with 309 features.\n",
      "Fitting estimator with 299 features.\n",
      "Fitting estimator with 289 features.\n",
      "Fitting estimator with 279 features.\n",
      "Fitting estimator with 269 features.\n",
      "Fitting estimator with 259 features.\n",
      "Fitting estimator with 249 features.\n",
      "Fitting estimator with 239 features.\n",
      "Fitting estimator with 229 features.\n",
      "Fitting estimator with 219 features.\n",
      "Fitting estimator with 209 features.\n",
      "Fitting estimator with 199 features.\n",
      "Fitting estimator with 189 features.\n",
      "Fitting estimator with 179 features.\n",
      "Fitting estimator with 169 features.\n",
      "Fitting estimator with 159 features.\n",
      "Fitting estimator with 149 features.\n",
      "Fitting estimator with 139 features.\n",
      "Fitting estimator with 129 features.\n",
      "Fitting estimator with 119 features.\n",
      "Fitting estimator with 109 features.\n"
     ]
    },
    {
     "data": {
      "text/plain": [
       "RFE(estimator=LogisticRegression(random_state=42), n_features_to_select=100,\n",
       "    step=10, verbose=5)"
      ]
     },
     "execution_count": 158,
     "metadata": {},
     "output_type": "execute_result"
    }
   ],
   "source": [
    "#recursive feature elimination\n",
    "from sklearn.feature_selection import RFE\n",
    "from sklearn.linear_model import LogisticRegression\n",
    "rfe_selector = RFE(estimator=LogisticRegression(random_state=42), n_features_to_select=num_feats, step=10, verbose=5)\n",
    "rfe_selector.fit(X_norm, y)"
   ]
  },
  {
   "cell_type": "code",
   "execution_count": 159,
   "metadata": {},
   "outputs": [
    {
     "name": "stdout",
     "output_type": "stream",
     "text": [
      "100 selected features\n"
     ]
    }
   ],
   "source": [
    "rfe_support = rfe_selector.get_support()\n",
    "rfe_feature = X.loc[:,rfe_support].columns.tolist()\n",
    "print(str(len(rfe_feature)), 'selected features')"
   ]
  },
  {
   "cell_type": "code",
   "execution_count": 160,
   "metadata": {},
   "outputs": [
    {
     "data": {
      "text/plain": [
       "SelectFromModel(estimator=LogisticRegression(random_state=42), max_features=100)"
      ]
     },
     "execution_count": 160,
     "metadata": {},
     "output_type": "execute_result"
    }
   ],
   "source": [
    "#lasso logistic \n",
    "from sklearn.feature_selection import SelectFromModel\n",
    "from sklearn.linear_model import LogisticRegression\n",
    "\n",
    "embeded_lr_selector = SelectFromModel(LogisticRegression(penalty=\"l2\", random_state=42), max_features=num_feats)\n",
    "embeded_lr_selector.fit(X_norm, y)"
   ]
  },
  {
   "cell_type": "code",
   "execution_count": 161,
   "metadata": {},
   "outputs": [
    {
     "name": "stdout",
     "output_type": "stream",
     "text": [
      "100 selected features\n"
     ]
    }
   ],
   "source": [
    "embeded_lr_support = embeded_lr_selector.get_support()\n",
    "embeded_lr_feature = X.loc[:,embeded_lr_support].columns.tolist()\n",
    "print(str(len(embeded_lr_feature)), 'selected features')"
   ]
  },
  {
   "cell_type": "code",
   "execution_count": 162,
   "metadata": {},
   "outputs": [
    {
     "data": {
      "text/plain": [
       "SelectFromModel(estimator=RandomForestClassifier(random_state=42),\n",
       "                max_features=100)"
      ]
     },
     "execution_count": 162,
     "metadata": {},
     "output_type": "execute_result"
    }
   ],
   "source": [
    "#random forest \n",
    "# add in random state --> to get same results \n",
    "from sklearn.feature_selection import SelectFromModel\n",
    "from sklearn.ensemble import RandomForestClassifier\n",
    "\n",
    "embeded_rf_selector = SelectFromModel(RandomForestClassifier(n_estimators=100,  random_state=42), max_features=num_feats)\n",
    "embeded_rf_selector.fit(X, y)"
   ]
  },
  {
   "cell_type": "code",
   "execution_count": 163,
   "metadata": {},
   "outputs": [
    {
     "name": "stdout",
     "output_type": "stream",
     "text": [
      "100 selected features\n"
     ]
    }
   ],
   "source": [
    "embeded_rf_support = embeded_rf_selector.get_support()\n",
    "embeded_rf_feature = X.loc[:,embeded_rf_support].columns.tolist()\n",
    "print(str(len(embeded_rf_feature)), 'selected features')\n"
   ]
  },
  {
   "cell_type": "code",
   "execution_count": 164,
   "metadata": {},
   "outputs": [
    {
     "data": {
      "text/html": [
       "<div>\n",
       "<style scoped>\n",
       "    .dataframe tbody tr th:only-of-type {\n",
       "        vertical-align: middle;\n",
       "    }\n",
       "\n",
       "    .dataframe tbody tr th {\n",
       "        vertical-align: top;\n",
       "    }\n",
       "\n",
       "    .dataframe thead th {\n",
       "        text-align: right;\n",
       "    }\n",
       "</style>\n",
       "<table border=\"1\" class=\"dataframe\">\n",
       "  <thead>\n",
       "    <tr style=\"text-align: right;\">\n",
       "      <th></th>\n",
       "      <th>Feature</th>\n",
       "      <th>Pearson</th>\n",
       "      <th>Chi-2</th>\n",
       "      <th>RFE</th>\n",
       "      <th>Logistics</th>\n",
       "      <th>Random Forest</th>\n",
       "      <th>Total</th>\n",
       "    </tr>\n",
       "  </thead>\n",
       "  <tbody>\n",
       "    <tr>\n",
       "      <th>1</th>\n",
       "      <td>whitejob</td>\n",
       "      <td>True</td>\n",
       "      <td>True</td>\n",
       "      <td>True</td>\n",
       "      <td>True</td>\n",
       "      <td>True</td>\n",
       "      <td>5</td>\n",
       "    </tr>\n",
       "    <tr>\n",
       "      <th>2</th>\n",
       "      <td>taxecon</td>\n",
       "      <td>True</td>\n",
       "      <td>True</td>\n",
       "      <td>True</td>\n",
       "      <td>True</td>\n",
       "      <td>True</td>\n",
       "      <td>5</td>\n",
       "    </tr>\n",
       "    <tr>\n",
       "      <th>3</th>\n",
       "      <td>talk2</td>\n",
       "      <td>True</td>\n",
       "      <td>True</td>\n",
       "      <td>True</td>\n",
       "      <td>True</td>\n",
       "      <td>True</td>\n",
       "      <td>5</td>\n",
       "    </tr>\n",
       "    <tr>\n",
       "      <th>4</th>\n",
       "      <td>immpres7</td>\n",
       "      <td>True</td>\n",
       "      <td>True</td>\n",
       "      <td>True</td>\n",
       "      <td>True</td>\n",
       "      <td>True</td>\n",
       "      <td>5</td>\n",
       "    </tr>\n",
       "    <tr>\n",
       "      <th>5</th>\n",
       "      <td>fundmt1</td>\n",
       "      <td>True</td>\n",
       "      <td>True</td>\n",
       "      <td>True</td>\n",
       "      <td>True</td>\n",
       "      <td>True</td>\n",
       "      <td>5</td>\n",
       "    </tr>\n",
       "    <tr>\n",
       "      <th>6</th>\n",
       "      <td>experts</td>\n",
       "      <td>True</td>\n",
       "      <td>True</td>\n",
       "      <td>True</td>\n",
       "      <td>True</td>\n",
       "      <td>True</td>\n",
       "      <td>5</td>\n",
       "    </tr>\n",
       "    <tr>\n",
       "      <th>7</th>\n",
       "      <td>econpres7</td>\n",
       "      <td>True</td>\n",
       "      <td>True</td>\n",
       "      <td>True</td>\n",
       "      <td>True</td>\n",
       "      <td>True</td>\n",
       "      <td>5</td>\n",
       "    </tr>\n",
       "    <tr>\n",
       "      <th>8</th>\n",
       "      <td>econnow</td>\n",
       "      <td>True</td>\n",
       "      <td>True</td>\n",
       "      <td>True</td>\n",
       "      <td>True</td>\n",
       "      <td>True</td>\n",
       "      <td>5</td>\n",
       "    </tr>\n",
       "    <tr>\n",
       "      <th>9</th>\n",
       "      <td>conf_covid2</td>\n",
       "      <td>True</td>\n",
       "      <td>True</td>\n",
       "      <td>True</td>\n",
       "      <td>True</td>\n",
       "      <td>True</td>\n",
       "      <td>5</td>\n",
       "    </tr>\n",
       "    <tr>\n",
       "      <th>10</th>\n",
       "      <td>abort1</td>\n",
       "      <td>True</td>\n",
       "      <td>True</td>\n",
       "      <td>True</td>\n",
       "      <td>True</td>\n",
       "      <td>True</td>\n",
       "      <td>5</td>\n",
       "    </tr>\n",
       "    <tr>\n",
       "      <th>11</th>\n",
       "      <td>votemail2</td>\n",
       "      <td>False</td>\n",
       "      <td>True</td>\n",
       "      <td>True</td>\n",
       "      <td>True</td>\n",
       "      <td>True</td>\n",
       "      <td>4</td>\n",
       "    </tr>\n",
       "    <tr>\n",
       "      <th>12</th>\n",
       "      <td>viol2a</td>\n",
       "      <td>True</td>\n",
       "      <td>True</td>\n",
       "      <td>True</td>\n",
       "      <td>True</td>\n",
       "      <td>False</td>\n",
       "      <td>4</td>\n",
       "    </tr>\n",
       "    <tr>\n",
       "      <th>13</th>\n",
       "      <td>strpres1b</td>\n",
       "      <td>True</td>\n",
       "      <td>True</td>\n",
       "      <td>True</td>\n",
       "      <td>True</td>\n",
       "      <td>False</td>\n",
       "      <td>4</td>\n",
       "    </tr>\n",
       "    <tr>\n",
       "      <th>14</th>\n",
       "      <td>pidstr3</td>\n",
       "      <td>True</td>\n",
       "      <td>True</td>\n",
       "      <td>False</td>\n",
       "      <td>True</td>\n",
       "      <td>True</td>\n",
       "      <td>4</td>\n",
       "    </tr>\n",
       "    <tr>\n",
       "      <th>15</th>\n",
       "      <td>pidstr1</td>\n",
       "      <td>True</td>\n",
       "      <td>True</td>\n",
       "      <td>False</td>\n",
       "      <td>True</td>\n",
       "      <td>True</td>\n",
       "      <td>4</td>\n",
       "    </tr>\n",
       "    <tr>\n",
       "      <th>16</th>\n",
       "      <td>lcd</td>\n",
       "      <td>False</td>\n",
       "      <td>True</td>\n",
       "      <td>True</td>\n",
       "      <td>True</td>\n",
       "      <td>True</td>\n",
       "      <td>4</td>\n",
       "    </tr>\n",
       "    <tr>\n",
       "      <th>17</th>\n",
       "      <td>knowtran2_1</td>\n",
       "      <td>True</td>\n",
       "      <td>True</td>\n",
       "      <td>True</td>\n",
       "      <td>True</td>\n",
       "      <td>False</td>\n",
       "      <td>4</td>\n",
       "    </tr>\n",
       "    <tr>\n",
       "      <th>18</th>\n",
       "      <td>jbhonest</td>\n",
       "      <td>False</td>\n",
       "      <td>True</td>\n",
       "      <td>True</td>\n",
       "      <td>True</td>\n",
       "      <td>True</td>\n",
       "      <td>4</td>\n",
       "    </tr>\n",
       "    <tr>\n",
       "      <th>19</th>\n",
       "      <td>impact9</td>\n",
       "      <td>True</td>\n",
       "      <td>True</td>\n",
       "      <td>False</td>\n",
       "      <td>True</td>\n",
       "      <td>True</td>\n",
       "      <td>4</td>\n",
       "    </tr>\n",
       "    <tr>\n",
       "      <th>20</th>\n",
       "      <td>immignum</td>\n",
       "      <td>False</td>\n",
       "      <td>True</td>\n",
       "      <td>True</td>\n",
       "      <td>True</td>\n",
       "      <td>True</td>\n",
       "      <td>4</td>\n",
       "    </tr>\n",
       "    <tr>\n",
       "      <th>21</th>\n",
       "      <td>hopeful</td>\n",
       "      <td>True</td>\n",
       "      <td>True</td>\n",
       "      <td>True</td>\n",
       "      <td>True</td>\n",
       "      <td>False</td>\n",
       "      <td>4</td>\n",
       "    </tr>\n",
       "    <tr>\n",
       "      <th>22</th>\n",
       "      <td>hlthcare1</td>\n",
       "      <td>False</td>\n",
       "      <td>True</td>\n",
       "      <td>True</td>\n",
       "      <td>True</td>\n",
       "      <td>True</td>\n",
       "      <td>4</td>\n",
       "    </tr>\n",
       "    <tr>\n",
       "      <th>23</th>\n",
       "      <td>excessive</td>\n",
       "      <td>True</td>\n",
       "      <td>False</td>\n",
       "      <td>True</td>\n",
       "      <td>True</td>\n",
       "      <td>True</td>\n",
       "      <td>4</td>\n",
       "    </tr>\n",
       "    <tr>\n",
       "      <th>24</th>\n",
       "      <td>dtleader2</td>\n",
       "      <td>True</td>\n",
       "      <td>True</td>\n",
       "      <td>True</td>\n",
       "      <td>True</td>\n",
       "      <td>False</td>\n",
       "      <td>4</td>\n",
       "    </tr>\n",
       "    <tr>\n",
       "      <th>25</th>\n",
       "      <td>covid_elect</td>\n",
       "      <td>True</td>\n",
       "      <td>True</td>\n",
       "      <td>False</td>\n",
       "      <td>True</td>\n",
       "      <td>True</td>\n",
       "      <td>4</td>\n",
       "    </tr>\n",
       "    <tr>\n",
       "      <th>26</th>\n",
       "      <td>birthyr</td>\n",
       "      <td>True</td>\n",
       "      <td>False</td>\n",
       "      <td>True</td>\n",
       "      <td>True</td>\n",
       "      <td>True</td>\n",
       "      <td>4</td>\n",
       "    </tr>\n",
       "    <tr>\n",
       "      <th>27</th>\n",
       "      <td>wall7</td>\n",
       "      <td>True</td>\n",
       "      <td>True</td>\n",
       "      <td>False</td>\n",
       "      <td>False</td>\n",
       "      <td>True</td>\n",
       "      <td>3</td>\n",
       "    </tr>\n",
       "    <tr>\n",
       "      <th>28</th>\n",
       "      <td>votecount</td>\n",
       "      <td>False</td>\n",
       "      <td>False</td>\n",
       "      <td>True</td>\n",
       "      <td>True</td>\n",
       "      <td>True</td>\n",
       "      <td>3</td>\n",
       "    </tr>\n",
       "    <tr>\n",
       "      <th>29</th>\n",
       "      <td>viol2b</td>\n",
       "      <td>True</td>\n",
       "      <td>True</td>\n",
       "      <td>False</td>\n",
       "      <td>True</td>\n",
       "      <td>False</td>\n",
       "      <td>3</td>\n",
       "    </tr>\n",
       "    <tr>\n",
       "      <th>30</th>\n",
       "      <td>viol1</td>\n",
       "      <td>True</td>\n",
       "      <td>True</td>\n",
       "      <td>False</td>\n",
       "      <td>False</td>\n",
       "      <td>True</td>\n",
       "      <td>3</td>\n",
       "    </tr>\n",
       "    <tr>\n",
       "      <th>31</th>\n",
       "      <td>talk3</td>\n",
       "      <td>True</td>\n",
       "      <td>False</td>\n",
       "      <td>True</td>\n",
       "      <td>True</td>\n",
       "      <td>False</td>\n",
       "      <td>3</td>\n",
       "    </tr>\n",
       "    <tr>\n",
       "      <th>32</th>\n",
       "      <td>stress4</td>\n",
       "      <td>True</td>\n",
       "      <td>False</td>\n",
       "      <td>True</td>\n",
       "      <td>True</td>\n",
       "      <td>False</td>\n",
       "      <td>3</td>\n",
       "    </tr>\n",
       "    <tr>\n",
       "      <th>33</th>\n",
       "      <td>speech1</td>\n",
       "      <td>True</td>\n",
       "      <td>False</td>\n",
       "      <td>True</td>\n",
       "      <td>True</td>\n",
       "      <td>False</td>\n",
       "      <td>3</td>\n",
       "    </tr>\n",
       "    <tr>\n",
       "      <th>34</th>\n",
       "      <td>selfmon4</td>\n",
       "      <td>True</td>\n",
       "      <td>False</td>\n",
       "      <td>True</td>\n",
       "      <td>True</td>\n",
       "      <td>False</td>\n",
       "      <td>3</td>\n",
       "    </tr>\n",
       "    <tr>\n",
       "      <th>35</th>\n",
       "      <td>science</td>\n",
       "      <td>True</td>\n",
       "      <td>False</td>\n",
       "      <td>False</td>\n",
       "      <td>True</td>\n",
       "      <td>True</td>\n",
       "      <td>3</td>\n",
       "    </tr>\n",
       "    <tr>\n",
       "      <th>36</th>\n",
       "      <td>rural4</td>\n",
       "      <td>True</td>\n",
       "      <td>True</td>\n",
       "      <td>False</td>\n",
       "      <td>False</td>\n",
       "      <td>True</td>\n",
       "      <td>3</td>\n",
       "    </tr>\n",
       "    <tr>\n",
       "      <th>37</th>\n",
       "      <td>rural2</td>\n",
       "      <td>True</td>\n",
       "      <td>True</td>\n",
       "      <td>False</td>\n",
       "      <td>False</td>\n",
       "      <td>True</td>\n",
       "      <td>3</td>\n",
       "    </tr>\n",
       "    <tr>\n",
       "      <th>38</th>\n",
       "      <td>rr4</td>\n",
       "      <td>True</td>\n",
       "      <td>True</td>\n",
       "      <td>False</td>\n",
       "      <td>False</td>\n",
       "      <td>True</td>\n",
       "      <td>3</td>\n",
       "    </tr>\n",
       "    <tr>\n",
       "      <th>39</th>\n",
       "      <td>rr1</td>\n",
       "      <td>True</td>\n",
       "      <td>True</td>\n",
       "      <td>False</td>\n",
       "      <td>False</td>\n",
       "      <td>True</td>\n",
       "      <td>3</td>\n",
       "    </tr>\n",
       "    <tr>\n",
       "      <th>40</th>\n",
       "      <td>return</td>\n",
       "      <td>True</td>\n",
       "      <td>True</td>\n",
       "      <td>False</td>\n",
       "      <td>False</td>\n",
       "      <td>True</td>\n",
       "      <td>3</td>\n",
       "    </tr>\n",
       "    <tr>\n",
       "      <th>41</th>\n",
       "      <td>protest</td>\n",
       "      <td>True</td>\n",
       "      <td>True</td>\n",
       "      <td>True</td>\n",
       "      <td>False</td>\n",
       "      <td>False</td>\n",
       "      <td>3</td>\n",
       "    </tr>\n",
       "    <tr>\n",
       "      <th>42</th>\n",
       "      <td>moralcert6</td>\n",
       "      <td>True</td>\n",
       "      <td>False</td>\n",
       "      <td>True</td>\n",
       "      <td>True</td>\n",
       "      <td>False</td>\n",
       "      <td>3</td>\n",
       "    </tr>\n",
       "    <tr>\n",
       "      <th>43</th>\n",
       "      <td>lcself</td>\n",
       "      <td>False</td>\n",
       "      <td>True</td>\n",
       "      <td>False</td>\n",
       "      <td>True</td>\n",
       "      <td>True</td>\n",
       "      <td>3</td>\n",
       "    </tr>\n",
       "    <tr>\n",
       "      <th>44</th>\n",
       "      <td>lcr</td>\n",
       "      <td>True</td>\n",
       "      <td>True</td>\n",
       "      <td>False</td>\n",
       "      <td>False</td>\n",
       "      <td>True</td>\n",
       "      <td>3</td>\n",
       "    </tr>\n",
       "    <tr>\n",
       "      <th>45</th>\n",
       "      <td>knowtran2_2</td>\n",
       "      <td>True</td>\n",
       "      <td>True</td>\n",
       "      <td>False</td>\n",
       "      <td>True</td>\n",
       "      <td>False</td>\n",
       "      <td>3</td>\n",
       "    </tr>\n",
       "    <tr>\n",
       "      <th>46</th>\n",
       "      <td>intelsup1</td>\n",
       "      <td>True</td>\n",
       "      <td>False</td>\n",
       "      <td>True</td>\n",
       "      <td>True</td>\n",
       "      <td>False</td>\n",
       "      <td>3</td>\n",
       "    </tr>\n",
       "    <tr>\n",
       "      <th>47</th>\n",
       "      <td>inc_anes</td>\n",
       "      <td>False</td>\n",
       "      <td>False</td>\n",
       "      <td>True</td>\n",
       "      <td>True</td>\n",
       "      <td>True</td>\n",
       "      <td>3</td>\n",
       "    </tr>\n",
       "    <tr>\n",
       "      <th>48</th>\n",
       "      <td>impeach2</td>\n",
       "      <td>True</td>\n",
       "      <td>True</td>\n",
       "      <td>False</td>\n",
       "      <td>False</td>\n",
       "      <td>True</td>\n",
       "      <td>3</td>\n",
       "    </tr>\n",
       "    <tr>\n",
       "      <th>49</th>\n",
       "      <td>impeach1</td>\n",
       "      <td>False</td>\n",
       "      <td>True</td>\n",
       "      <td>True</td>\n",
       "      <td>True</td>\n",
       "      <td>False</td>\n",
       "      <td>3</td>\n",
       "    </tr>\n",
       "    <tr>\n",
       "      <th>50</th>\n",
       "      <td>impact8</td>\n",
       "      <td>True</td>\n",
       "      <td>True</td>\n",
       "      <td>False</td>\n",
       "      <td>False</td>\n",
       "      <td>True</td>\n",
       "      <td>3</td>\n",
       "    </tr>\n",
       "    <tr>\n",
       "      <th>51</th>\n",
       "      <td>impact6</td>\n",
       "      <td>True</td>\n",
       "      <td>True</td>\n",
       "      <td>False</td>\n",
       "      <td>False</td>\n",
       "      <td>True</td>\n",
       "      <td>3</td>\n",
       "    </tr>\n",
       "    <tr>\n",
       "      <th>52</th>\n",
       "      <td>impact5</td>\n",
       "      <td>True</td>\n",
       "      <td>True</td>\n",
       "      <td>False</td>\n",
       "      <td>False</td>\n",
       "      <td>True</td>\n",
       "      <td>3</td>\n",
       "    </tr>\n",
       "    <tr>\n",
       "      <th>53</th>\n",
       "      <td>impact4</td>\n",
       "      <td>True</td>\n",
       "      <td>True</td>\n",
       "      <td>False</td>\n",
       "      <td>False</td>\n",
       "      <td>True</td>\n",
       "      <td>3</td>\n",
       "    </tr>\n",
       "    <tr>\n",
       "      <th>54</th>\n",
       "      <td>impact1</td>\n",
       "      <td>True</td>\n",
       "      <td>True</td>\n",
       "      <td>False</td>\n",
       "      <td>False</td>\n",
       "      <td>True</td>\n",
       "      <td>3</td>\n",
       "    </tr>\n",
       "    <tr>\n",
       "      <th>55</th>\n",
       "      <td>fundmt2</td>\n",
       "      <td>True</td>\n",
       "      <td>False</td>\n",
       "      <td>False</td>\n",
       "      <td>True</td>\n",
       "      <td>True</td>\n",
       "      <td>3</td>\n",
       "    </tr>\n",
       "    <tr>\n",
       "      <th>56</th>\n",
       "      <td>ftwarren1</td>\n",
       "      <td>False</td>\n",
       "      <td>False</td>\n",
       "      <td>True</td>\n",
       "      <td>True</td>\n",
       "      <td>True</td>\n",
       "      <td>3</td>\n",
       "    </tr>\n",
       "    <tr>\n",
       "      <th>57</th>\n",
       "      <td>fttransppl</td>\n",
       "      <td>False</td>\n",
       "      <td>False</td>\n",
       "      <td>True</td>\n",
       "      <td>True</td>\n",
       "      <td>True</td>\n",
       "      <td>3</td>\n",
       "    </tr>\n",
       "    <tr>\n",
       "      <th>58</th>\n",
       "      <td>ftrubio1</td>\n",
       "      <td>False</td>\n",
       "      <td>False</td>\n",
       "      <td>True</td>\n",
       "      <td>True</td>\n",
       "      <td>True</td>\n",
       "      <td>3</td>\n",
       "    </tr>\n",
       "    <tr>\n",
       "      <th>59</th>\n",
       "      <td>ftpence1</td>\n",
       "      <td>False</td>\n",
       "      <td>False</td>\n",
       "      <td>True</td>\n",
       "      <td>True</td>\n",
       "      <td>True</td>\n",
       "      <td>3</td>\n",
       "    </tr>\n",
       "    <tr>\n",
       "      <th>60</th>\n",
       "      <td>ftharris1</td>\n",
       "      <td>False</td>\n",
       "      <td>False</td>\n",
       "      <td>True</td>\n",
       "      <td>True</td>\n",
       "      <td>True</td>\n",
       "      <td>3</td>\n",
       "    </tr>\n",
       "    <tr>\n",
       "      <th>61</th>\n",
       "      <td>ftdemocraticparty</td>\n",
       "      <td>False</td>\n",
       "      <td>False</td>\n",
       "      <td>True</td>\n",
       "      <td>True</td>\n",
       "      <td>True</td>\n",
       "      <td>3</td>\n",
       "    </tr>\n",
       "    <tr>\n",
       "      <th>62</th>\n",
       "      <td>ftcapitalists</td>\n",
       "      <td>False</td>\n",
       "      <td>False</td>\n",
       "      <td>True</td>\n",
       "      <td>True</td>\n",
       "      <td>True</td>\n",
       "      <td>3</td>\n",
       "    </tr>\n",
       "    <tr>\n",
       "      <th>63</th>\n",
       "      <td>ftbuttigieg1</td>\n",
       "      <td>False</td>\n",
       "      <td>False</td>\n",
       "      <td>True</td>\n",
       "      <td>True</td>\n",
       "      <td>True</td>\n",
       "      <td>3</td>\n",
       "    </tr>\n",
       "    <tr>\n",
       "      <th>64</th>\n",
       "      <td>ftblack</td>\n",
       "      <td>False</td>\n",
       "      <td>False</td>\n",
       "      <td>True</td>\n",
       "      <td>True</td>\n",
       "      <td>True</td>\n",
       "      <td>3</td>\n",
       "    </tr>\n",
       "    <tr>\n",
       "      <th>65</th>\n",
       "      <td>frnpres7</td>\n",
       "      <td>True</td>\n",
       "      <td>True</td>\n",
       "      <td>False</td>\n",
       "      <td>False</td>\n",
       "      <td>True</td>\n",
       "      <td>3</td>\n",
       "    </tr>\n",
       "    <tr>\n",
       "      <th>66</th>\n",
       "      <td>finworry</td>\n",
       "      <td>False</td>\n",
       "      <td>False</td>\n",
       "      <td>True</td>\n",
       "      <td>True</td>\n",
       "      <td>True</td>\n",
       "      <td>3</td>\n",
       "    </tr>\n",
       "    <tr>\n",
       "      <th>67</th>\n",
       "      <td>femid2_fem</td>\n",
       "      <td>True</td>\n",
       "      <td>False</td>\n",
       "      <td>True</td>\n",
       "      <td>True</td>\n",
       "      <td>False</td>\n",
       "      <td>3</td>\n",
       "    </tr>\n",
       "    <tr>\n",
       "      <th>68</th>\n",
       "      <td>exphelp</td>\n",
       "      <td>False</td>\n",
       "      <td>False</td>\n",
       "      <td>True</td>\n",
       "      <td>True</td>\n",
       "      <td>True</td>\n",
       "      <td>3</td>\n",
       "    </tr>\n",
       "    <tr>\n",
       "      <th>69</th>\n",
       "      <td>dtknow</td>\n",
       "      <td>True</td>\n",
       "      <td>True</td>\n",
       "      <td>False</td>\n",
       "      <td>False</td>\n",
       "      <td>True</td>\n",
       "      <td>3</td>\n",
       "    </tr>\n",
       "    <tr>\n",
       "      <th>70</th>\n",
       "      <td>dthonest</td>\n",
       "      <td>True</td>\n",
       "      <td>True</td>\n",
       "      <td>True</td>\n",
       "      <td>False</td>\n",
       "      <td>False</td>\n",
       "      <td>3</td>\n",
       "    </tr>\n",
       "    <tr>\n",
       "      <th>71</th>\n",
       "      <td>dtdignif</td>\n",
       "      <td>True</td>\n",
       "      <td>True</td>\n",
       "      <td>False</td>\n",
       "      <td>False</td>\n",
       "      <td>True</td>\n",
       "      <td>3</td>\n",
       "    </tr>\n",
       "    <tr>\n",
       "      <th>72</th>\n",
       "      <td>dtcares</td>\n",
       "      <td>True</td>\n",
       "      <td>True</td>\n",
       "      <td>False</td>\n",
       "      <td>False</td>\n",
       "      <td>True</td>\n",
       "      <td>3</td>\n",
       "    </tr>\n",
       "    <tr>\n",
       "      <th>73</th>\n",
       "      <td>dtauth</td>\n",
       "      <td>True</td>\n",
       "      <td>True</td>\n",
       "      <td>False</td>\n",
       "      <td>False</td>\n",
       "      <td>True</td>\n",
       "      <td>3</td>\n",
       "    </tr>\n",
       "    <tr>\n",
       "      <th>74</th>\n",
       "      <td>depress4</td>\n",
       "      <td>True</td>\n",
       "      <td>False</td>\n",
       "      <td>True</td>\n",
       "      <td>True</td>\n",
       "      <td>False</td>\n",
       "      <td>3</td>\n",
       "    </tr>\n",
       "    <tr>\n",
       "      <th>75</th>\n",
       "      <td>depress1</td>\n",
       "      <td>True</td>\n",
       "      <td>False</td>\n",
       "      <td>True</td>\n",
       "      <td>True</td>\n",
       "      <td>False</td>\n",
       "      <td>3</td>\n",
       "    </tr>\n",
       "    <tr>\n",
       "      <th>76</th>\n",
       "      <td>conf_covid1</td>\n",
       "      <td>False</td>\n",
       "      <td>False</td>\n",
       "      <td>True</td>\n",
       "      <td>True</td>\n",
       "      <td>True</td>\n",
       "      <td>3</td>\n",
       "    </tr>\n",
       "    <tr>\n",
       "      <th>77</th>\n",
       "      <td>callout_social</td>\n",
       "      <td>True</td>\n",
       "      <td>True</td>\n",
       "      <td>True</td>\n",
       "      <td>False</td>\n",
       "      <td>False</td>\n",
       "      <td>3</td>\n",
       "    </tr>\n",
       "    <tr>\n",
       "      <th>78</th>\n",
       "      <td>att1</td>\n",
       "      <td>True</td>\n",
       "      <td>True</td>\n",
       "      <td>False</td>\n",
       "      <td>True</td>\n",
       "      <td>False</td>\n",
       "      <td>3</td>\n",
       "    </tr>\n",
       "    <tr>\n",
       "      <th>79</th>\n",
       "      <td>apppres7</td>\n",
       "      <td>True</td>\n",
       "      <td>True</td>\n",
       "      <td>False</td>\n",
       "      <td>False</td>\n",
       "      <td>True</td>\n",
       "      <td>3</td>\n",
       "    </tr>\n",
       "    <tr>\n",
       "      <th>80</th>\n",
       "      <td>age</td>\n",
       "      <td>True</td>\n",
       "      <td>False</td>\n",
       "      <td>False</td>\n",
       "      <td>True</td>\n",
       "      <td>True</td>\n",
       "      <td>3</td>\n",
       "    </tr>\n",
       "    <tr>\n",
       "      <th>81</th>\n",
       "      <td>affact</td>\n",
       "      <td>True</td>\n",
       "      <td>True</td>\n",
       "      <td>False</td>\n",
       "      <td>False</td>\n",
       "      <td>True</td>\n",
       "      <td>3</td>\n",
       "    </tr>\n",
       "    <tr>\n",
       "      <th>82</th>\n",
       "      <td>abort2</td>\n",
       "      <td>True</td>\n",
       "      <td>True</td>\n",
       "      <td>False</td>\n",
       "      <td>False</td>\n",
       "      <td>True</td>\n",
       "      <td>3</td>\n",
       "    </tr>\n",
       "    <tr>\n",
       "      <th>83</th>\n",
       "      <td>worried</td>\n",
       "      <td>False</td>\n",
       "      <td>False</td>\n",
       "      <td>True</td>\n",
       "      <td>True</td>\n",
       "      <td>False</td>\n",
       "      <td>2</td>\n",
       "    </tr>\n",
       "    <tr>\n",
       "      <th>84</th>\n",
       "      <td>voterid2</td>\n",
       "      <td>False</td>\n",
       "      <td>True</td>\n",
       "      <td>True</td>\n",
       "      <td>False</td>\n",
       "      <td>False</td>\n",
       "      <td>2</td>\n",
       "    </tr>\n",
       "    <tr>\n",
       "      <th>85</th>\n",
       "      <td>voterid1</td>\n",
       "      <td>False</td>\n",
       "      <td>False</td>\n",
       "      <td>True</td>\n",
       "      <td>True</td>\n",
       "      <td>False</td>\n",
       "      <td>2</td>\n",
       "    </tr>\n",
       "    <tr>\n",
       "      <th>86</th>\n",
       "      <td>viol3_both</td>\n",
       "      <td>False</td>\n",
       "      <td>False</td>\n",
       "      <td>True</td>\n",
       "      <td>True</td>\n",
       "      <td>False</td>\n",
       "      <td>2</td>\n",
       "    </tr>\n",
       "    <tr>\n",
       "      <th>87</th>\n",
       "      <td>socmed_9</td>\n",
       "      <td>False</td>\n",
       "      <td>True</td>\n",
       "      <td>False</td>\n",
       "      <td>True</td>\n",
       "      <td>False</td>\n",
       "      <td>2</td>\n",
       "    </tr>\n",
       "    <tr>\n",
       "      <th>88</th>\n",
       "      <td>socmed_7</td>\n",
       "      <td>True</td>\n",
       "      <td>True</td>\n",
       "      <td>False</td>\n",
       "      <td>False</td>\n",
       "      <td>False</td>\n",
       "      <td>2</td>\n",
       "    </tr>\n",
       "    <tr>\n",
       "      <th>89</th>\n",
       "      <td>socmed_6</td>\n",
       "      <td>True</td>\n",
       "      <td>True</td>\n",
       "      <td>False</td>\n",
       "      <td>False</td>\n",
       "      <td>False</td>\n",
       "      <td>2</td>\n",
       "    </tr>\n",
       "    <tr>\n",
       "      <th>90</th>\n",
       "      <td>socmed_3</td>\n",
       "      <td>True</td>\n",
       "      <td>True</td>\n",
       "      <td>False</td>\n",
       "      <td>False</td>\n",
       "      <td>False</td>\n",
       "      <td>2</td>\n",
       "    </tr>\n",
       "    <tr>\n",
       "      <th>91</th>\n",
       "      <td>selfmon6</td>\n",
       "      <td>False</td>\n",
       "      <td>False</td>\n",
       "      <td>True</td>\n",
       "      <td>True</td>\n",
       "      <td>False</td>\n",
       "      <td>2</td>\n",
       "    </tr>\n",
       "    <tr>\n",
       "      <th>92</th>\n",
       "      <td>selfmon2</td>\n",
       "      <td>True</td>\n",
       "      <td>False</td>\n",
       "      <td>False</td>\n",
       "      <td>True</td>\n",
       "      <td>False</td>\n",
       "      <td>2</td>\n",
       "    </tr>\n",
       "    <tr>\n",
       "      <th>93</th>\n",
       "      <td>rural3</td>\n",
       "      <td>True</td>\n",
       "      <td>False</td>\n",
       "      <td>False</td>\n",
       "      <td>False</td>\n",
       "      <td>True</td>\n",
       "      <td>2</td>\n",
       "    </tr>\n",
       "    <tr>\n",
       "      <th>94</th>\n",
       "      <td>rr_scale</td>\n",
       "      <td>False</td>\n",
       "      <td>False</td>\n",
       "      <td>True</td>\n",
       "      <td>False</td>\n",
       "      <td>True</td>\n",
       "      <td>2</td>\n",
       "    </tr>\n",
       "    <tr>\n",
       "      <th>95</th>\n",
       "      <td>richpoor2</td>\n",
       "      <td>False</td>\n",
       "      <td>True</td>\n",
       "      <td>False</td>\n",
       "      <td>False</td>\n",
       "      <td>True</td>\n",
       "      <td>2</td>\n",
       "    </tr>\n",
       "    <tr>\n",
       "      <th>96</th>\n",
       "      <td>relig2a</td>\n",
       "      <td>False</td>\n",
       "      <td>False</td>\n",
       "      <td>True</td>\n",
       "      <td>True</td>\n",
       "      <td>False</td>\n",
       "      <td>2</td>\n",
       "    </tr>\n",
       "    <tr>\n",
       "      <th>97</th>\n",
       "      <td>race7</td>\n",
       "      <td>False</td>\n",
       "      <td>False</td>\n",
       "      <td>True</td>\n",
       "      <td>True</td>\n",
       "      <td>False</td>\n",
       "      <td>2</td>\n",
       "    </tr>\n",
       "    <tr>\n",
       "      <th>98</th>\n",
       "      <td>proud</td>\n",
       "      <td>True</td>\n",
       "      <td>True</td>\n",
       "      <td>False</td>\n",
       "      <td>False</td>\n",
       "      <td>False</td>\n",
       "      <td>2</td>\n",
       "    </tr>\n",
       "    <tr>\n",
       "      <th>99</th>\n",
       "      <td>pid7</td>\n",
       "      <td>True</td>\n",
       "      <td>True</td>\n",
       "      <td>False</td>\n",
       "      <td>False</td>\n",
       "      <td>False</td>\n",
       "      <td>2</td>\n",
       "    </tr>\n",
       "    <tr>\n",
       "      <th>100</th>\n",
       "      <td>outraged</td>\n",
       "      <td>False</td>\n",
       "      <td>False</td>\n",
       "      <td>True</td>\n",
       "      <td>False</td>\n",
       "      <td>True</td>\n",
       "      <td>2</td>\n",
       "    </tr>\n",
       "  </tbody>\n",
       "</table>\n",
       "</div>"
      ],
      "text/plain": [
       "               Feature  Pearson  Chi-2    RFE  Logistics  Random Forest  Total\n",
       "1             whitejob     True   True   True       True           True      5\n",
       "2              taxecon     True   True   True       True           True      5\n",
       "3                talk2     True   True   True       True           True      5\n",
       "4             immpres7     True   True   True       True           True      5\n",
       "5              fundmt1     True   True   True       True           True      5\n",
       "6              experts     True   True   True       True           True      5\n",
       "7            econpres7     True   True   True       True           True      5\n",
       "8              econnow     True   True   True       True           True      5\n",
       "9          conf_covid2     True   True   True       True           True      5\n",
       "10              abort1     True   True   True       True           True      5\n",
       "11           votemail2    False   True   True       True           True      4\n",
       "12              viol2a     True   True   True       True          False      4\n",
       "13           strpres1b     True   True   True       True          False      4\n",
       "14             pidstr3     True   True  False       True           True      4\n",
       "15             pidstr1     True   True  False       True           True      4\n",
       "16                 lcd    False   True   True       True           True      4\n",
       "17         knowtran2_1     True   True   True       True          False      4\n",
       "18            jbhonest    False   True   True       True           True      4\n",
       "19             impact9     True   True  False       True           True      4\n",
       "20            immignum    False   True   True       True           True      4\n",
       "21             hopeful     True   True   True       True          False      4\n",
       "22           hlthcare1    False   True   True       True           True      4\n",
       "23           excessive     True  False   True       True           True      4\n",
       "24           dtleader2     True   True   True       True          False      4\n",
       "25         covid_elect     True   True  False       True           True      4\n",
       "26             birthyr     True  False   True       True           True      4\n",
       "27               wall7     True   True  False      False           True      3\n",
       "28           votecount    False  False   True       True           True      3\n",
       "29              viol2b     True   True  False       True          False      3\n",
       "30               viol1     True   True  False      False           True      3\n",
       "31               talk3     True  False   True       True          False      3\n",
       "32             stress4     True  False   True       True          False      3\n",
       "33             speech1     True  False   True       True          False      3\n",
       "34            selfmon4     True  False   True       True          False      3\n",
       "35             science     True  False  False       True           True      3\n",
       "36              rural4     True   True  False      False           True      3\n",
       "37              rural2     True   True  False      False           True      3\n",
       "38                 rr4     True   True  False      False           True      3\n",
       "39                 rr1     True   True  False      False           True      3\n",
       "40              return     True   True  False      False           True      3\n",
       "41             protest     True   True   True      False          False      3\n",
       "42          moralcert6     True  False   True       True          False      3\n",
       "43              lcself    False   True  False       True           True      3\n",
       "44                 lcr     True   True  False      False           True      3\n",
       "45         knowtran2_2     True   True  False       True          False      3\n",
       "46           intelsup1     True  False   True       True          False      3\n",
       "47            inc_anes    False  False   True       True           True      3\n",
       "48            impeach2     True   True  False      False           True      3\n",
       "49            impeach1    False   True   True       True          False      3\n",
       "50             impact8     True   True  False      False           True      3\n",
       "51             impact6     True   True  False      False           True      3\n",
       "52             impact5     True   True  False      False           True      3\n",
       "53             impact4     True   True  False      False           True      3\n",
       "54             impact1     True   True  False      False           True      3\n",
       "55             fundmt2     True  False  False       True           True      3\n",
       "56           ftwarren1    False  False   True       True           True      3\n",
       "57          fttransppl    False  False   True       True           True      3\n",
       "58            ftrubio1    False  False   True       True           True      3\n",
       "59            ftpence1    False  False   True       True           True      3\n",
       "60           ftharris1    False  False   True       True           True      3\n",
       "61   ftdemocraticparty    False  False   True       True           True      3\n",
       "62       ftcapitalists    False  False   True       True           True      3\n",
       "63        ftbuttigieg1    False  False   True       True           True      3\n",
       "64             ftblack    False  False   True       True           True      3\n",
       "65            frnpres7     True   True  False      False           True      3\n",
       "66            finworry    False  False   True       True           True      3\n",
       "67          femid2_fem     True  False   True       True          False      3\n",
       "68             exphelp    False  False   True       True           True      3\n",
       "69              dtknow     True   True  False      False           True      3\n",
       "70            dthonest     True   True   True      False          False      3\n",
       "71            dtdignif     True   True  False      False           True      3\n",
       "72             dtcares     True   True  False      False           True      3\n",
       "73              dtauth     True   True  False      False           True      3\n",
       "74            depress4     True  False   True       True          False      3\n",
       "75            depress1     True  False   True       True          False      3\n",
       "76         conf_covid1    False  False   True       True           True      3\n",
       "77      callout_social     True   True   True      False          False      3\n",
       "78                att1     True   True  False       True          False      3\n",
       "79            apppres7     True   True  False      False           True      3\n",
       "80                 age     True  False  False       True           True      3\n",
       "81              affact     True   True  False      False           True      3\n",
       "82              abort2     True   True  False      False           True      3\n",
       "83             worried    False  False   True       True          False      2\n",
       "84            voterid2    False   True   True      False          False      2\n",
       "85            voterid1    False  False   True       True          False      2\n",
       "86          viol3_both    False  False   True       True          False      2\n",
       "87            socmed_9    False   True  False       True          False      2\n",
       "88            socmed_7     True   True  False      False          False      2\n",
       "89            socmed_6     True   True  False      False          False      2\n",
       "90            socmed_3     True   True  False      False          False      2\n",
       "91            selfmon6    False  False   True       True          False      2\n",
       "92            selfmon2     True  False  False       True          False      2\n",
       "93              rural3     True  False  False      False           True      2\n",
       "94            rr_scale    False  False   True      False           True      2\n",
       "95           richpoor2    False   True  False      False           True      2\n",
       "96             relig2a    False  False   True       True          False      2\n",
       "97               race7    False  False   True       True          False      2\n",
       "98               proud     True   True  False      False          False      2\n",
       "99                pid7     True   True  False      False          False      2\n",
       "100           outraged    False  False   True      False           True      2"
      ]
     },
     "execution_count": 164,
     "metadata": {},
     "output_type": "execute_result"
    }
   ],
   "source": [
    "# lets look at all of them \n",
    "\n",
    "pd.set_option('display.max_rows', None)\n",
    "# put all selection together\n",
    "feature_selection_df = pd.DataFrame({'Feature':feature_name, 'Pearson':cor_support, 'Chi-2':chi_support, 'RFE':rfe_support, 'Logistics':embeded_lr_support,\n",
    "                                    'Random Forest':embeded_rf_support})\n",
    "# count the selected times for each feature\n",
    "feature_selection_df['Total'] = np.sum(feature_selection_df, axis=1)\n",
    "# display the top 100\n",
    "feature_selection_df = feature_selection_df.sort_values(['Total','Feature'] , ascending=False)\n",
    "feature_selection_df.index = range(1, len(feature_selection_df)+1)\n",
    "feature_selection_df.head(num_feats)"
   ]
  },
  {
   "cell_type": "code",
   "execution_count": 165,
   "metadata": {},
   "outputs": [],
   "source": [
    "# looks like there are 9 features that influential to our prediction/relationship with our covid variable, let's include some demographic variables here as well \n",
    "features9 = data_clean[['whitejob', 'taxecon', 'talk2', 'immpres7', 'fundmt1', 'experts', 'econnow', 'conf_covid2',\n",
    "                        'abort1','age', 'sex', 'educ', 'inc_anes', 'race7', 'pid7', 'lcself', 'covid_mis_score']]\n",
    "    \n",
    "    \n",
    "    "
   ]
  },
  {
   "cell_type": "code",
   "execution_count": 166,
   "metadata": {},
   "outputs": [
    {
     "data": {
      "text/html": [
       "<div>\n",
       "<style scoped>\n",
       "    .dataframe tbody tr th:only-of-type {\n",
       "        vertical-align: middle;\n",
       "    }\n",
       "\n",
       "    .dataframe tbody tr th {\n",
       "        vertical-align: top;\n",
       "    }\n",
       "\n",
       "    .dataframe thead th {\n",
       "        text-align: right;\n",
       "    }\n",
       "</style>\n",
       "<table border=\"1\" class=\"dataframe\">\n",
       "  <thead>\n",
       "    <tr style=\"text-align: right;\">\n",
       "      <th></th>\n",
       "      <th>whitejob</th>\n",
       "      <th>taxecon</th>\n",
       "      <th>talk2</th>\n",
       "      <th>immpres7</th>\n",
       "      <th>fundmt1</th>\n",
       "      <th>experts</th>\n",
       "      <th>econnow</th>\n",
       "      <th>conf_covid2</th>\n",
       "      <th>abort1</th>\n",
       "      <th>age</th>\n",
       "      <th>sex</th>\n",
       "      <th>educ</th>\n",
       "      <th>inc_anes</th>\n",
       "      <th>race7</th>\n",
       "      <th>pid7</th>\n",
       "      <th>lcself</th>\n",
       "      <th>covid_mis_score</th>\n",
       "    </tr>\n",
       "  </thead>\n",
       "  <tbody>\n",
       "    <tr>\n",
       "      <th>0</th>\n",
       "      <td>3.000000</td>\n",
       "      <td>4.0</td>\n",
       "      <td>3.0</td>\n",
       "      <td>5.0</td>\n",
       "      <td>2.000000</td>\n",
       "      <td>3.0</td>\n",
       "      <td>2.0</td>\n",
       "      <td>5.0</td>\n",
       "      <td>4.0</td>\n",
       "      <td>27.0</td>\n",
       "      <td>2.0</td>\n",
       "      <td>4.0</td>\n",
       "      <td>12.440263</td>\n",
       "      <td>1.0</td>\n",
       "      <td>2.0</td>\n",
       "      <td>4.0</td>\n",
       "      <td>0.0</td>\n",
       "    </tr>\n",
       "    <tr>\n",
       "      <th>1</th>\n",
       "      <td>3.000000</td>\n",
       "      <td>2.0</td>\n",
       "      <td>5.0</td>\n",
       "      <td>1.0</td>\n",
       "      <td>1.000000</td>\n",
       "      <td>4.0</td>\n",
       "      <td>2.0</td>\n",
       "      <td>4.0</td>\n",
       "      <td>4.0</td>\n",
       "      <td>60.0</td>\n",
       "      <td>2.0</td>\n",
       "      <td>4.0</td>\n",
       "      <td>7.000000</td>\n",
       "      <td>1.0</td>\n",
       "      <td>1.0</td>\n",
       "      <td>6.0</td>\n",
       "      <td>0.0</td>\n",
       "    </tr>\n",
       "    <tr>\n",
       "      <th>2</th>\n",
       "      <td>2.000000</td>\n",
       "      <td>3.0</td>\n",
       "      <td>4.0</td>\n",
       "      <td>7.0</td>\n",
       "      <td>1.663576</td>\n",
       "      <td>4.0</td>\n",
       "      <td>5.0</td>\n",
       "      <td>4.0</td>\n",
       "      <td>2.0</td>\n",
       "      <td>45.0</td>\n",
       "      <td>1.0</td>\n",
       "      <td>5.0</td>\n",
       "      <td>10.000000</td>\n",
       "      <td>5.0</td>\n",
       "      <td>4.0</td>\n",
       "      <td>4.0</td>\n",
       "      <td>0.0</td>\n",
       "    </tr>\n",
       "    <tr>\n",
       "      <th>3</th>\n",
       "      <td>4.000000</td>\n",
       "      <td>3.0</td>\n",
       "      <td>4.0</td>\n",
       "      <td>1.0</td>\n",
       "      <td>2.000000</td>\n",
       "      <td>4.0</td>\n",
       "      <td>5.0</td>\n",
       "      <td>2.0</td>\n",
       "      <td>4.0</td>\n",
       "      <td>65.0</td>\n",
       "      <td>2.0</td>\n",
       "      <td>2.0</td>\n",
       "      <td>1.000000</td>\n",
       "      <td>1.0</td>\n",
       "      <td>1.0</td>\n",
       "      <td>4.0</td>\n",
       "      <td>0.0</td>\n",
       "    </tr>\n",
       "    <tr>\n",
       "      <th>4</th>\n",
       "      <td>2.386545</td>\n",
       "      <td>5.0</td>\n",
       "      <td>2.0</td>\n",
       "      <td>7.0</td>\n",
       "      <td>2.000000</td>\n",
       "      <td>4.0</td>\n",
       "      <td>5.0</td>\n",
       "      <td>4.0</td>\n",
       "      <td>4.0</td>\n",
       "      <td>53.0</td>\n",
       "      <td>1.0</td>\n",
       "      <td>3.0</td>\n",
       "      <td>11.000000</td>\n",
       "      <td>2.0</td>\n",
       "      <td>7.0</td>\n",
       "      <td>4.0</td>\n",
       "      <td>0.0</td>\n",
       "    </tr>\n",
       "  </tbody>\n",
       "</table>\n",
       "</div>"
      ],
      "text/plain": [
       "   whitejob  taxecon  talk2  immpres7   fundmt1  experts  econnow  \\\n",
       "0  3.000000      4.0    3.0       5.0  2.000000      3.0      2.0   \n",
       "1  3.000000      2.0    5.0       1.0  1.000000      4.0      2.0   \n",
       "2  2.000000      3.0    4.0       7.0  1.663576      4.0      5.0   \n",
       "3  4.000000      3.0    4.0       1.0  2.000000      4.0      5.0   \n",
       "4  2.386545      5.0    2.0       7.0  2.000000      4.0      5.0   \n",
       "\n",
       "   conf_covid2  abort1   age  sex  educ   inc_anes  race7  pid7  lcself  \\\n",
       "0          5.0     4.0  27.0  2.0   4.0  12.440263    1.0   2.0     4.0   \n",
       "1          4.0     4.0  60.0  2.0   4.0   7.000000    1.0   1.0     6.0   \n",
       "2          4.0     2.0  45.0  1.0   5.0  10.000000    5.0   4.0     4.0   \n",
       "3          2.0     4.0  65.0  2.0   2.0   1.000000    1.0   1.0     4.0   \n",
       "4          4.0     4.0  53.0  1.0   3.0  11.000000    2.0   7.0     4.0   \n",
       "\n",
       "   covid_mis_score  \n",
       "0              0.0  \n",
       "1              0.0  \n",
       "2              0.0  \n",
       "3              0.0  \n",
       "4              0.0  "
      ]
     },
     "execution_count": 166,
     "metadata": {},
     "output_type": "execute_result"
    }
   ],
   "source": [
    "features9.head()"
   ]
  },
  {
   "cell_type": "markdown",
   "metadata": {},
   "source": [
    "# logistic with best features "
   ]
  },
  {
   "cell_type": "code",
   "execution_count": 167,
   "metadata": {},
   "outputs": [
    {
     "data": {
      "text/plain": [
       "LogisticRegression(random_state=42)"
      ]
     },
     "execution_count": 167,
     "metadata": {},
     "output_type": "execute_result"
    }
   ],
   "source": [
    "#now let's try a logistic regression with these features \n",
    "\n",
    "X = features9.drop(['covid_mis_score'], axis=1)\n",
    "y = features9['covid_mis_score']\n",
    "\n",
    "X_train, X_test, y_train, y_test = train_test_split(X, y, test_size = 0.20, random_state = 42)\n",
    "\n",
    "\n",
    "scale = StandardScaler()\n",
    "X_train_scaled = scale.fit_transform(X_train)\n",
    "X_test_scaled = scale.transform(X_test)\n",
    "\n",
    "\n",
    "\n",
    "features_log = LogisticRegression(random_state=42)\n",
    "features_log.fit(X_train_scaled, y_train )\n",
    "\n",
    "\n"
   ]
  },
  {
   "cell_type": "code",
   "execution_count": 168,
   "metadata": {},
   "outputs": [
    {
     "name": "stdout",
     "output_type": "stream",
     "text": [
      "Train Recall Score: 0.6121286121286121\n",
      "Test Recall Score: 0.583739837398374\n"
     ]
    }
   ],
   "source": [
    "y_pred_train = features_log.predict(X_train_scaled)\n",
    "y_pred_test = features_log.predict(X_test_scaled)\n",
    "\n",
    "print(f\"Train Recall Score: {recall_score(y_train, y_pred_train, average='weighted')}\")\n",
    "print(f\"Test Recall Score: {recall_score(y_test, y_pred_test, average='weighted')}\")"
   ]
  },
  {
   "cell_type": "code",
   "execution_count": 169,
   "metadata": {},
   "outputs": [
    {
     "data": {
      "image/png": "[encoded data removed]",
      "text/plain": [
       "<Figure size 432x288 with 2 Axes>"
      ]
     },
     "metadata": {
      "needs_background": "light"
     },
     "output_type": "display_data"
    }
   ],
   "source": [
    "#confusionn matrix for model from above \n",
    "plot_confusion_matrix(features_log, X_test_scaled, y_test);"
   ]
  },
  {
   "cell_type": "markdown",
   "metadata": {},
   "source": [
    "# logistic with only best featuress, no demographic variables "
   ]
  },
  {
   "cell_type": "code",
   "execution_count": 170,
   "metadata": {},
   "outputs": [],
   "source": [
    "features_only = data_clean[['whitejob', 'taxecon', 'talk2', 'immpres7', 'fundmt1', 'experts', 'econnow', 'conf_covid2',\n",
    "                        'abort1', 'covid_mis_score']]"
   ]
  },
  {
   "cell_type": "code",
   "execution_count": 171,
   "metadata": {},
   "outputs": [
    {
     "data": {
      "text/plain": [
       "LogisticRegression(random_state=42)"
      ]
     },
     "execution_count": 171,
     "metadata": {},
     "output_type": "execute_result"
    }
   ],
   "source": [
    "\n",
    "X = features_only.drop(['covid_mis_score'], axis=1)\n",
    "y = features_only['covid_mis_score']\n",
    "\n",
    "X_train, X_test, y_train, y_test = train_test_split(X, y, test_size = 0.20, random_state = 42)\n",
    "\n",
    "\n",
    "scale = StandardScaler()\n",
    "X_train_scaled = scale.fit_transform(X_train)\n",
    "X_test_scaled = scale.transform(X_test)\n",
    "\n",
    "\n",
    "\n",
    "features_only_model = LogisticRegression(random_state=42)\n",
    "features_only_model.fit(X_train_scaled, y_train )"
   ]
  },
  {
   "cell_type": "code",
   "execution_count": 172,
   "metadata": {},
   "outputs": [
    {
     "name": "stdout",
     "output_type": "stream",
     "text": [
      "Train Recall Score: 0.5970695970695971\n",
      "Test Recall Score: 0.5772357723577236\n"
     ]
    }
   ],
   "source": [
    "y_pred_train = features_only_model.predict(X_train_scaled)\n",
    "y_pred_test = features_only_model.predict(X_test_scaled)\n",
    "\n",
    "print(f\"Train Recall Score: {recall_score(y_train, y_pred_train, average='weighted')}\")\n",
    "print(f\"Test Recall Score: {recall_score(y_test, y_pred_test, average='weighted')}\")\n",
    "\n",
    "#looks like keeping the demographic variables in does the model justice "
   ]
  },
  {
   "cell_type": "code",
   "execution_count": 173,
   "metadata": {},
   "outputs": [
    {
     "data": {
      "image/png": "[encoded data removed]",
      "text/plain": [
       "<Figure size 432x288 with 2 Axes>"
      ]
     },
     "metadata": {
      "needs_background": "light"
     },
     "output_type": "display_data"
    }
   ],
   "source": [
    "#confusionn matrix for model from above \n",
    "plot_confusion_matrix(features_only_model, X_test_scaled, y_test);"
   ]
  },
  {
   "cell_type": "markdown",
   "metadata": {},
   "source": [
    "# grid search for features log"
   ]
  },
  {
   "cell_type": "code",
   "execution_count": 174,
   "metadata": {},
   "outputs": [],
   "source": [
    "X = features9.drop(['covid_mis_score'], axis=1)\n",
    "y = features9['covid_mis_score']\n",
    "\n",
    "X_train, X_test, y_train, y_test = train_test_split(X, y, test_size = 0.20, random_state = 42)\n",
    "\n",
    "\n",
    "scale = StandardScaler()\n",
    "X_train_scaled = scale.fit_transform(X_train)\n",
    "X_test_scaled = scale.transform(X_test)\n"
   ]
  },
  {
   "cell_type": "code",
   "execution_count": 175,
   "metadata": {},
   "outputs": [],
   "source": [
    "log_grid = {\n",
    "    'penalty': ['l1', 'l2', 'elasticnet'],\n",
    "    'C': [1e-3, 1e-1, 1e2, 1e4, 1e6],\n",
    "    'solver': ['newton-cg', 'lbfgs', 'liblinear', 'sag', 'saga'],\n",
    "    'class_weight': ['balanced', None]\n",
    "}"
   ]
  },
  {
   "cell_type": "code",
   "execution_count": 176,
   "metadata": {},
   "outputs": [
    {
     "name": "stdout",
     "output_type": "stream",
     "text": [
      "The best parameter combinations for the features_log model that the GridSearch found are:\n"
     ]
    },
    {
     "data": {
      "text/plain": [
       "{'C': 0.1, 'class_weight': None, 'penalty': 'l2', 'solver': 'newton-cg'}"
      ]
     },
     "execution_count": 176,
     "metadata": {},
     "output_type": "execute_result"
    }
   ],
   "source": [
    "grid_search_log = GridSearchCV(features_log, log_grid, cv=3)\n",
    "grid_search_log.fit(X_train_scaled, y_train)\n",
    "\n",
    "print(\"The best parameter combinations for the features_log model that the GridSearch found are:\")\n",
    "      \n",
    "grid_search_log.best_params_"
   ]
  },
  {
   "cell_type": "code",
   "execution_count": 177,
   "metadata": {},
   "outputs": [],
   "source": [
    "\n",
    "#play around with logistic hyper parameters \n",
    "# maybe do a decision tree or random foreest\n",
    "# ic ould grid searcch thru different options for a random forest, with different number of max \n",
    "#XGBoost could help\n",
    "\n",
    "\n",
    "#print out a confusion matrix for the log , could show relationships between confusion"
   ]
  },
  {
   "cell_type": "code",
   "execution_count": 178,
   "metadata": {},
   "outputs": [
    {
     "data": {
      "text/plain": [
       "LogisticRegression(C=0.1, penalty='l1', random_state=42, solver='saga')"
      ]
     },
     "execution_count": 178,
     "metadata": {},
     "output_type": "execute_result"
    }
   ],
   "source": [
    "\n",
    "features_grid_model = LogisticRegression(random_state=42, C=0.100, class_weight= None, \n",
    "                                         penalty='l1', solver='saga')\n",
    "features_grid_model.fit(X_train_scaled, y_train )"
   ]
  },
  {
   "cell_type": "code",
   "execution_count": 179,
   "metadata": {},
   "outputs": [
    {
     "name": "stdout",
     "output_type": "stream",
     "text": [
      "Train Recall Score: 0.6109076109076109\n",
      "Test Recall Score: 0.5821138211382114\n"
     ]
    }
   ],
   "source": [
    "y_pred_train = features_grid_model.predict(X_train_scaled)\n",
    "y_pred_test = features_grid_model.predict(X_test_scaled)\n",
    "\n",
    "print(f\"Train Recall Score: {recall_score(y_train, y_pred_train, average='weighted')}\")\n",
    "print(f\"Test Recall Score: {recall_score(y_test, y_pred_test, average='weighted')}\")"
   ]
  },
  {
   "cell_type": "code",
   "execution_count": 180,
   "metadata": {},
   "outputs": [
    {
     "data": {
      "image/png": "[encoded data removed]",
      "text/plain": [
       "<Figure size 432x288 with 2 Axes>"
      ]
     },
     "metadata": {
      "needs_background": "light"
     },
     "output_type": "display_data"
    }
   ],
   "source": [
    "plot_confusion_matrix(features_grid_model, X_test_scaled, y_test);"
   ]
  },
  {
   "cell_type": "markdown",
   "metadata": {},
   "source": [
    "#  random forest "
   ]
  },
  {
   "cell_type": "code",
   "execution_count": 181,
   "metadata": {},
   "outputs": [],
   "source": [
    "# i'm going to try a random forest now!\n",
    "rfc = RandomForestClassifier(random_state=42)"
   ]
  },
  {
   "cell_type": "code",
   "execution_count": 182,
   "metadata": {},
   "outputs": [
    {
     "data": {
      "text/plain": [
       "RandomForestClassifier(random_state=42)"
      ]
     },
     "execution_count": 182,
     "metadata": {},
     "output_type": "execute_result"
    }
   ],
   "source": [
    "rfc.fit(X_train_scaled, y_train)"
   ]
  },
  {
   "cell_type": "code",
   "execution_count": 183,
   "metadata": {},
   "outputs": [
    {
     "name": "stdout",
     "output_type": "stream",
     "text": [
      "Recall score: 0.5642276422764227\n",
      "              precision    recall  f1-score   support\n",
      "\n",
      "         0.0       0.60      0.76      0.67       295\n",
      "         1.0       0.46      0.41      0.44       209\n",
      "         2.0       0.64      0.33      0.44       111\n",
      "\n",
      "    accuracy                           0.56       615\n",
      "   macro avg       0.57      0.50      0.52       615\n",
      "weighted avg       0.56      0.56      0.55       615\n",
      "\n",
      "<sklearn.metrics._plot.confusion_matrix.ConfusionMatrixDisplay object at 0x7fc1f3ed6070>\n"
     ]
    },
    {
     "data": {
      "image/png": "[encoded data removed]",
      "text/plain": [
       "<Figure size 432x288 with 2 Axes>"
      ]
     },
     "metadata": {
      "needs_background": "light"
     },
     "output_type": "display_data"
    }
   ],
   "source": [
    "y_pred_rfc = rfc.predict(X_test_scaled)\n",
    "\n",
    "recall_rfc = recall_score(y_test, y_pred_rfc, average='weighted')\n",
    "print(f\"Recall score: {recall_rfc}\")\n",
    "# Confusion matrix and classification report\n",
    "print(classification_report(y_test, y_pred_rfc));\n",
    "print(plot_confusion_matrix(rfc, X_test_scaled, y_test));"
   ]
  },
  {
   "cell_type": "markdown",
   "metadata": {},
   "source": [
    "# random forest with grid search\n",
    "\n"
   ]
  },
  {
   "cell_type": "code",
   "execution_count": 184,
   "metadata": {},
   "outputs": [],
   "source": [
    "rfc_grid = { \n",
    "    'n_estimators': [200, 500],\n",
    "    'max_features': ['auto', 'sqrt', 'log2'],\n",
    "    'max_depth' : [4,5,6,7,8,10],\n",
    "    'criterion' :['gini', 'entropy']\n",
    "}"
   ]
  },
  {
   "cell_type": "code",
   "execution_count": 185,
   "metadata": {},
   "outputs": [
    {
     "name": "stdout",
     "output_type": "stream",
     "text": [
      "Best Parameters for random forest:\n"
     ]
    },
    {
     "data": {
      "text/plain": [
       "{'criterion': 'entropy',\n",
       " 'max_depth': 7,\n",
       " 'max_features': 'auto',\n",
       " 'n_estimators': 500}"
      ]
     },
     "execution_count": 185,
     "metadata": {},
     "output_type": "execute_result"
    }
   ],
   "source": [
    "grid_rfc = GridSearchCV(rfc, rfc_grid, cv=3)\n",
    "grid_rfc.fit(X_train_scaled, y_train)\n",
    "print(\"Best Parameters for random forest:\")\n",
    "grid_rfc.best_params_"
   ]
  },
  {
   "cell_type": "code",
   "execution_count": 186,
   "metadata": {},
   "outputs": [
    {
     "data": {
      "text/plain": [
       "RandomForestClassifier(criterion='entropy', max_depth=7, n_estimators=500,\n",
       "                       random_state=42)"
      ]
     },
     "execution_count": 186,
     "metadata": {},
     "output_type": "execute_result"
    }
   ],
   "source": [
    "best_rfc = RandomForestClassifier(random_state=42, criterion = 'entropy', max_depth=7,\n",
    "                                  max_features='auto', n_estimators = 500)\n",
    "\n",
    "best_rfc.fit(X_train_scaled, y_train)\n"
   ]
  },
  {
   "cell_type": "code",
   "execution_count": 187,
   "metadata": {},
   "outputs": [
    {
     "name": "stdout",
     "output_type": "stream",
     "text": [
      "Recall score: 0.591869918699187\n"
     ]
    }
   ],
   "source": [
    "# Predictions on test\n",
    "y_pred_rfc_grid = best_rfc.predict(X_test_scaled)\n",
    "\n",
    "# Recall Score\n",
    "recall_rfc_grid = recall_score(y_test, y_pred_rfc_grid, average='weighted')\n",
    "print(f\"Recall score: {recall_rfc_grid}\")\n",
    "\n",
    "#best model so far"
   ]
  },
  {
   "cell_type": "code",
   "execution_count": 188,
   "metadata": {},
   "outputs": [
    {
     "name": "stdout",
     "output_type": "stream",
     "text": [
      "<sklearn.metrics._plot.confusion_matrix.ConfusionMatrixDisplay object at 0x7fc1fa2c8160>\n"
     ]
    },
    {
     "data": {
      "image/png": "[encoded data removed]",
      "text/plain": [
       "<Figure size 432x288 with 2 Axes>"
      ]
     },
     "metadata": {
      "needs_background": "light"
     },
     "output_type": "display_data"
    }
   ],
   "source": [
    "print(plot_confusion_matrix(best_rfc, X_test_scaled, y_test));"
   ]
  },
  {
   "cell_type": "markdown",
   "metadata": {},
   "source": [
    "# xgboost\n",
    "# way over fit "
   ]
  },
  {
   "cell_type": "code",
   "execution_count": 189,
   "metadata": {},
   "outputs": [],
   "source": [
    "boost_clf = XGBClassifier(random_state=42)\n",
    "boost_clf.fit(X_train_scaled, y_train)\n",
    "training_preds = boost_clf.predict(X_train_scaled)\n",
    "test_preds = boost_clf.predict(X_test_scaled)\n"
   ]
  },
  {
   "cell_type": "code",
   "execution_count": 190,
   "metadata": {},
   "outputs": [
    {
     "name": "stdout",
     "output_type": "stream",
     "text": [
      "Training Recall: 99.67%\n",
      "Validation Recall: 54.96%\n"
     ]
    }
   ],
   "source": [
    "training_recall = recall_score(y_train, training_preds, average='weighted')\n",
    "test_recall = recall_score(y_test, test_preds, average='weighted')\n",
    "\n",
    "print('Training Recall: {:.4}%'.format(training_recall * 100))\n",
    "print('Validation Recall: {:.4}%'.format(test_recall * 100))\n",
    "\n",
    "#looks like the rfc grid is the best model so far"
   ]
  },
  {
   "cell_type": "markdown",
   "metadata": {},
   "source": [
    "# xgboost with grid search "
   ]
  },
  {
   "cell_type": "code",
   "execution_count": 191,
   "metadata": {},
   "outputs": [],
   "source": [
    "param_grid = {\n",
    "    'learning_rate': [0.1, 0.2],\n",
    "    'max_depth': [6, 10],\n",
    "    'min_child_weight': [1, 2],\n",
    "    'subsample': [0.5, 0.7],\n",
    "    'n_estimators': [100],\n",
    "}"
   ]
  },
  {
   "cell_type": "code",
   "execution_count": 192,
   "metadata": {},
   "outputs": [
    {
     "name": "stdout",
     "output_type": "stream",
     "text": [
      "{'learning_rate': 0.1, 'max_depth': 6, 'min_child_weight': 2, 'n_estimators': 100, 'subsample': 0.7}\n"
     ]
    }
   ],
   "source": [
    "grid_clf_boost = GridSearchCV(boost_clf, param_grid, scoring='recall_weighted', cv=None, n_jobs=1) \n",
    "grid_clf_boost.fit(X_train, y_train)\n",
    "\n",
    "best_parameters = grid_clf_boost.best_params_\n",
    "print(best_parameters)\n"
   ]
  },
  {
   "cell_type": "code",
   "execution_count": 193,
   "metadata": {},
   "outputs": [],
   "source": [
    "boost_grid = {\n",
    "    'learning_rate': [0.1],\n",
    "    'max_depth': [10],\n",
    "    'min_child_weight': [2],\n",
    "    'subsample': [0.5],\n",
    "    'n_estimators': [100],\n",
    "}"
   ]
  },
  {
   "cell_type": "code",
   "execution_count": 194,
   "metadata": {},
   "outputs": [
    {
     "name": "stdout",
     "output_type": "stream",
     "text": [
      "Training Recall: 99.67%\n",
      "Validation Recall: 54.96%\n"
     ]
    }
   ],
   "source": [
    "boosted_grid = XGBClassifier(boost_grid, random_state=42)\n",
    "boosted_grid.fit(X_train_scaled, y_train)\n",
    "training_preds = boosted_grid.predict(X_train_scaled)\n",
    "test_preds = boosted_grid.predict(X_test_scaled)\n",
    "\n",
    "training_recall_boosted = recall_score(y_train, training_preds, average='weighted')\n",
    "test_recall_boosted = recall_score(y_test, test_preds, average='weighted')\n",
    "\n",
    "print('Training Recall: {:.4}%'.format(training_recall_boosted * 100))\n",
    "print('Validation Recall: {:.4}%'.format(test_recall_boosted * 100))\n",
    "\n",
    "#bad model --> data leakage?"
   ]
  },
  {
   "cell_type": "markdown",
   "metadata": {},
   "source": [
    "# repeat modeling process with more features! \n",
    "looks like we're not getting anywhere, so i'll add in the features that show up 4x and 5x"
   ]
  },
  {
   "cell_type": "code",
   "execution_count": 195,
   "metadata": {},
   "outputs": [],
   "source": [
    "more_features = data_clean[['whitejob', 'taxecon', 'talk2', 'immpres7', 'fundmt1', 'experts', 'econnow', 'conf_covid2',\n",
    "                        'abort1', 'votemail2', 'strpres1b', 'pidstr3', 'pidstr1', 'lcd', 'knowtran2_1', 'jbhonest', \n",
    "                            'impact9', 'immignum', 'hopeful', 'hlthcare1', 'excessive', 'econpres7', 'dtleader2',\n",
    "                            'covid_elect', 'birthyr', 'covid_mis_score']]"
   ]
  },
  {
   "cell_type": "code",
   "execution_count": 196,
   "metadata": {},
   "outputs": [],
   "source": [
    "X = more_features.drop(['covid_mis_score'], axis=1)\n",
    "y = more_features['covid_mis_score']\n",
    "\n",
    "X_train, X_test, y_train, y_test = train_test_split(X, y, test_size = 0.20, random_state = 42)\n",
    "\n",
    "\n",
    "scale = StandardScaler()\n",
    "X_train_scaled = scale.fit_transform(X_train)\n",
    "X_test_scaled = scale.transform(X_test)"
   ]
  },
  {
   "cell_type": "markdown",
   "metadata": {},
   "source": [
    "# random forest with more features bc that seemed to be the best"
   ]
  },
  {
   "cell_type": "code",
   "execution_count": 197,
   "metadata": {},
   "outputs": [
    {
     "data": {
      "text/plain": [
       "RandomForestClassifier(random_state=42)"
      ]
     },
     "execution_count": 197,
     "metadata": {},
     "output_type": "execute_result"
    }
   ],
   "source": [
    "rfc_more = RandomForestClassifier(random_state=42)\n",
    "rfc_more.fit(X_train_scaled, y_train)"
   ]
  },
  {
   "cell_type": "code",
   "execution_count": 198,
   "metadata": {},
   "outputs": [
    {
     "name": "stdout",
     "output_type": "stream",
     "text": [
      "Recall score: 0.5886178861788618\n",
      "              precision    recall  f1-score   support\n",
      "\n",
      "         0.0       0.64      0.82      0.72       295\n",
      "         1.0       0.49      0.41      0.44       209\n",
      "         2.0       0.58      0.32      0.41       111\n",
      "\n",
      "    accuracy                           0.59       615\n",
      "   macro avg       0.57      0.51      0.52       615\n",
      "weighted avg       0.58      0.59      0.57       615\n",
      "\n",
      "<sklearn.metrics._plot.confusion_matrix.ConfusionMatrixDisplay object at 0x7fc1f8c6b280>\n"
     ]
    },
    {
     "data": {
      "image/png": "[encoded data removed]",
      "text/plain": [
       "<Figure size 432x288 with 2 Axes>"
      ]
     },
     "metadata": {
      "needs_background": "light"
     },
     "output_type": "display_data"
    }
   ],
   "source": [
    "y_pred_rfc = rfc_more.predict(X_test_scaled)\n",
    "\n",
    "recall_rfc = recall_score(y_test, y_pred_rfc, average='weighted')\n",
    "print(f\"Recall score: {recall_rfc}\")\n",
    "# Confusion matrix and classification report\n",
    "print(classification_report(y_test, y_pred_rfc));\n",
    "print(plot_confusion_matrix(rfc_more, X_test_scaled, y_test));"
   ]
  },
  {
   "cell_type": "markdown",
   "metadata": {},
   "source": [
    "# grid search random forest - best model so far"
   ]
  },
  {
   "cell_type": "code",
   "execution_count": 199,
   "metadata": {},
   "outputs": [],
   "source": [
    "rfc_grid_more = { \n",
    "    'n_estimators': [200, 500],\n",
    "    'max_features': ['auto', 'sqrt', 'log2'],\n",
    "    'max_depth' : [4,5,6,7,8,10],\n",
    "    'criterion' :['gini', 'entropy']\n",
    "}"
   ]
  },
  {
   "cell_type": "code",
   "execution_count": 200,
   "metadata": {},
   "outputs": [
    {
     "name": "stdout",
     "output_type": "stream",
     "text": [
      "Best Parameters for random forest:\n"
     ]
    },
    {
     "data": {
      "text/plain": [
       "{'criterion': 'gini',\n",
       " 'max_depth': 8,\n",
       " 'max_features': 'log2',\n",
       " 'n_estimators': 500}"
      ]
     },
     "execution_count": 200,
     "metadata": {},
     "output_type": "execute_result"
    }
   ],
   "source": [
    "grid_rfc_more = GridSearchCV(rfc_more, rfc_grid_more, cv=3)\n",
    "grid_rfc_more.fit(X_train_scaled, y_train)\n",
    "print(\"Best Parameters for random forest:\")\n",
    "grid_rfc_more.best_params_"
   ]
  },
  {
   "cell_type": "code",
   "execution_count": 201,
   "metadata": {},
   "outputs": [
    {
     "data": {
      "text/plain": [
       "RandomForestClassifier(max_depth=8, max_features='log2', n_estimators=500,\n",
       "                       random_state=42)"
      ]
     },
     "execution_count": 201,
     "metadata": {},
     "output_type": "execute_result"
    }
   ],
   "source": [
    "best_rfc_more = RandomForestClassifier(random_state=42, criterion = 'gini', max_depth=8,\n",
    "                                  max_features='log2', n_estimators = 500)\n",
    "\n",
    "best_rfc_more.fit(X_train_scaled, y_train)"
   ]
  },
  {
   "cell_type": "code",
   "execution_count": 202,
   "metadata": {},
   "outputs": [
    {
     "name": "stdout",
     "output_type": "stream",
     "text": [
      "Recall score: 0.6097560975609756\n"
     ]
    }
   ],
   "source": [
    "# Predictions on test\n",
    "y_pred_rfc_grid_more = best_rfc_more.predict(X_test_scaled)\n",
    "\n",
    "# Recall Score\n",
    "recall_rfc_grid_more = recall_score(y_test, y_pred_rfc_grid_more, average='weighted')\n",
    "print(f\"Recall score: {recall_rfc_grid_more}\")\n",
    "\n",
    "#best model so far"
   ]
  },
  {
   "cell_type": "code",
   "execution_count": 203,
   "metadata": {},
   "outputs": [
    {
     "name": "stdout",
     "output_type": "stream",
     "text": [
      "<sklearn.metrics._plot.confusion_matrix.ConfusionMatrixDisplay object at 0x7fc1f3b59400>\n"
     ]
    },
    {
     "data": {
      "image/png": "[encoded data removed]",
      "text/plain": [
       "<Figure size 432x288 with 2 Axes>"
      ]
     },
     "metadata": {
      "needs_background": "light"
     },
     "output_type": "display_data"
    }
   ],
   "source": [
    "print(plot_confusion_matrix(best_rfc_more, X_test_scaled, y_test));"
   ]
  },
  {
   "cell_type": "markdown",
   "metadata": {},
   "source": [
    "# new idea \n",
    "- i will drop all the features that are not in my best 100 \n",
    "- do a decision tree on that \n",
    "- take the most important from thatt \n",
    "- then do a logistic grid search \n",
    "- then do a random forest grid search "
   ]
  },
  {
   "cell_type": "code",
   "execution_count": 204,
   "metadata": {},
   "outputs": [],
   "source": [
    "feature_df = feature_selection_df.head(num_feats)"
   ]
  },
  {
   "cell_type": "code",
   "execution_count": 205,
   "metadata": {},
   "outputs": [
    {
     "data": {
      "text/plain": [
       "['whitejob',\n",
       " 'taxecon',\n",
       " 'talk2',\n",
       " 'immpres7',\n",
       " 'fundmt1',\n",
       " 'experts',\n",
       " 'econpres7',\n",
       " 'econnow',\n",
       " 'conf_covid2',\n",
       " 'abort1',\n",
       " 'votemail2',\n",
       " 'viol2a',\n",
       " 'strpres1b',\n",
       " 'pidstr3',\n",
       " 'pidstr1',\n",
       " 'lcd',\n",
       " 'knowtran2_1',\n",
       " 'jbhonest',\n",
       " 'impact9',\n",
       " 'immignum',\n",
       " 'hopeful',\n",
       " 'hlthcare1',\n",
       " 'excessive',\n",
       " 'dtleader2',\n",
       " 'covid_elect',\n",
       " 'birthyr',\n",
       " 'wall7',\n",
       " 'votecount',\n",
       " 'viol2b',\n",
       " 'viol1',\n",
       " 'talk3',\n",
       " 'stress4',\n",
       " 'speech1',\n",
       " 'selfmon4',\n",
       " 'science',\n",
       " 'rural4',\n",
       " 'rural2',\n",
       " 'rr4',\n",
       " 'rr1',\n",
       " 'return',\n",
       " 'protest',\n",
       " 'moralcert6',\n",
       " 'lcself',\n",
       " 'lcr',\n",
       " 'knowtran2_2',\n",
       " 'intelsup1',\n",
       " 'inc_anes',\n",
       " 'impeach2',\n",
       " 'impeach1',\n",
       " 'impact8',\n",
       " 'impact6',\n",
       " 'impact5',\n",
       " 'impact4',\n",
       " 'impact1',\n",
       " 'fundmt2',\n",
       " 'ftwarren1',\n",
       " 'fttransppl',\n",
       " 'ftrubio1',\n",
       " 'ftpence1',\n",
       " 'ftharris1',\n",
       " 'ftdemocraticparty',\n",
       " 'ftcapitalists',\n",
       " 'ftbuttigieg1',\n",
       " 'ftblack',\n",
       " 'frnpres7',\n",
       " 'finworry',\n",
       " 'femid2_fem',\n",
       " 'exphelp',\n",
       " 'dtknow',\n",
       " 'dthonest',\n",
       " 'dtdignif',\n",
       " 'dtcares',\n",
       " 'dtauth',\n",
       " 'depress4',\n",
       " 'depress1',\n",
       " 'conf_covid1',\n",
       " 'callout_social',\n",
       " 'att1',\n",
       " 'apppres7',\n",
       " 'age',\n",
       " 'affact',\n",
       " 'abort2',\n",
       " 'worried',\n",
       " 'voterid2',\n",
       " 'voterid1',\n",
       " 'viol3_both',\n",
       " 'socmed_9',\n",
       " 'socmed_7',\n",
       " 'socmed_6',\n",
       " 'socmed_3',\n",
       " 'selfmon6',\n",
       " 'selfmon2',\n",
       " 'rural3',\n",
       " 'rr_scale',\n",
       " 'richpoor2',\n",
       " 'relig2a',\n",
       " 'race7',\n",
       " 'proud',\n",
       " 'pid7',\n",
       " 'outraged']"
      ]
     },
     "execution_count": 205,
     "metadata": {},
     "output_type": "execute_result"
    }
   ],
   "source": [
    "list(feature_df['Feature'])"
   ]
  },
  {
   "cell_type": "code",
   "execution_count": 206,
   "metadata": {},
   "outputs": [],
   "source": [
    "model_df = data_clean[['covid_mis_score','whitejob',\n",
    " 'taxecon',\n",
    " 'talk2',\n",
    " 'immpres7',\n",
    " 'fundmt1',\n",
    " 'experts',\n",
    " 'econnow',\n",
    " 'conf_covid2',\n",
    " 'abort1',\n",
    " 'votemail2',\n",
    " 'viol2a',\n",
    " 'strpres1b',\n",
    " 'pidstr3',\n",
    " 'pidstr1',\n",
    " 'lcd',\n",
    " 'knowtran2_1',\n",
    " 'jbhonest',\n",
    " 'impact9',\n",
    " 'immignum',\n",
    " 'hopeful',\n",
    " 'hlthcare1',\n",
    " 'excessive',\n",
    " 'econpres7',\n",
    " 'dtleader2',\n",
    " 'covid_elect',\n",
    " 'birthyr',\n",
    " 'wall7',\n",
    " 'votecount',\n",
    " 'viol2b',\n",
    " 'viol1',\n",
    " 'talk3',\n",
    " 'stress4',\n",
    " 'speech1',\n",
    " 'selfmon4',\n",
    " 'science',\n",
    " 'rural4',\n",
    " 'rural2',\n",
    " 'rr4',\n",
    " 'rr1',\n",
    " 'return',\n",
    " 'protest',\n",
    " 'moralcert6',\n",
    " 'lcself',\n",
    " 'lcr',\n",
    " 'knowtran2_2',\n",
    " 'intelsup1',\n",
    " 'inc_anes',\n",
    " 'impeach2',\n",
    " 'impeach1',\n",
    " 'impact8',\n",
    " 'impact6',\n",
    " 'impact5',\n",
    " 'impact4',\n",
    " 'impact1',\n",
    " 'fundmt2',\n",
    " 'ftwarren1',\n",
    " 'fttransppl',\n",
    " 'ftrubio1',\n",
    " 'ftpence1',\n",
    " 'ftharris1',\n",
    " 'ftdemocraticparty',\n",
    " 'ftcapitalists',\n",
    " 'ftbuttigieg1',\n",
    " 'ftblack',\n",
    " 'frnpres7',\n",
    " 'finworry',\n",
    " 'femid2_fem',\n",
    " 'exphelp',\n",
    " 'dtknow',\n",
    " 'dthonest',\n",
    " 'dtdignif',\n",
    " 'dtcares',\n",
    " 'dtauth',\n",
    " 'depress4',\n",
    " 'depress1',\n",
    " 'conf_covid1',\n",
    " 'callout_social',\n",
    " 'att1',\n",
    " 'apppres7',\n",
    " 'age',\n",
    " 'affact',\n",
    " 'abort2',\n",
    " 'worried',\n",
    " 'voterid2',\n",
    " 'voterid1',\n",
    " 'viol3_both',\n",
    " 'socmed_9',\n",
    " 'socmed_7',\n",
    " 'socmed_6',\n",
    " 'socmed_3',\n",
    " 'selfmon6',\n",
    " 'selfmon3',\n",
    " 'selfmon2',\n",
    " 'selfcensor',\n",
    " 'rural3',\n",
    " 'rr_scale',\n",
    " 'richpoor2',\n",
    " 'relig2a',\n",
    " 'regulate2',\n",
    " 'race7']]\n",
    " \n"
   ]
  },
  {
   "cell_type": "code",
   "execution_count": 207,
   "metadata": {},
   "outputs": [
    {
     "data": {
      "text/html": [
       "<div>\n",
       "<style scoped>\n",
       "    .dataframe tbody tr th:only-of-type {\n",
       "        vertical-align: middle;\n",
       "    }\n",
       "\n",
       "    .dataframe tbody tr th {\n",
       "        vertical-align: top;\n",
       "    }\n",
       "\n",
       "    .dataframe thead th {\n",
       "        text-align: right;\n",
       "    }\n",
       "</style>\n",
       "<table border=\"1\" class=\"dataframe\">\n",
       "  <thead>\n",
       "    <tr style=\"text-align: right;\">\n",
       "      <th></th>\n",
       "      <th>covid_mis_score</th>\n",
       "      <th>whitejob</th>\n",
       "      <th>taxecon</th>\n",
       "      <th>talk2</th>\n",
       "      <th>immpres7</th>\n",
       "      <th>fundmt1</th>\n",
       "      <th>experts</th>\n",
       "      <th>econnow</th>\n",
       "      <th>conf_covid2</th>\n",
       "      <th>abort1</th>\n",
       "      <th>...</th>\n",
       "      <th>selfmon6</th>\n",
       "      <th>selfmon3</th>\n",
       "      <th>selfmon2</th>\n",
       "      <th>selfcensor</th>\n",
       "      <th>rural3</th>\n",
       "      <th>rr_scale</th>\n",
       "      <th>richpoor2</th>\n",
       "      <th>relig2a</th>\n",
       "      <th>regulate2</th>\n",
       "      <th>race7</th>\n",
       "    </tr>\n",
       "  </thead>\n",
       "  <tbody>\n",
       "    <tr>\n",
       "      <th>0</th>\n",
       "      <td>0.0</td>\n",
       "      <td>3.000000</td>\n",
       "      <td>4.0</td>\n",
       "      <td>3.0</td>\n",
       "      <td>5.0</td>\n",
       "      <td>2.000000</td>\n",
       "      <td>3.0</td>\n",
       "      <td>2.0</td>\n",
       "      <td>5.0</td>\n",
       "      <td>4.0</td>\n",
       "      <td>...</td>\n",
       "      <td>2.936548</td>\n",
       "      <td>3.658831</td>\n",
       "      <td>3.933968</td>\n",
       "      <td>3.0</td>\n",
       "      <td>4.0</td>\n",
       "      <td>9.0</td>\n",
       "      <td>2.0</td>\n",
       "      <td>2.891473</td>\n",
       "      <td>3.926984</td>\n",
       "      <td>1.0</td>\n",
       "    </tr>\n",
       "    <tr>\n",
       "      <th>1</th>\n",
       "      <td>0.0</td>\n",
       "      <td>3.000000</td>\n",
       "      <td>2.0</td>\n",
       "      <td>5.0</td>\n",
       "      <td>1.0</td>\n",
       "      <td>1.000000</td>\n",
       "      <td>4.0</td>\n",
       "      <td>2.0</td>\n",
       "      <td>4.0</td>\n",
       "      <td>4.0</td>\n",
       "      <td>...</td>\n",
       "      <td>2.936548</td>\n",
       "      <td>3.658831</td>\n",
       "      <td>3.933968</td>\n",
       "      <td>3.0</td>\n",
       "      <td>5.0</td>\n",
       "      <td>16.0</td>\n",
       "      <td>3.0</td>\n",
       "      <td>2.891473</td>\n",
       "      <td>3.926984</td>\n",
       "      <td>1.0</td>\n",
       "    </tr>\n",
       "    <tr>\n",
       "      <th>2</th>\n",
       "      <td>0.0</td>\n",
       "      <td>2.000000</td>\n",
       "      <td>3.0</td>\n",
       "      <td>4.0</td>\n",
       "      <td>7.0</td>\n",
       "      <td>1.663576</td>\n",
       "      <td>4.0</td>\n",
       "      <td>5.0</td>\n",
       "      <td>4.0</td>\n",
       "      <td>2.0</td>\n",
       "      <td>...</td>\n",
       "      <td>2.936548</td>\n",
       "      <td>3.658831</td>\n",
       "      <td>3.933968</td>\n",
       "      <td>3.0</td>\n",
       "      <td>2.0</td>\n",
       "      <td>6.0</td>\n",
       "      <td>2.0</td>\n",
       "      <td>3.000000</td>\n",
       "      <td>3.926984</td>\n",
       "      <td>5.0</td>\n",
       "    </tr>\n",
       "    <tr>\n",
       "      <th>3</th>\n",
       "      <td>0.0</td>\n",
       "      <td>4.000000</td>\n",
       "      <td>3.0</td>\n",
       "      <td>4.0</td>\n",
       "      <td>1.0</td>\n",
       "      <td>2.000000</td>\n",
       "      <td>4.0</td>\n",
       "      <td>5.0</td>\n",
       "      <td>2.0</td>\n",
       "      <td>4.0</td>\n",
       "      <td>...</td>\n",
       "      <td>2.936548</td>\n",
       "      <td>3.658831</td>\n",
       "      <td>3.933968</td>\n",
       "      <td>4.0</td>\n",
       "      <td>7.0</td>\n",
       "      <td>13.0</td>\n",
       "      <td>3.0</td>\n",
       "      <td>2.891473</td>\n",
       "      <td>3.926984</td>\n",
       "      <td>1.0</td>\n",
       "    </tr>\n",
       "    <tr>\n",
       "      <th>4</th>\n",
       "      <td>0.0</td>\n",
       "      <td>2.386545</td>\n",
       "      <td>5.0</td>\n",
       "      <td>2.0</td>\n",
       "      <td>7.0</td>\n",
       "      <td>2.000000</td>\n",
       "      <td>4.0</td>\n",
       "      <td>5.0</td>\n",
       "      <td>4.0</td>\n",
       "      <td>4.0</td>\n",
       "      <td>...</td>\n",
       "      <td>2.936548</td>\n",
       "      <td>3.658831</td>\n",
       "      <td>3.933968</td>\n",
       "      <td>3.0</td>\n",
       "      <td>4.0</td>\n",
       "      <td>4.0</td>\n",
       "      <td>2.0</td>\n",
       "      <td>2.891473</td>\n",
       "      <td>3.926984</td>\n",
       "      <td>2.0</td>\n",
       "    </tr>\n",
       "  </tbody>\n",
       "</table>\n",
       "<p>5 rows × 101 columns</p>\n",
       "</div>"
      ],
      "text/plain": [
       "   covid_mis_score  whitejob  taxecon  talk2  immpres7   fundmt1  experts  \\\n",
       "0              0.0  3.000000      4.0    3.0       5.0  2.000000      3.0   \n",
       "1              0.0  3.000000      2.0    5.0       1.0  1.000000      4.0   \n",
       "2              0.0  2.000000      3.0    4.0       7.0  1.663576      4.0   \n",
       "3              0.0  4.000000      3.0    4.0       1.0  2.000000      4.0   \n",
       "4              0.0  2.386545      5.0    2.0       7.0  2.000000      4.0   \n",
       "\n",
       "   econnow  conf_covid2  abort1  ...  selfmon6  selfmon3  selfmon2  \\\n",
       "0      2.0          5.0     4.0  ...  2.936548  3.658831  3.933968   \n",
       "1      2.0          4.0     4.0  ...  2.936548  3.658831  3.933968   \n",
       "2      5.0          4.0     2.0  ...  2.936548  3.658831  3.933968   \n",
       "3      5.0          2.0     4.0  ...  2.936548  3.658831  3.933968   \n",
       "4      5.0          4.0     4.0  ...  2.936548  3.658831  3.933968   \n",
       "\n",
       "   selfcensor  rural3  rr_scale  richpoor2   relig2a  regulate2  race7  \n",
       "0         3.0     4.0       9.0        2.0  2.891473   3.926984    1.0  \n",
       "1         3.0     5.0      16.0        3.0  2.891473   3.926984    1.0  \n",
       "2         3.0     2.0       6.0        2.0  3.000000   3.926984    5.0  \n",
       "3         4.0     7.0      13.0        3.0  2.891473   3.926984    1.0  \n",
       "4         3.0     4.0       4.0        2.0  2.891473   3.926984    2.0  \n",
       "\n",
       "[5 rows x 101 columns]"
      ]
     },
     "execution_count": 207,
     "metadata": {},
     "output_type": "execute_result"
    }
   ],
   "source": [
    "model_df.head()"
   ]
  },
  {
   "cell_type": "markdown",
   "metadata": {},
   "source": [
    "# decision tree with model_df"
   ]
  },
  {
   "cell_type": "code",
   "execution_count": 208,
   "metadata": {},
   "outputs": [],
   "source": [
    "X = model_df.drop(['covid_mis_score'], axis=1)\n",
    "y = model_df['covid_mis_score']\n",
    "\n",
    "X_train, X_test, y_train, y_test = train_test_split(X, y, test_size = 0.20, random_state = 42)\n",
    "\n",
    "\n",
    "scale = StandardScaler()\n",
    "X_train_scaled = scale.fit_transform(X_train)\n",
    "X_test_scaled = scale.transform(X_test)"
   ]
  },
  {
   "cell_type": "code",
   "execution_count": 209,
   "metadata": {},
   "outputs": [
    {
     "data": {
      "text/plain": [
       "DecisionTreeClassifier(max_depth=4, random_state=42)"
      ]
     },
     "execution_count": 209,
     "metadata": {},
     "output_type": "execute_result"
    }
   ],
   "source": [
    "tree_clf = DecisionTreeClassifier(max_depth = 4, random_state=42)\n",
    "tree_clf.fit(X_train_scaled, y_train)"
   ]
  },
  {
   "cell_type": "code",
   "execution_count": 210,
   "metadata": {},
   "outputs": [
    {
     "name": "stdout",
     "output_type": "stream",
     "text": [
      "Train Accuracy Score:0.6194546194546194\n",
      "Test Accuracy Score:0.5642276422764227\n"
     ]
    }
   ],
   "source": [
    "print(f'Train Accuracy Score:{tree_clf.score(X_train_scaled, y_train)}')\n",
    "print(f'Test Accuracy Score:{tree_clf.score(X_test_scaled, y_test)}')"
   ]
  },
  {
   "cell_type": "code",
   "execution_count": 211,
   "metadata": {},
   "outputs": [
    {
     "name": "stdout",
     "output_type": "stream",
     "text": [
      "Recall score: 0.5642276422764227\n"
     ]
    }
   ],
   "source": [
    "y_pred = tree_clf.predict(X_test_scaled)\n",
    "\n",
    "# Recall score\n",
    "recall = recall_score(y_test, y_pred, average='weighted')\n",
    "print(f\"Recall score: {recall}\")"
   ]
  },
  {
   "cell_type": "code",
   "execution_count": 212,
   "metadata": {},
   "outputs": [
    {
     "data": {
      "image/png": "[encoded data removed]",
      "text/plain": [
       "<Figure size 432x288 with 2 Axes>"
      ]
     },
     "metadata": {
      "needs_background": "light"
     },
     "output_type": "display_data"
    }
   ],
   "source": [
    "plot_confusion_matrix(tree_clf, X_test, y_test);"
   ]
  },
  {
   "cell_type": "markdown",
   "metadata": {},
   "source": [
    "# grid search decision tree model_df\n",
    "- didn't help at all"
   ]
  },
  {
   "cell_type": "code",
   "execution_count": 213,
   "metadata": {},
   "outputs": [],
   "source": [
    "tree_param = [{'criterion': ['entropy', 'gini'], \n",
    "               'max_depth':[4,5,6,7,8,9,10,11,12,15,20,30,40,50,70,90,120,150]}]\n"
   ]
  },
  {
   "cell_type": "code",
   "execution_count": 214,
   "metadata": {},
   "outputs": [
    {
     "name": "stdout",
     "output_type": "stream",
     "text": [
      "The best parameter combinations for the features_log model that the GridSearch found are:\n"
     ]
    },
    {
     "data": {
      "text/plain": [
       "{'criterion': 'entropy', 'max_depth': 4}"
      ]
     },
     "execution_count": 214,
     "metadata": {},
     "output_type": "execute_result"
    }
   ],
   "source": [
    "grid_search_tree = GridSearchCV(tree_clf, tree_param, cv=3)\n",
    "grid_search_tree.fit(X_train_scaled, y_train)\n",
    "\n",
    "print(\"The best parameter combinations for the features_log model that the GridSearch found are:\")\n",
    "      \n",
    "grid_search_tree.best_params_"
   ]
  },
  {
   "cell_type": "code",
   "execution_count": 215,
   "metadata": {},
   "outputs": [
    {
     "data": {
      "text/plain": [
       "DecisionTreeClassifier(criterion='entropy', max_depth=4, random_state=42)"
      ]
     },
     "execution_count": 215,
     "metadata": {},
     "output_type": "execute_result"
    }
   ],
   "source": [
    "tree_clf_grid = DecisionTreeClassifier(max_depth = 4, random_state=42, criterion='entropy')\n",
    "tree_clf_grid.fit(X_train_scaled, y_train)"
   ]
  },
  {
   "cell_type": "code",
   "execution_count": 216,
   "metadata": {},
   "outputs": [
    {
     "name": "stdout",
     "output_type": "stream",
     "text": [
      "Train Accuracy Score:0.606023606023606\n",
      "Test Accuracy Score:0.5300813008130081\n"
     ]
    }
   ],
   "source": [
    "print(f'Train Accuracy Score:{tree_clf_grid.score(X_train_scaled, y_train)}')\n",
    "print(f'Test Accuracy Score:{tree_clf_grid.score(X_test_scaled, y_test)}')"
   ]
  },
  {
   "cell_type": "code",
   "execution_count": 217,
   "metadata": {},
   "outputs": [
    {
     "name": "stdout",
     "output_type": "stream",
     "text": [
      "Recall score: 0.5300813008130081\n"
     ]
    }
   ],
   "source": [
    "y_pred = tree_clf_grid.predict(X_test_scaled)\n",
    "\n",
    "# Recall score\n",
    "recall = recall_score(y_test, y_pred, average='weighted')\n",
    "print(f\"Recall score: {recall}\")"
   ]
  },
  {
   "cell_type": "code",
   "execution_count": 218,
   "metadata": {},
   "outputs": [
    {
     "data": {
      "image/png": "[encoded data removed]",
      "text/plain": [
       "<Figure size 432x288 with 2 Axes>"
      ]
     },
     "metadata": {
      "needs_background": "light"
     },
     "output_type": "display_data"
    }
   ],
   "source": [
    "plot_confusion_matrix(tree_clf, X_test, y_test);"
   ]
  },
  {
   "cell_type": "markdown",
   "metadata": {},
   "source": [
    "# random forest with model_df"
   ]
  },
  {
   "cell_type": "code",
   "execution_count": 219,
   "metadata": {},
   "outputs": [
    {
     "data": {
      "text/plain": [
       "RandomForestClassifier(random_state=42)"
      ]
     },
     "execution_count": 219,
     "metadata": {},
     "output_type": "execute_result"
    }
   ],
   "source": [
    "rfc_model = RandomForestClassifier(random_state=42)\n",
    "rfc_model.fit(X_train_scaled, y_train)"
   ]
  },
  {
   "cell_type": "code",
   "execution_count": 220,
   "metadata": {},
   "outputs": [
    {
     "name": "stdout",
     "output_type": "stream",
     "text": [
      "Recall score: 0.5626016260162602\n",
      "              precision    recall  f1-score   support\n",
      "\n",
      "         0.0       0.60      0.80      0.69       295\n",
      "         1.0       0.46      0.37      0.41       209\n",
      "         2.0       0.61      0.31      0.41       111\n",
      "\n",
      "    accuracy                           0.56       615\n",
      "   macro avg       0.56      0.49      0.50       615\n",
      "weighted avg       0.55      0.56      0.54       615\n",
      "\n",
      "<sklearn.metrics._plot.confusion_matrix.ConfusionMatrixDisplay object at 0x7fc1fcefe5b0>\n"
     ]
    },
    {
     "data": {
      "image/png": "[encoded data removed]",
      "text/plain": [
       "<Figure size 432x288 with 2 Axes>"
      ]
     },
     "metadata": {
      "needs_background": "light"
     },
     "output_type": "display_data"
    }
   ],
   "source": [
    "y_pred_rfc_model = rfc_model.predict(X_test_scaled)\n",
    "\n",
    "recall_rfc_model = recall_score(y_test, y_pred_rfc_model, average='weighted')\n",
    "print(f\"Recall score: {recall_rfc_model}\")\n",
    "# Confusion matrix and classification report\n",
    "print(classification_report(y_test, y_pred_rfc_model));\n",
    "print(plot_confusion_matrix(rfc_model, X_test_scaled, y_test));"
   ]
  },
  {
   "cell_type": "code",
   "execution_count": 221,
   "metadata": {},
   "outputs": [],
   "source": [
    "rfc_grid_model = { \n",
    "    'n_estimators': [200, 500],\n",
    "    'max_features': ['auto', 'sqrt', 'log2'],\n",
    "    'max_depth' : [4,5,6,7,8,10],\n",
    "    'criterion' :['gini', 'entropy']\n",
    "}"
   ]
  },
  {
   "cell_type": "code",
   "execution_count": 222,
   "metadata": {},
   "outputs": [
    {
     "ename": "KeyboardInterrupt",
     "evalue": "",
     "output_type": "error",
     "traceback": [
      "\u001b[0;31m---------------------------------------------------------------------------\u001b[0m",
      "\u001b[0;31mKeyboardInterrupt\u001b[0m                         Traceback (most recent call last)",
      "\u001b[0;32m<ipython-input-222-1f1a0e215378>\u001b[0m in \u001b[0;36m<module>\u001b[0;34m\u001b[0m\n\u001b[1;32m      1\u001b[0m \u001b[0mgrid_rfc_model\u001b[0m \u001b[0;34m=\u001b[0m \u001b[0mGridSearchCV\u001b[0m\u001b[0;34m(\u001b[0m\u001b[0mrfc_model\u001b[0m\u001b[0;34m,\u001b[0m \u001b[0mrfc_grid_model\u001b[0m\u001b[0;34m,\u001b[0m \u001b[0mcv\u001b[0m\u001b[0;34m=\u001b[0m\u001b[0;36m3\u001b[0m\u001b[0;34m)\u001b[0m\u001b[0;34m\u001b[0m\u001b[0;34m\u001b[0m\u001b[0m\n\u001b[0;32m----> 2\u001b[0;31m \u001b[0mgrid_rfc_model\u001b[0m\u001b[0;34m.\u001b[0m\u001b[0mfit\u001b[0m\u001b[0;34m(\u001b[0m\u001b[0mX_train_scaled\u001b[0m\u001b[0;34m,\u001b[0m \u001b[0my_train\u001b[0m\u001b[0;34m)\u001b[0m\u001b[0;34m\u001b[0m\u001b[0;34m\u001b[0m\u001b[0m\n\u001b[0m\u001b[1;32m      3\u001b[0m \u001b[0mprint\u001b[0m\u001b[0;34m(\u001b[0m\u001b[0;34m\"Best Parameters for random forest:\"\u001b[0m\u001b[0;34m)\u001b[0m\u001b[0;34m\u001b[0m\u001b[0;34m\u001b[0m\u001b[0m\n\u001b[1;32m      4\u001b[0m \u001b[0mgrid_rfc_model\u001b[0m\u001b[0;34m.\u001b[0m\u001b[0mbest_params_\u001b[0m\u001b[0;34m\u001b[0m\u001b[0;34m\u001b[0m\u001b[0m\n",
      "\u001b[0;32m/opt/anaconda3/envs/learn-env/lib/python3.8/site-packages/sklearn/utils/validation.py\u001b[0m in \u001b[0;36minner_f\u001b[0;34m(*args, **kwargs)\u001b[0m\n\u001b[1;32m     70\u001b[0m                           FutureWarning)\n\u001b[1;32m     71\u001b[0m         \u001b[0mkwargs\u001b[0m\u001b[0;34m.\u001b[0m\u001b[0mupdate\u001b[0m\u001b[0;34m(\u001b[0m\u001b[0;34m{\u001b[0m\u001b[0mk\u001b[0m\u001b[0;34m:\u001b[0m \u001b[0marg\u001b[0m \u001b[0;32mfor\u001b[0m \u001b[0mk\u001b[0m\u001b[0;34m,\u001b[0m \u001b[0marg\u001b[0m \u001b[0;32min\u001b[0m \u001b[0mzip\u001b[0m\u001b[0;34m(\u001b[0m\u001b[0msig\u001b[0m\u001b[0;34m.\u001b[0m\u001b[0mparameters\u001b[0m\u001b[0;34m,\u001b[0m \u001b[0margs\u001b[0m\u001b[0;34m)\u001b[0m\u001b[0;34m}\u001b[0m\u001b[0;34m)\u001b[0m\u001b[0;34m\u001b[0m\u001b[0;34m\u001b[0m\u001b[0m\n\u001b[0;32m---> 72\u001b[0;31m         \u001b[0;32mreturn\u001b[0m \u001b[0mf\u001b[0m\u001b[0;34m(\u001b[0m\u001b[0;34m**\u001b[0m\u001b[0mkwargs\u001b[0m\u001b[0;34m)\u001b[0m\u001b[0;34m\u001b[0m\u001b[0;34m\u001b[0m\u001b[0m\n\u001b[0m\u001b[1;32m     73\u001b[0m     \u001b[0;32mreturn\u001b[0m \u001b[0minner_f\u001b[0m\u001b[0;34m\u001b[0m\u001b[0;34m\u001b[0m\u001b[0m\n\u001b[1;32m     74\u001b[0m \u001b[0;34m\u001b[0m\u001b[0m\n",
      "\u001b[0;32m/opt/anaconda3/envs/learn-env/lib/python3.8/site-packages/sklearn/model_selection/_search.py\u001b[0m in \u001b[0;36mfit\u001b[0;34m(self, X, y, groups, **fit_params)\u001b[0m\n\u001b[1;32m    734\u001b[0m                 \u001b[0;32mreturn\u001b[0m \u001b[0mresults\u001b[0m\u001b[0;34m\u001b[0m\u001b[0;34m\u001b[0m\u001b[0m\n\u001b[1;32m    735\u001b[0m \u001b[0;34m\u001b[0m\u001b[0m\n\u001b[0;32m--> 736\u001b[0;31m             \u001b[0mself\u001b[0m\u001b[0;34m.\u001b[0m\u001b[0m_run_search\u001b[0m\u001b[0;34m(\u001b[0m\u001b[0mevaluate_candidates\u001b[0m\u001b[0;34m)\u001b[0m\u001b[0;34m\u001b[0m\u001b[0;34m\u001b[0m\u001b[0m\n\u001b[0m\u001b[1;32m    737\u001b[0m \u001b[0;34m\u001b[0m\u001b[0m\n\u001b[1;32m    738\u001b[0m         \u001b[0;31m# For multi-metric evaluation, store the best_index_, best_params_ and\u001b[0m\u001b[0;34m\u001b[0m\u001b[0;34m\u001b[0m\u001b[0;34m\u001b[0m\u001b[0m\n",
      "\u001b[0;32m/opt/anaconda3/envs/learn-env/lib/python3.8/site-packages/sklearn/model_selection/_search.py\u001b[0m in \u001b[0;36m_run_search\u001b[0;34m(self, evaluate_candidates)\u001b[0m\n\u001b[1;32m   1186\u001b[0m     \u001b[0;32mdef\u001b[0m \u001b[0m_run_search\u001b[0m\u001b[0;34m(\u001b[0m\u001b[0mself\u001b[0m\u001b[0;34m,\u001b[0m \u001b[0mevaluate_candidates\u001b[0m\u001b[0;34m)\u001b[0m\u001b[0;34m:\u001b[0m\u001b[0;34m\u001b[0m\u001b[0;34m\u001b[0m\u001b[0m\n\u001b[1;32m   1187\u001b[0m         \u001b[0;34m\"\"\"Search all candidates in param_grid\"\"\"\u001b[0m\u001b[0;34m\u001b[0m\u001b[0;34m\u001b[0m\u001b[0m\n\u001b[0;32m-> 1188\u001b[0;31m         \u001b[0mevaluate_candidates\u001b[0m\u001b[0;34m(\u001b[0m\u001b[0mParameterGrid\u001b[0m\u001b[0;34m(\u001b[0m\u001b[0mself\u001b[0m\u001b[0;34m.\u001b[0m\u001b[0mparam_grid\u001b[0m\u001b[0;34m)\u001b[0m\u001b[0;34m)\u001b[0m\u001b[0;34m\u001b[0m\u001b[0;34m\u001b[0m\u001b[0m\n\u001b[0m\u001b[1;32m   1189\u001b[0m \u001b[0;34m\u001b[0m\u001b[0m\n\u001b[1;32m   1190\u001b[0m \u001b[0;34m\u001b[0m\u001b[0m\n",
      "\u001b[0;32m/opt/anaconda3/envs/learn-env/lib/python3.8/site-packages/sklearn/model_selection/_search.py\u001b[0m in \u001b[0;36mevaluate_candidates\u001b[0;34m(candidate_params)\u001b[0m\n\u001b[1;32m    706\u001b[0m                               n_splits, n_candidates, n_candidates * n_splits))\n\u001b[1;32m    707\u001b[0m \u001b[0;34m\u001b[0m\u001b[0m\n\u001b[0;32m--> 708\u001b[0;31m                 out = parallel(delayed(_fit_and_score)(clone(base_estimator),\n\u001b[0m\u001b[1;32m    709\u001b[0m                                                        \u001b[0mX\u001b[0m\u001b[0;34m,\u001b[0m \u001b[0my\u001b[0m\u001b[0;34m,\u001b[0m\u001b[0;34m\u001b[0m\u001b[0;34m\u001b[0m\u001b[0m\n\u001b[1;32m    710\u001b[0m                                                        \u001b[0mtrain\u001b[0m\u001b[0;34m=\u001b[0m\u001b[0mtrain\u001b[0m\u001b[0;34m,\u001b[0m \u001b[0mtest\u001b[0m\u001b[0;34m=\u001b[0m\u001b[0mtest\u001b[0m\u001b[0;34m,\u001b[0m\u001b[0;34m\u001b[0m\u001b[0;34m\u001b[0m\u001b[0m\n",
      "\u001b[0;32m/opt/anaconda3/envs/learn-env/lib/python3.8/site-packages/joblib/parallel.py\u001b[0m in \u001b[0;36m__call__\u001b[0;34m(self, iterable)\u001b[0m\n\u001b[1;32m   1049\u001b[0m                 \u001b[0mself\u001b[0m\u001b[0;34m.\u001b[0m\u001b[0m_iterating\u001b[0m \u001b[0;34m=\u001b[0m \u001b[0mself\u001b[0m\u001b[0;34m.\u001b[0m\u001b[0m_original_iterator\u001b[0m \u001b[0;32mis\u001b[0m \u001b[0;32mnot\u001b[0m \u001b[0;32mNone\u001b[0m\u001b[0;34m\u001b[0m\u001b[0;34m\u001b[0m\u001b[0m\n\u001b[1;32m   1050\u001b[0m \u001b[0;34m\u001b[0m\u001b[0m\n\u001b[0;32m-> 1051\u001b[0;31m             \u001b[0;32mwhile\u001b[0m \u001b[0mself\u001b[0m\u001b[0;34m.\u001b[0m\u001b[0mdispatch_one_batch\u001b[0m\u001b[0;34m(\u001b[0m\u001b[0miterator\u001b[0m\u001b[0;34m)\u001b[0m\u001b[0;34m:\u001b[0m\u001b[0;34m\u001b[0m\u001b[0;34m\u001b[0m\u001b[0m\n\u001b[0m\u001b[1;32m   1052\u001b[0m                 \u001b[0;32mpass\u001b[0m\u001b[0;34m\u001b[0m\u001b[0;34m\u001b[0m\u001b[0m\n\u001b[1;32m   1053\u001b[0m \u001b[0;34m\u001b[0m\u001b[0m\n",
      "\u001b[0;32m/opt/anaconda3/envs/learn-env/lib/python3.8/site-packages/joblib/parallel.py\u001b[0m in \u001b[0;36mdispatch_one_batch\u001b[0;34m(self, iterator)\u001b[0m\n\u001b[1;32m    864\u001b[0m                 \u001b[0;32mreturn\u001b[0m \u001b[0;32mFalse\u001b[0m\u001b[0;34m\u001b[0m\u001b[0;34m\u001b[0m\u001b[0m\n\u001b[1;32m    865\u001b[0m             \u001b[0;32melse\u001b[0m\u001b[0;34m:\u001b[0m\u001b[0;34m\u001b[0m\u001b[0;34m\u001b[0m\u001b[0m\n\u001b[0;32m--> 866\u001b[0;31m                 \u001b[0mself\u001b[0m\u001b[0;34m.\u001b[0m\u001b[0m_dispatch\u001b[0m\u001b[0;34m(\u001b[0m\u001b[0mtasks\u001b[0m\u001b[0;34m)\u001b[0m\u001b[0;34m\u001b[0m\u001b[0;34m\u001b[0m\u001b[0m\n\u001b[0m\u001b[1;32m    867\u001b[0m                 \u001b[0;32mreturn\u001b[0m \u001b[0;32mTrue\u001b[0m\u001b[0;34m\u001b[0m\u001b[0;34m\u001b[0m\u001b[0m\n\u001b[1;32m    868\u001b[0m \u001b[0;34m\u001b[0m\u001b[0m\n",
      "\u001b[0;32m/opt/anaconda3/envs/learn-env/lib/python3.8/site-packages/joblib/parallel.py\u001b[0m in \u001b[0;36m_dispatch\u001b[0;34m(self, batch)\u001b[0m\n\u001b[1;32m    782\u001b[0m         \u001b[0;32mwith\u001b[0m \u001b[0mself\u001b[0m\u001b[0;34m.\u001b[0m\u001b[0m_lock\u001b[0m\u001b[0;34m:\u001b[0m\u001b[0;34m\u001b[0m\u001b[0;34m\u001b[0m\u001b[0m\n\u001b[1;32m    783\u001b[0m             \u001b[0mjob_idx\u001b[0m \u001b[0;34m=\u001b[0m \u001b[0mlen\u001b[0m\u001b[0;34m(\u001b[0m\u001b[0mself\u001b[0m\u001b[0;34m.\u001b[0m\u001b[0m_jobs\u001b[0m\u001b[0;34m)\u001b[0m\u001b[0;34m\u001b[0m\u001b[0;34m\u001b[0m\u001b[0m\n\u001b[0;32m--> 784\u001b[0;31m             \u001b[0mjob\u001b[0m \u001b[0;34m=\u001b[0m \u001b[0mself\u001b[0m\u001b[0;34m.\u001b[0m\u001b[0m_backend\u001b[0m\u001b[0;34m.\u001b[0m\u001b[0mapply_async\u001b[0m\u001b[0;34m(\u001b[0m\u001b[0mbatch\u001b[0m\u001b[0;34m,\u001b[0m \u001b[0mcallback\u001b[0m\u001b[0;34m=\u001b[0m\u001b[0mcb\u001b[0m\u001b[0;34m)\u001b[0m\u001b[0;34m\u001b[0m\u001b[0;34m\u001b[0m\u001b[0m\n\u001b[0m\u001b[1;32m    785\u001b[0m             \u001b[0;31m# A job can complete so quickly than its callback is\u001b[0m\u001b[0;34m\u001b[0m\u001b[0;34m\u001b[0m\u001b[0;34m\u001b[0m\u001b[0m\n\u001b[1;32m    786\u001b[0m             \u001b[0;31m# called before we get here, causing self._jobs to\u001b[0m\u001b[0;34m\u001b[0m\u001b[0;34m\u001b[0m\u001b[0;34m\u001b[0m\u001b[0m\n",
      "\u001b[0;32m/opt/anaconda3/envs/learn-env/lib/python3.8/site-packages/joblib/_parallel_backends.py\u001b[0m in \u001b[0;36mapply_async\u001b[0;34m(self, func, callback)\u001b[0m\n\u001b[1;32m    206\u001b[0m     \u001b[0;32mdef\u001b[0m \u001b[0mapply_async\u001b[0m\u001b[0;34m(\u001b[0m\u001b[0mself\u001b[0m\u001b[0;34m,\u001b[0m \u001b[0mfunc\u001b[0m\u001b[0;34m,\u001b[0m \u001b[0mcallback\u001b[0m\u001b[0;34m=\u001b[0m\u001b[0;32mNone\u001b[0m\u001b[0;34m)\u001b[0m\u001b[0;34m:\u001b[0m\u001b[0;34m\u001b[0m\u001b[0;34m\u001b[0m\u001b[0m\n\u001b[1;32m    207\u001b[0m         \u001b[0;34m\"\"\"Schedule a func to be run\"\"\"\u001b[0m\u001b[0;34m\u001b[0m\u001b[0;34m\u001b[0m\u001b[0m\n\u001b[0;32m--> 208\u001b[0;31m         \u001b[0mresult\u001b[0m \u001b[0;34m=\u001b[0m \u001b[0mImmediateResult\u001b[0m\u001b[0;34m(\u001b[0m\u001b[0mfunc\u001b[0m\u001b[0;34m)\u001b[0m\u001b[0;34m\u001b[0m\u001b[0;34m\u001b[0m\u001b[0m\n\u001b[0m\u001b[1;32m    209\u001b[0m         \u001b[0;32mif\u001b[0m \u001b[0mcallback\u001b[0m\u001b[0;34m:\u001b[0m\u001b[0;34m\u001b[0m\u001b[0;34m\u001b[0m\u001b[0m\n\u001b[1;32m    210\u001b[0m             \u001b[0mcallback\u001b[0m\u001b[0;34m(\u001b[0m\u001b[0mresult\u001b[0m\u001b[0;34m)\u001b[0m\u001b[0;34m\u001b[0m\u001b[0;34m\u001b[0m\u001b[0m\n",
      "\u001b[0;32m/opt/anaconda3/envs/learn-env/lib/python3.8/site-packages/joblib/_parallel_backends.py\u001b[0m in \u001b[0;36m__init__\u001b[0;34m(self, batch)\u001b[0m\n\u001b[1;32m    570\u001b[0m         \u001b[0;31m# Don't delay the application, to avoid keeping the input\u001b[0m\u001b[0;34m\u001b[0m\u001b[0;34m\u001b[0m\u001b[0;34m\u001b[0m\u001b[0m\n\u001b[1;32m    571\u001b[0m         \u001b[0;31m# arguments in memory\u001b[0m\u001b[0;34m\u001b[0m\u001b[0;34m\u001b[0m\u001b[0;34m\u001b[0m\u001b[0m\n\u001b[0;32m--> 572\u001b[0;31m         \u001b[0mself\u001b[0m\u001b[0;34m.\u001b[0m\u001b[0mresults\u001b[0m \u001b[0;34m=\u001b[0m \u001b[0mbatch\u001b[0m\u001b[0;34m(\u001b[0m\u001b[0;34m)\u001b[0m\u001b[0;34m\u001b[0m\u001b[0;34m\u001b[0m\u001b[0m\n\u001b[0m\u001b[1;32m    573\u001b[0m \u001b[0;34m\u001b[0m\u001b[0m\n\u001b[1;32m    574\u001b[0m     \u001b[0;32mdef\u001b[0m \u001b[0mget\u001b[0m\u001b[0;34m(\u001b[0m\u001b[0mself\u001b[0m\u001b[0;34m)\u001b[0m\u001b[0;34m:\u001b[0m\u001b[0;34m\u001b[0m\u001b[0;34m\u001b[0m\u001b[0m\n",
      "\u001b[0;32m/opt/anaconda3/envs/learn-env/lib/python3.8/site-packages/joblib/parallel.py\u001b[0m in \u001b[0;36m__call__\u001b[0;34m(self)\u001b[0m\n\u001b[1;32m    260\u001b[0m         \u001b[0;31m# change the default number of processes to -1\u001b[0m\u001b[0;34m\u001b[0m\u001b[0;34m\u001b[0m\u001b[0;34m\u001b[0m\u001b[0m\n\u001b[1;32m    261\u001b[0m         \u001b[0;32mwith\u001b[0m \u001b[0mparallel_backend\u001b[0m\u001b[0;34m(\u001b[0m\u001b[0mself\u001b[0m\u001b[0;34m.\u001b[0m\u001b[0m_backend\u001b[0m\u001b[0;34m,\u001b[0m \u001b[0mn_jobs\u001b[0m\u001b[0;34m=\u001b[0m\u001b[0mself\u001b[0m\u001b[0;34m.\u001b[0m\u001b[0m_n_jobs\u001b[0m\u001b[0;34m)\u001b[0m\u001b[0;34m:\u001b[0m\u001b[0;34m\u001b[0m\u001b[0;34m\u001b[0m\u001b[0m\n\u001b[0;32m--> 262\u001b[0;31m             return [func(*args, **kwargs)\n\u001b[0m\u001b[1;32m    263\u001b[0m                     for func, args, kwargs in self.items]\n\u001b[1;32m    264\u001b[0m \u001b[0;34m\u001b[0m\u001b[0m\n",
      "\u001b[0;32m/opt/anaconda3/envs/learn-env/lib/python3.8/site-packages/joblib/parallel.py\u001b[0m in \u001b[0;36m<listcomp>\u001b[0;34m(.0)\u001b[0m\n\u001b[1;32m    260\u001b[0m         \u001b[0;31m# change the default number of processes to -1\u001b[0m\u001b[0;34m\u001b[0m\u001b[0;34m\u001b[0m\u001b[0;34m\u001b[0m\u001b[0m\n\u001b[1;32m    261\u001b[0m         \u001b[0;32mwith\u001b[0m \u001b[0mparallel_backend\u001b[0m\u001b[0;34m(\u001b[0m\u001b[0mself\u001b[0m\u001b[0;34m.\u001b[0m\u001b[0m_backend\u001b[0m\u001b[0;34m,\u001b[0m \u001b[0mn_jobs\u001b[0m\u001b[0;34m=\u001b[0m\u001b[0mself\u001b[0m\u001b[0;34m.\u001b[0m\u001b[0m_n_jobs\u001b[0m\u001b[0;34m)\u001b[0m\u001b[0;34m:\u001b[0m\u001b[0;34m\u001b[0m\u001b[0;34m\u001b[0m\u001b[0m\n\u001b[0;32m--> 262\u001b[0;31m             return [func(*args, **kwargs)\n\u001b[0m\u001b[1;32m    263\u001b[0m                     for func, args, kwargs in self.items]\n\u001b[1;32m    264\u001b[0m \u001b[0;34m\u001b[0m\u001b[0m\n",
      "\u001b[0;32m/opt/anaconda3/envs/learn-env/lib/python3.8/site-packages/sklearn/model_selection/_validation.py\u001b[0m in \u001b[0;36m_fit_and_score\u001b[0;34m(estimator, X, y, scorer, train, test, verbose, parameters, fit_params, return_train_score, return_parameters, return_n_test_samples, return_times, return_estimator, error_score)\u001b[0m\n\u001b[1;32m    529\u001b[0m             \u001b[0mestimator\u001b[0m\u001b[0;34m.\u001b[0m\u001b[0mfit\u001b[0m\u001b[0;34m(\u001b[0m\u001b[0mX_train\u001b[0m\u001b[0;34m,\u001b[0m \u001b[0;34m**\u001b[0m\u001b[0mfit_params\u001b[0m\u001b[0;34m)\u001b[0m\u001b[0;34m\u001b[0m\u001b[0;34m\u001b[0m\u001b[0m\n\u001b[1;32m    530\u001b[0m         \u001b[0;32melse\u001b[0m\u001b[0;34m:\u001b[0m\u001b[0;34m\u001b[0m\u001b[0;34m\u001b[0m\u001b[0m\n\u001b[0;32m--> 531\u001b[0;31m             \u001b[0mestimator\u001b[0m\u001b[0;34m.\u001b[0m\u001b[0mfit\u001b[0m\u001b[0;34m(\u001b[0m\u001b[0mX_train\u001b[0m\u001b[0;34m,\u001b[0m \u001b[0my_train\u001b[0m\u001b[0;34m,\u001b[0m \u001b[0;34m**\u001b[0m\u001b[0mfit_params\u001b[0m\u001b[0;34m)\u001b[0m\u001b[0;34m\u001b[0m\u001b[0;34m\u001b[0m\u001b[0m\n\u001b[0m\u001b[1;32m    532\u001b[0m \u001b[0;34m\u001b[0m\u001b[0m\n\u001b[1;32m    533\u001b[0m     \u001b[0;32mexcept\u001b[0m \u001b[0mException\u001b[0m \u001b[0;32mas\u001b[0m \u001b[0me\u001b[0m\u001b[0;34m:\u001b[0m\u001b[0;34m\u001b[0m\u001b[0;34m\u001b[0m\u001b[0m\n",
      "\u001b[0;32m/opt/anaconda3/envs/learn-env/lib/python3.8/site-packages/sklearn/ensemble/_forest.py\u001b[0m in \u001b[0;36mfit\u001b[0;34m(self, X, y, sample_weight)\u001b[0m\n\u001b[1;32m    384\u001b[0m             \u001b[0;31m# parallel_backend contexts set at a higher level,\u001b[0m\u001b[0;34m\u001b[0m\u001b[0;34m\u001b[0m\u001b[0;34m\u001b[0m\u001b[0m\n\u001b[1;32m    385\u001b[0m             \u001b[0;31m# since correctness does not rely on using threads.\u001b[0m\u001b[0;34m\u001b[0m\u001b[0;34m\u001b[0m\u001b[0;34m\u001b[0m\u001b[0m\n\u001b[0;32m--> 386\u001b[0;31m             trees = Parallel(n_jobs=self.n_jobs, verbose=self.verbose,\n\u001b[0m\u001b[1;32m    387\u001b[0m                              \u001b[0;34m**\u001b[0m\u001b[0m_joblib_parallel_args\u001b[0m\u001b[0;34m(\u001b[0m\u001b[0mprefer\u001b[0m\u001b[0;34m=\u001b[0m\u001b[0;34m'threads'\u001b[0m\u001b[0;34m)\u001b[0m\u001b[0;34m)\u001b[0m\u001b[0;34m(\u001b[0m\u001b[0;34m\u001b[0m\u001b[0;34m\u001b[0m\u001b[0m\n\u001b[1;32m    388\u001b[0m                 delayed(_parallel_build_trees)(\n",
      "\u001b[0;32m/opt/anaconda3/envs/learn-env/lib/python3.8/site-packages/joblib/parallel.py\u001b[0m in \u001b[0;36m__call__\u001b[0;34m(self, iterable)\u001b[0m\n\u001b[1;32m   1049\u001b[0m                 \u001b[0mself\u001b[0m\u001b[0;34m.\u001b[0m\u001b[0m_iterating\u001b[0m \u001b[0;34m=\u001b[0m \u001b[0mself\u001b[0m\u001b[0;34m.\u001b[0m\u001b[0m_original_iterator\u001b[0m \u001b[0;32mis\u001b[0m \u001b[0;32mnot\u001b[0m \u001b[0;32mNone\u001b[0m\u001b[0;34m\u001b[0m\u001b[0;34m\u001b[0m\u001b[0m\n\u001b[1;32m   1050\u001b[0m \u001b[0;34m\u001b[0m\u001b[0m\n\u001b[0;32m-> 1051\u001b[0;31m             \u001b[0;32mwhile\u001b[0m \u001b[0mself\u001b[0m\u001b[0;34m.\u001b[0m\u001b[0mdispatch_one_batch\u001b[0m\u001b[0;34m(\u001b[0m\u001b[0miterator\u001b[0m\u001b[0;34m)\u001b[0m\u001b[0;34m:\u001b[0m\u001b[0;34m\u001b[0m\u001b[0;34m\u001b[0m\u001b[0m\n\u001b[0m\u001b[1;32m   1052\u001b[0m                 \u001b[0;32mpass\u001b[0m\u001b[0;34m\u001b[0m\u001b[0;34m\u001b[0m\u001b[0m\n\u001b[1;32m   1053\u001b[0m \u001b[0;34m\u001b[0m\u001b[0m\n",
      "\u001b[0;32m/opt/anaconda3/envs/learn-env/lib/python3.8/site-packages/joblib/parallel.py\u001b[0m in \u001b[0;36mdispatch_one_batch\u001b[0;34m(self, iterator)\u001b[0m\n\u001b[1;32m    864\u001b[0m                 \u001b[0;32mreturn\u001b[0m \u001b[0;32mFalse\u001b[0m\u001b[0;34m\u001b[0m\u001b[0;34m\u001b[0m\u001b[0m\n\u001b[1;32m    865\u001b[0m             \u001b[0;32melse\u001b[0m\u001b[0;34m:\u001b[0m\u001b[0;34m\u001b[0m\u001b[0;34m\u001b[0m\u001b[0m\n\u001b[0;32m--> 866\u001b[0;31m                 \u001b[0mself\u001b[0m\u001b[0;34m.\u001b[0m\u001b[0m_dispatch\u001b[0m\u001b[0;34m(\u001b[0m\u001b[0mtasks\u001b[0m\u001b[0;34m)\u001b[0m\u001b[0;34m\u001b[0m\u001b[0;34m\u001b[0m\u001b[0m\n\u001b[0m\u001b[1;32m    867\u001b[0m                 \u001b[0;32mreturn\u001b[0m \u001b[0;32mTrue\u001b[0m\u001b[0;34m\u001b[0m\u001b[0;34m\u001b[0m\u001b[0m\n\u001b[1;32m    868\u001b[0m \u001b[0;34m\u001b[0m\u001b[0m\n",
      "\u001b[0;32m/opt/anaconda3/envs/learn-env/lib/python3.8/site-packages/joblib/parallel.py\u001b[0m in \u001b[0;36m_dispatch\u001b[0;34m(self, batch)\u001b[0m\n\u001b[1;32m    782\u001b[0m         \u001b[0;32mwith\u001b[0m \u001b[0mself\u001b[0m\u001b[0;34m.\u001b[0m\u001b[0m_lock\u001b[0m\u001b[0;34m:\u001b[0m\u001b[0;34m\u001b[0m\u001b[0;34m\u001b[0m\u001b[0m\n\u001b[1;32m    783\u001b[0m             \u001b[0mjob_idx\u001b[0m \u001b[0;34m=\u001b[0m \u001b[0mlen\u001b[0m\u001b[0;34m(\u001b[0m\u001b[0mself\u001b[0m\u001b[0;34m.\u001b[0m\u001b[0m_jobs\u001b[0m\u001b[0;34m)\u001b[0m\u001b[0;34m\u001b[0m\u001b[0;34m\u001b[0m\u001b[0m\n\u001b[0;32m--> 784\u001b[0;31m             \u001b[0mjob\u001b[0m \u001b[0;34m=\u001b[0m \u001b[0mself\u001b[0m\u001b[0;34m.\u001b[0m\u001b[0m_backend\u001b[0m\u001b[0;34m.\u001b[0m\u001b[0mapply_async\u001b[0m\u001b[0;34m(\u001b[0m\u001b[0mbatch\u001b[0m\u001b[0;34m,\u001b[0m \u001b[0mcallback\u001b[0m\u001b[0;34m=\u001b[0m\u001b[0mcb\u001b[0m\u001b[0;34m)\u001b[0m\u001b[0;34m\u001b[0m\u001b[0;34m\u001b[0m\u001b[0m\n\u001b[0m\u001b[1;32m    785\u001b[0m             \u001b[0;31m# A job can complete so quickly than its callback is\u001b[0m\u001b[0;34m\u001b[0m\u001b[0;34m\u001b[0m\u001b[0;34m\u001b[0m\u001b[0m\n\u001b[1;32m    786\u001b[0m             \u001b[0;31m# called before we get here, causing self._jobs to\u001b[0m\u001b[0;34m\u001b[0m\u001b[0;34m\u001b[0m\u001b[0;34m\u001b[0m\u001b[0m\n",
      "\u001b[0;32m/opt/anaconda3/envs/learn-env/lib/python3.8/site-packages/joblib/_parallel_backends.py\u001b[0m in \u001b[0;36mapply_async\u001b[0;34m(self, func, callback)\u001b[0m\n\u001b[1;32m    206\u001b[0m     \u001b[0;32mdef\u001b[0m \u001b[0mapply_async\u001b[0m\u001b[0;34m(\u001b[0m\u001b[0mself\u001b[0m\u001b[0;34m,\u001b[0m \u001b[0mfunc\u001b[0m\u001b[0;34m,\u001b[0m \u001b[0mcallback\u001b[0m\u001b[0;34m=\u001b[0m\u001b[0;32mNone\u001b[0m\u001b[0;34m)\u001b[0m\u001b[0;34m:\u001b[0m\u001b[0;34m\u001b[0m\u001b[0;34m\u001b[0m\u001b[0m\n\u001b[1;32m    207\u001b[0m         \u001b[0;34m\"\"\"Schedule a func to be run\"\"\"\u001b[0m\u001b[0;34m\u001b[0m\u001b[0;34m\u001b[0m\u001b[0m\n\u001b[0;32m--> 208\u001b[0;31m         \u001b[0mresult\u001b[0m \u001b[0;34m=\u001b[0m \u001b[0mImmediateResult\u001b[0m\u001b[0;34m(\u001b[0m\u001b[0mfunc\u001b[0m\u001b[0;34m)\u001b[0m\u001b[0;34m\u001b[0m\u001b[0;34m\u001b[0m\u001b[0m\n\u001b[0m\u001b[1;32m    209\u001b[0m         \u001b[0;32mif\u001b[0m \u001b[0mcallback\u001b[0m\u001b[0;34m:\u001b[0m\u001b[0;34m\u001b[0m\u001b[0;34m\u001b[0m\u001b[0m\n\u001b[1;32m    210\u001b[0m             \u001b[0mcallback\u001b[0m\u001b[0;34m(\u001b[0m\u001b[0mresult\u001b[0m\u001b[0;34m)\u001b[0m\u001b[0;34m\u001b[0m\u001b[0;34m\u001b[0m\u001b[0m\n",
      "\u001b[0;32m/opt/anaconda3/envs/learn-env/lib/python3.8/site-packages/joblib/_parallel_backends.py\u001b[0m in \u001b[0;36m__init__\u001b[0;34m(self, batch)\u001b[0m\n\u001b[1;32m    570\u001b[0m         \u001b[0;31m# Don't delay the application, to avoid keeping the input\u001b[0m\u001b[0;34m\u001b[0m\u001b[0;34m\u001b[0m\u001b[0;34m\u001b[0m\u001b[0m\n\u001b[1;32m    571\u001b[0m         \u001b[0;31m# arguments in memory\u001b[0m\u001b[0;34m\u001b[0m\u001b[0;34m\u001b[0m\u001b[0;34m\u001b[0m\u001b[0m\n\u001b[0;32m--> 572\u001b[0;31m         \u001b[0mself\u001b[0m\u001b[0;34m.\u001b[0m\u001b[0mresults\u001b[0m \u001b[0;34m=\u001b[0m \u001b[0mbatch\u001b[0m\u001b[0;34m(\u001b[0m\u001b[0;34m)\u001b[0m\u001b[0;34m\u001b[0m\u001b[0;34m\u001b[0m\u001b[0m\n\u001b[0m\u001b[1;32m    573\u001b[0m \u001b[0;34m\u001b[0m\u001b[0m\n\u001b[1;32m    574\u001b[0m     \u001b[0;32mdef\u001b[0m \u001b[0mget\u001b[0m\u001b[0;34m(\u001b[0m\u001b[0mself\u001b[0m\u001b[0;34m)\u001b[0m\u001b[0;34m:\u001b[0m\u001b[0;34m\u001b[0m\u001b[0;34m\u001b[0m\u001b[0m\n",
      "\u001b[0;32m/opt/anaconda3/envs/learn-env/lib/python3.8/site-packages/joblib/parallel.py\u001b[0m in \u001b[0;36m__call__\u001b[0;34m(self)\u001b[0m\n\u001b[1;32m    260\u001b[0m         \u001b[0;31m# change the default number of processes to -1\u001b[0m\u001b[0;34m\u001b[0m\u001b[0;34m\u001b[0m\u001b[0;34m\u001b[0m\u001b[0m\n\u001b[1;32m    261\u001b[0m         \u001b[0;32mwith\u001b[0m \u001b[0mparallel_backend\u001b[0m\u001b[0;34m(\u001b[0m\u001b[0mself\u001b[0m\u001b[0;34m.\u001b[0m\u001b[0m_backend\u001b[0m\u001b[0;34m,\u001b[0m \u001b[0mn_jobs\u001b[0m\u001b[0;34m=\u001b[0m\u001b[0mself\u001b[0m\u001b[0;34m.\u001b[0m\u001b[0m_n_jobs\u001b[0m\u001b[0;34m)\u001b[0m\u001b[0;34m:\u001b[0m\u001b[0;34m\u001b[0m\u001b[0;34m\u001b[0m\u001b[0m\n\u001b[0;32m--> 262\u001b[0;31m             return [func(*args, **kwargs)\n\u001b[0m\u001b[1;32m    263\u001b[0m                     for func, args, kwargs in self.items]\n\u001b[1;32m    264\u001b[0m \u001b[0;34m\u001b[0m\u001b[0m\n",
      "\u001b[0;32m/opt/anaconda3/envs/learn-env/lib/python3.8/site-packages/joblib/parallel.py\u001b[0m in \u001b[0;36m<listcomp>\u001b[0;34m(.0)\u001b[0m\n\u001b[1;32m    260\u001b[0m         \u001b[0;31m# change the default number of processes to -1\u001b[0m\u001b[0;34m\u001b[0m\u001b[0;34m\u001b[0m\u001b[0;34m\u001b[0m\u001b[0m\n\u001b[1;32m    261\u001b[0m         \u001b[0;32mwith\u001b[0m \u001b[0mparallel_backend\u001b[0m\u001b[0;34m(\u001b[0m\u001b[0mself\u001b[0m\u001b[0;34m.\u001b[0m\u001b[0m_backend\u001b[0m\u001b[0;34m,\u001b[0m \u001b[0mn_jobs\u001b[0m\u001b[0;34m=\u001b[0m\u001b[0mself\u001b[0m\u001b[0;34m.\u001b[0m\u001b[0m_n_jobs\u001b[0m\u001b[0;34m)\u001b[0m\u001b[0;34m:\u001b[0m\u001b[0;34m\u001b[0m\u001b[0;34m\u001b[0m\u001b[0m\n\u001b[0;32m--> 262\u001b[0;31m             return [func(*args, **kwargs)\n\u001b[0m\u001b[1;32m    263\u001b[0m                     for func, args, kwargs in self.items]\n\u001b[1;32m    264\u001b[0m \u001b[0;34m\u001b[0m\u001b[0m\n",
      "\u001b[0;32m/opt/anaconda3/envs/learn-env/lib/python3.8/site-packages/sklearn/ensemble/_forest.py\u001b[0m in \u001b[0;36m_parallel_build_trees\u001b[0;34m(tree, forest, X, y, sample_weight, tree_idx, n_trees, verbose, class_weight, n_samples_bootstrap)\u001b[0m\n\u001b[1;32m    166\u001b[0m                                                         indices=indices)\n\u001b[1;32m    167\u001b[0m \u001b[0;34m\u001b[0m\u001b[0m\n\u001b[0;32m--> 168\u001b[0;31m         \u001b[0mtree\u001b[0m\u001b[0;34m.\u001b[0m\u001b[0mfit\u001b[0m\u001b[0;34m(\u001b[0m\u001b[0mX\u001b[0m\u001b[0;34m,\u001b[0m \u001b[0my\u001b[0m\u001b[0;34m,\u001b[0m \u001b[0msample_weight\u001b[0m\u001b[0;34m=\u001b[0m\u001b[0mcurr_sample_weight\u001b[0m\u001b[0;34m,\u001b[0m \u001b[0mcheck_input\u001b[0m\u001b[0;34m=\u001b[0m\u001b[0;32mFalse\u001b[0m\u001b[0;34m)\u001b[0m\u001b[0;34m\u001b[0m\u001b[0;34m\u001b[0m\u001b[0m\n\u001b[0m\u001b[1;32m    169\u001b[0m     \u001b[0;32melse\u001b[0m\u001b[0;34m:\u001b[0m\u001b[0;34m\u001b[0m\u001b[0;34m\u001b[0m\u001b[0m\n\u001b[1;32m    170\u001b[0m         \u001b[0mtree\u001b[0m\u001b[0;34m.\u001b[0m\u001b[0mfit\u001b[0m\u001b[0;34m(\u001b[0m\u001b[0mX\u001b[0m\u001b[0;34m,\u001b[0m \u001b[0my\u001b[0m\u001b[0;34m,\u001b[0m \u001b[0msample_weight\u001b[0m\u001b[0;34m=\u001b[0m\u001b[0msample_weight\u001b[0m\u001b[0;34m,\u001b[0m \u001b[0mcheck_input\u001b[0m\u001b[0;34m=\u001b[0m\u001b[0;32mFalse\u001b[0m\u001b[0;34m)\u001b[0m\u001b[0;34m\u001b[0m\u001b[0;34m\u001b[0m\u001b[0m\n",
      "\u001b[0;32m/opt/anaconda3/envs/learn-env/lib/python3.8/site-packages/sklearn/tree/_classes.py\u001b[0m in \u001b[0;36mfit\u001b[0;34m(self, X, y, sample_weight, check_input, X_idx_sorted)\u001b[0m\n\u001b[1;32m    888\u001b[0m         \"\"\"\n\u001b[1;32m    889\u001b[0m \u001b[0;34m\u001b[0m\u001b[0m\n\u001b[0;32m--> 890\u001b[0;31m         super().fit(\n\u001b[0m\u001b[1;32m    891\u001b[0m             \u001b[0mX\u001b[0m\u001b[0;34m,\u001b[0m \u001b[0my\u001b[0m\u001b[0;34m,\u001b[0m\u001b[0;34m\u001b[0m\u001b[0;34m\u001b[0m\u001b[0m\n\u001b[1;32m    892\u001b[0m             \u001b[0msample_weight\u001b[0m\u001b[0;34m=\u001b[0m\u001b[0msample_weight\u001b[0m\u001b[0;34m,\u001b[0m\u001b[0;34m\u001b[0m\u001b[0;34m\u001b[0m\u001b[0m\n",
      "\u001b[0;32m/opt/anaconda3/envs/learn-env/lib/python3.8/site-packages/sklearn/tree/_classes.py\u001b[0m in \u001b[0;36mfit\u001b[0;34m(self, X, y, sample_weight, check_input, X_idx_sorted)\u001b[0m\n\u001b[1;32m    373\u001b[0m                                            min_impurity_split)\n\u001b[1;32m    374\u001b[0m \u001b[0;34m\u001b[0m\u001b[0m\n\u001b[0;32m--> 375\u001b[0;31m         \u001b[0mbuilder\u001b[0m\u001b[0;34m.\u001b[0m\u001b[0mbuild\u001b[0m\u001b[0;34m(\u001b[0m\u001b[0mself\u001b[0m\u001b[0;34m.\u001b[0m\u001b[0mtree_\u001b[0m\u001b[0;34m,\u001b[0m \u001b[0mX\u001b[0m\u001b[0;34m,\u001b[0m \u001b[0my\u001b[0m\u001b[0;34m,\u001b[0m \u001b[0msample_weight\u001b[0m\u001b[0;34m,\u001b[0m \u001b[0mX_idx_sorted\u001b[0m\u001b[0;34m)\u001b[0m\u001b[0;34m\u001b[0m\u001b[0;34m\u001b[0m\u001b[0m\n\u001b[0m\u001b[1;32m    376\u001b[0m \u001b[0;34m\u001b[0m\u001b[0m\n\u001b[1;32m    377\u001b[0m         \u001b[0;32mif\u001b[0m \u001b[0mself\u001b[0m\u001b[0;34m.\u001b[0m\u001b[0mn_outputs_\u001b[0m \u001b[0;34m==\u001b[0m \u001b[0;36m1\u001b[0m \u001b[0;32mand\u001b[0m \u001b[0mis_classifier\u001b[0m\u001b[0;34m(\u001b[0m\u001b[0mself\u001b[0m\u001b[0;34m)\u001b[0m\u001b[0;34m:\u001b[0m\u001b[0;34m\u001b[0m\u001b[0;34m\u001b[0m\u001b[0m\n",
      "\u001b[0;31mKeyboardInterrupt\u001b[0m: "
     ]
    }
   ],
   "source": [
    "grid_rfc_model = GridSearchCV(rfc_model, rfc_grid_model, cv=3)\n",
    "grid_rfc_model.fit(X_train_scaled, y_train)\n",
    "print(\"Best Parameters for random forest:\")\n",
    "grid_rfc_model.best_params_"
   ]
  },
  {
   "cell_type": "code",
   "execution_count": null,
   "metadata": {},
   "outputs": [],
   "source": [
    "rfc_model_grid = RandomForestClassifier(random_state=42, criterion = 'entropy', max_depth=10,\n",
    "                                  max_features='auto', n_estimators = 200)\n",
    "\n",
    "rfc_model_grid.fit(X_train_scaled, y_train)"
   ]
  },
  {
   "cell_type": "code",
   "execution_count": null,
   "metadata": {},
   "outputs": [],
   "source": [
    "# Predictions on test\n",
    "y_pred_rfc_grid_model = rfc_model_grid.predict(X_test_scaled)\n",
    "\n",
    "# Recall Score\n",
    "recall_rfc_grid_model = recall_score(y_test, y_pred_rfc_grid_model, average='weighted')\n",
    "print(f\"Recall score: {recall_rfc_grid_model}\")\n",
    "\n"
   ]
  },
  {
   "cell_type": "code",
   "execution_count": null,
   "metadata": {},
   "outputs": [],
   "source": [
    "print(plot_confusion_matrix(rfc_model_grid, X_test_scaled, y_test));\n",
    "#not as good as the random forsest grid search on the largest data set \n",
    "\n",
    "\n",
    "#join y preds to DF and if the y pred is whateverr, just slice it -- maybe there would be something worthwhile "
   ]
  },
  {
   "cell_type": "markdown",
   "metadata": {},
   "source": [
    "# let's just do a plain old regressionn grid search"
   ]
  },
  {
   "cell_type": "code",
   "execution_count": null,
   "metadata": {},
   "outputs": [],
   "source": [
    "simple_log_model = LogisticRegression(random_state=42)\n",
    "simple_log_model.fit(X_train_scaled, y_train)"
   ]
  },
  {
   "cell_type": "code",
   "execution_count": null,
   "metadata": {},
   "outputs": [],
   "source": [
    "# this is the best model so far \n",
    "\n",
    "\n",
    "y_pred_train = simple_log_model.predict(X_train_scaled)\n",
    "y_pred_test = simple_log_model.predict(X_test_scaled)\n",
    "\n",
    "print(f\"Train Recall Score: {recall_score(y_train, y_pred_train, average='weighted')}\")\n",
    "print(f\"Test Recall Score: {recall_score(y_test, y_pred_test, average='weighted')}\")"
   ]
  },
  {
   "cell_type": "code",
   "execution_count": null,
   "metadata": {},
   "outputs": [],
   "source": [
    "param_grid = {\n",
    "    'penalty': ['l1', 'l2'],\n",
    "    'C': [1e-3, 1e-1, 1e2, 1e4, 1e6],\n",
    "    'solver': ['lbfgs', 'liblinear'],\n",
    "    'class_weight': ['balanced', None]\n",
    "}"
   ]
  },
  {
   "cell_type": "code",
   "execution_count": null,
   "metadata": {},
   "outputs": [],
   "source": [
    "grid_search = GridSearchCV(simple_log_model, param_grid, cv=3)\n",
    "grid_search.fit(X_train_scaled, y_train)\n",
    "\n",
    "print(\"Best Parameter Combination Found During Grid Search:\")\n",
    "grid_search.best_params_"
   ]
  },
  {
   "cell_type": "code",
   "execution_count": null,
   "metadata": {},
   "outputs": [],
   "source": [
    "model_log_model = LogisticRegression(random_state=42, C= 0.001, \n",
    "                                      class_weight= None, penalty= 'l2', \n",
    "                                      solver= 'lbfgs')\n",
    "model_log_model.fit(X_train_scaled, y_train)"
   ]
  },
  {
   "cell_type": "code",
   "execution_count": null,
   "metadata": {},
   "outputs": [],
   "source": [
    "y_pred_grid_model = model_log_model.predict(X_test_scaled)\n",
    "\n",
    "# Recall Score\n",
    "recall_grid = recall_score(y_test, y_pred_grid_model, average='weighted')\n",
    "print(f\"Recall score: {recall_grid}\")\n",
    "\n",
    "#looks like the simple log model is still the best!!"
   ]
  },
  {
   "cell_type": "code",
   "execution_count": null,
   "metadata": {},
   "outputs": [],
   "source": [
    "#henry: random resample across whole DF\n",
    "\n",
    "#patrick: maybe its just fine \n",
    "\n",
    "# ok imma try and smote \n",
    "\n",
    "#run some models with 4,5 & the demographic \n",
    "\n",
    "#try ada boost \n",
    "\n",
    "#try the subsetting idea "
   ]
  },
  {
   "cell_type": "code",
   "execution_count": null,
   "metadata": {},
   "outputs": [],
   "source": []
  },
  {
   "cell_type": "code",
   "execution_count": null,
   "metadata": {},
   "outputs": [],
   "source": []
  },
  {
   "cell_type": "code",
   "execution_count": null,
   "metadata": {},
   "outputs": [],
   "source": []
  },
  {
   "cell_type": "code",
   "execution_count": null,
   "metadata": {},
   "outputs": [],
   "source": []
  },
  {
   "cell_type": "code",
   "execution_count": null,
   "metadata": {},
   "outputs": [],
   "source": []
  },
  {
   "cell_type": "code",
   "execution_count": null,
   "metadata": {},
   "outputs": [],
   "source": []
  },
  {
   "cell_type": "code",
   "execution_count": null,
   "metadata": {},
   "outputs": [],
   "source": []
  },
  {
   "cell_type": "markdown",
   "metadata": {},
   "source": [
    "# do a decision tree --> log model"
   ]
  },
  {
   "cell_type": "code",
   "execution_count": 223,
   "metadata": {},
   "outputs": [
    {
     "data": {
      "text/plain": [
       "DecisionTreeClassifier(max_depth=4, random_state=42)"
      ]
     },
     "execution_count": 223,
     "metadata": {},
     "output_type": "execute_result"
    }
   ],
   "source": [
    "tree_clf = DecisionTreeClassifier(max_depth=4, random_state=42)\n",
    "tree_clf.fit(X_train_scaled, y_train)"
   ]
  },
  {
   "cell_type": "code",
   "execution_count": 224,
   "metadata": {},
   "outputs": [
    {
     "name": "stdout",
     "output_type": "stream",
     "text": [
      "Train Accuracy Score:0.6194546194546194\n",
      "Test Accuracy Score:0.5642276422764227\n"
     ]
    }
   ],
   "source": [
    "print(f'Train Accuracy Score:{tree_clf.score(X_train_scaled, y_train)}')\n",
    "print(f'Test Accuracy Score:{tree_clf.score(X_test_scaled, y_test)}')"
   ]
  },
  {
   "cell_type": "code",
   "execution_count": 225,
   "metadata": {},
   "outputs": [
    {
     "name": "stdout",
     "output_type": "stream",
     "text": [
      "Recall score: 0.5642276422764227\n"
     ]
    }
   ],
   "source": [
    "y_pred = tree_clf.predict(X_test_scaled)\n",
    "\n",
    "# Recall score\n",
    "recall = recall_score(y_test, y_pred, average='weighted')\n",
    "print(f\"Recall score: {recall}\")"
   ]
  },
  {
   "cell_type": "code",
   "execution_count": 231,
   "metadata": {},
   "outputs": [
    {
     "data": {
      "text/plain": [
       "{'whitejob': 0.01750286368612134,\n",
       " 'taxecon': 0.0,\n",
       " 'talk2': 0.0,\n",
       " 'immpres7': 0.0,\n",
       " 'fundmt1': 0.0,\n",
       " 'experts': 0.0,\n",
       " 'econnow': 0.0,\n",
       " 'conf_covid2': 0.12272585516571309,\n",
       " 'abort1': 0.0,\n",
       " 'votemail2': 0.02028071881042067,\n",
       " 'viol2a': 0.0,\n",
       " 'strpres1b': 0.0,\n",
       " 'pidstr3': 0.0,\n",
       " 'pidstr1': 0.014313173628860188,\n",
       " 'lcd': 0.017372092139595757,\n",
       " 'knowtran2_1': 0.012899405632740538,\n",
       " 'jbhonest': 0.0,\n",
       " 'impact9': 0.0,\n",
       " 'immignum': 0.0,\n",
       " 'hopeful': 0.0,\n",
       " 'hlthcare1': 0.0,\n",
       " 'excessive': 0.0,\n",
       " 'econpres7': 0.0,\n",
       " 'dtleader2': 0.0,\n",
       " 'covid_elect': 0.0,\n",
       " 'birthyr': 0.0,\n",
       " 'wall7': 0.04061644063361028,\n",
       " 'votecount': 0.0,\n",
       " 'viol2b': 0.0,\n",
       " 'viol1': 0.05218656581147455,\n",
       " 'talk3': 0.0,\n",
       " 'stress4': 0.0,\n",
       " 'speech1': 0.0,\n",
       " 'selfmon4': 0.0,\n",
       " 'science': 0.0,\n",
       " 'rural4': 0.0,\n",
       " 'rural2': 0.0,\n",
       " 'rr4': 0.0,\n",
       " 'rr1': 0.0,\n",
       " 'return': 0.0,\n",
       " 'protest': 0.0,\n",
       " 'moralcert6': 0.0,\n",
       " 'lcself': 0.0,\n",
       " 'lcr': 0.03134636254860827,\n",
       " 'knowtran2_2': 0.0,\n",
       " 'intelsup1': 0.0,\n",
       " 'inc_anes': 0.0,\n",
       " 'impeach2': 0.0,\n",
       " 'impeach1': 0.0,\n",
       " 'impact8': 0.19900518207508983,\n",
       " 'impact6': 0.0,\n",
       " 'impact5': 0.0,\n",
       " 'impact4': 0.0,\n",
       " 'impact1': 0.0,\n",
       " 'fundmt2': 0.0457179126312281,\n",
       " 'ftwarren1': 0.0,\n",
       " 'fttransppl': 0.07567864343614687,\n",
       " 'ftrubio1': 0.0,\n",
       " 'ftpence1': 0.022380139291825814,\n",
       " 'ftharris1': 0.0,\n",
       " 'ftdemocraticparty': 0.0,\n",
       " 'ftcapitalists': 0.0,\n",
       " 'ftbuttigieg1': 0.0,\n",
       " 'ftblack': 0.0,\n",
       " 'frnpres7': 0.0,\n",
       " 'finworry': 0.0,\n",
       " 'femid2_fem': 0.0,\n",
       " 'exphelp': 0.0,\n",
       " 'dtknow': 0.0,\n",
       " 'dthonest': 0.0,\n",
       " 'dtdignif': 0.30622056289421795,\n",
       " 'dtcares': 0.0,\n",
       " 'dtauth': 0.0,\n",
       " 'depress4': 0.0,\n",
       " 'depress1': 0.0,\n",
       " 'conf_covid1': 0.021754081614346735,\n",
       " 'callout_social': 0.0,\n",
       " 'att1': 0.0,\n",
       " 'apppres7': 0.0,\n",
       " 'age': 0.0,\n",
       " 'affact': 0.0,\n",
       " 'abort2': 0.0,\n",
       " 'worried': 0.0,\n",
       " 'voterid2': 0.0,\n",
       " 'voterid1': 0.0,\n",
       " 'viol3_both': 0.0,\n",
       " 'socmed_9': 0.0,\n",
       " 'socmed_7': 0.0,\n",
       " 'socmed_6': 0.0,\n",
       " 'socmed_3': 0.0,\n",
       " 'selfmon6': 0.0,\n",
       " 'selfmon3': 0.0,\n",
       " 'selfmon2': 0.0,\n",
       " 'selfcensor': 0.0,\n",
       " 'rural3': 0.0,\n",
       " 'rr_scale': 0.0,\n",
       " 'richpoor2': 0.0,\n",
       " 'relig2a': 0.0,\n",
       " 'regulate2': 0.0,\n",
       " 'race7': 0.0}"
      ]
     },
     "execution_count": 231,
     "metadata": {},
     "output_type": "execute_result"
    }
   ],
   "source": [
    "feat_import = {name: score \n",
    "                   for name, score \n",
    "                       in zip(X_train.columns, tree_clf.feature_importances_)\n",
    "}\n",
    "feat_import\n"
   ]
  },
  {
   "cell_type": "code",
   "execution_count": 230,
   "metadata": {},
   "outputs": [
    {
     "data": {
      "text/plain": [
       "['dtdignif',\n",
       " 'impact8',\n",
       " 'conf_covid2',\n",
       " 'fttransppl',\n",
       " 'viol1',\n",
       " 'fundmt2',\n",
       " 'wall7',\n",
       " 'lcr',\n",
       " 'ftpence1',\n",
       " 'conf_covid1',\n",
       " 'votemail2',\n",
       " 'whitejob',\n",
       " 'lcd',\n",
       " 'pidstr1',\n",
       " 'knowtran2_1',\n",
       " 'taxecon',\n",
       " 'talk2',\n",
       " 'immpres7',\n",
       " 'fundmt1',\n",
       " 'experts',\n",
       " 'econnow',\n",
       " 'abort1',\n",
       " 'viol2a',\n",
       " 'strpres1b',\n",
       " 'pidstr3',\n",
       " 'jbhonest',\n",
       " 'impact9',\n",
       " 'immignum',\n",
       " 'hopeful',\n",
       " 'hlthcare1',\n",
       " 'excessive',\n",
       " 'econpres7',\n",
       " 'dtleader2',\n",
       " 'covid_elect',\n",
       " 'birthyr',\n",
       " 'votecount',\n",
       " 'viol2b',\n",
       " 'talk3',\n",
       " 'stress4',\n",
       " 'speech1',\n",
       " 'selfmon4',\n",
       " 'science',\n",
       " 'rural4',\n",
       " 'rural2',\n",
       " 'rr4',\n",
       " 'rr1',\n",
       " 'return',\n",
       " 'protest',\n",
       " 'moralcert6',\n",
       " 'lcself',\n",
       " 'knowtran2_2',\n",
       " 'intelsup1',\n",
       " 'inc_anes',\n",
       " 'impeach2',\n",
       " 'impeach1',\n",
       " 'impact6',\n",
       " 'impact5',\n",
       " 'impact4',\n",
       " 'impact1',\n",
       " 'ftwarren1',\n",
       " 'ftrubio1',\n",
       " 'ftharris1',\n",
       " 'ftdemocraticparty',\n",
       " 'ftcapitalists',\n",
       " 'ftbuttigieg1',\n",
       " 'ftblack',\n",
       " 'frnpres7',\n",
       " 'finworry',\n",
       " 'femid2_fem',\n",
       " 'exphelp',\n",
       " 'dtknow',\n",
       " 'dthonest',\n",
       " 'dtcares',\n",
       " 'dtauth',\n",
       " 'depress4',\n",
       " 'depress1',\n",
       " 'callout_social',\n",
       " 'att1',\n",
       " 'apppres7',\n",
       " 'age',\n",
       " 'affact',\n",
       " 'abort2',\n",
       " 'worried',\n",
       " 'voterid2',\n",
       " 'voterid1',\n",
       " 'viol3_both',\n",
       " 'socmed_9',\n",
       " 'socmed_7',\n",
       " 'socmed_6',\n",
       " 'socmed_3',\n",
       " 'selfmon6',\n",
       " 'selfmon3',\n",
       " 'selfmon2',\n",
       " 'selfcensor',\n",
       " 'rural3',\n",
       " 'rr_scale',\n",
       " 'richpoor2',\n",
       " 'relig2a',\n",
       " 'regulate2',\n",
       " 'race7']"
      ]
     },
     "execution_count": 230,
     "metadata": {},
     "output_type": "execute_result"
    }
   ],
   "source": [
    "sorted(feat_import, key=feat_import.get, reverse=True)"
   ]
  },
  {
   "cell_type": "code",
   "execution_count": null,
   "metadata": {},
   "outputs": [],
   "source": [
    "plt.figure(figsize=(12,12), dpi = 500)\n",
    "plot_tree(tree_clf,\n",
    " feature_names = X.columns,\n",
    " filled = True, rounded = True)\n",
    "plt.title(\"Decision Tree Based on All Features\")\n",
    "plt.show()"
   ]
  },
  {
   "cell_type": "markdown",
   "metadata": {},
   "source": [
    "# logistic model after decison tree feature importance "
   ]
  },
  {
   "cell_type": "code",
   "execution_count": 241,
   "metadata": {},
   "outputs": [
    {
     "data": {
      "text/plain": [
       "LogisticRegression(random_state=42)"
      ]
     },
     "execution_count": 241,
     "metadata": {},
     "output_type": "execute_result"
    }
   ],
   "source": [
    "\n",
    "X = data_clean[['dtdignif',\n",
    " 'impact8',\n",
    " 'conf_covid2',\n",
    " 'fttransppl',\n",
    " 'viol1',\n",
    " 'fundmt2',\n",
    " 'wall7',\n",
    " 'lcr',\n",
    " 'ftpence1',\n",
    " 'conf_covid1',\n",
    " 'votemail2',\n",
    " 'whitejob',\n",
    " 'lcd',\n",
    " 'pidstr1',\n",
    " 'knowtran2_1',\n",
    " 'taxecon']]\n",
    "y = data_clean['covid_mis_score']\n",
    "\n",
    "X_train, X_test, y_train, y_test = train_test_split(X, y, test_size = 0.20, random_state = 42)\n",
    "\n",
    "\n",
    "scale = StandardScaler()\n",
    "X_train_scaled = scale.fit_transform(X_train)\n",
    "X_test_scaled = scale.transform(X_test)\n",
    "\n",
    "\n",
    "\n",
    "dt_log = LogisticRegression(random_state=42)\n",
    "dt_log.fit(X_train_scaled, y_train )"
   ]
  },
  {
   "cell_type": "code",
   "execution_count": 242,
   "metadata": {},
   "outputs": [
    {
     "name": "stdout",
     "output_type": "stream",
     "text": [
      "Train Recall Score: 0.6125356125356125\n",
      "Test Recall Score: 0.5853658536585366\n"
     ]
    }
   ],
   "source": [
    "y_pred_train = dt_log.predict(X_train_scaled)\n",
    "y_pred_test = dt_log.predict(X_test_scaled)\n",
    "\n",
    "print(f\"Train Recall Score: {recall_score(y_train, y_pred_train, average='weighted')}\")\n",
    "print(f\"Test Recall Score: {recall_score(y_test, y_pred_test, average='weighted')}\")"
   ]
  },
  {
   "cell_type": "code",
   "execution_count": null,
   "metadata": {},
   "outputs": [],
   "source": []
  }
 ],
 "metadata": {
  "kernelspec": {
   "display_name": "Python (learn-env)",
   "language": "python",
   "name": "learn-env"
  },
  "language_info": {
   "codemirror_mode": {
    "name": "ipython",
    "version": 3
   },
   "file_extension": ".py",
   "mimetype": "text/x-python",
   "name": "python",
   "nbconvert_exporter": "python",
   "pygments_lexer": "ipython3",
   "version": "3.8.5"
  }
 },
 "nbformat": 4,
 "nbformat_minor": 4
}
